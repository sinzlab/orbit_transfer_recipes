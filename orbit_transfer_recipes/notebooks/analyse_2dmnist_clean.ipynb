{
 "cells": [
  {
   "cell_type": "code",
   "execution_count": 1,
   "metadata": {},
   "outputs": [],
   "source": [
    "%matplotlib inline\n",
    "%load_ext autoreload\n",
    "%autoreload 2\n",
    "import sys\n",
    "import matplotlib.pyplot as plt\n",
    "import numpy as np\n",
    "import os\n",
    "from pathlib import Path"
   ]
  },
  {
   "cell_type": "markdown",
   "metadata": {},
   "source": [
    "### Load the experiment and corresponding libraries"
   ]
  },
  {
   "cell_type": "code",
   "execution_count": 2,
   "metadata": {},
   "outputs": [],
   "source": [
    "project_path = os.path.join(Path.home(), \"projects\")\n",
    "sys.path.append(project_path)  # enable import of \"bias_transfer_recipes\"\n",
    "os.chdir(os.path.join(project_path,\"bias_transfer_recipes/work/\"))"
   ]
  },
  {
   "cell_type": "code",
   "execution_count": 3,
   "metadata": {},
   "outputs": [
    {
     "name": "stdout",
     "output_type": "stream",
     "text": [
      "Connecting anix@134.76.19.44:3306\n"
     ]
    }
   ],
   "source": [
    "from bias_transfer_recipes.bias_transfer_recipes.main import load_experiment\n",
    "experiment = load_experiment(recipe=\"_2021_09_24_aistats\", \n",
    "                             experiment=\"mnist_st\", \n",
    "                             schema=\"\",  # schema name will automatically be generated from recipe and experiment names \n",
    "                             base_dir=os.path.join(project_path,\"bias_transfer_recipes/bias_transfer_recipes/\"),\n",
    "                             import_prefix=\"bias_transfer_recipes.bias_transfer_recipes.\", \n",
    "                             dev_mode=False  \n",
    "                            )"
   ]
  },
  {
   "cell_type": "code",
   "execution_count": 4,
   "metadata": {},
   "outputs": [
    {
     "name": "stdout",
     "output_type": "stream",
     "text": [
      "Connecting anix@134.76.19.44:3306\n"
     ]
    },
    {
     "data": {
      "text/plain": [
       "Schema `bias_transfer__2021_09_24_aistats`"
      ]
     },
     "execution_count": 4,
     "metadata": {},
     "output_type": "execute_result"
    }
   ],
   "source": [
    "from nntransfer.tables.transfer import *\n",
    "from nntransfer.tables.nnfabrik import *\n",
    "from nntransfer.analysis.plot import plot, save_plot\n",
    "from nntransfer.configs.base import Description\n",
    "import nnfabrik as nnf\n",
    "schema"
   ]
  },
  {
   "cell_type": "markdown",
   "metadata": {},
   "source": [
    "### Retrieve orbit experiment and plot kernels + transformed inputs"
   ]
  },
  {
   "cell_type": "code",
   "execution_count": 5,
   "metadata": {},
   "outputs": [
    {
     "data": {
      "text/plain": [
       "dict_keys([Description(name='MNIST Experiment Teacher Translation Invariant', seed=42), Description(name='Translation Invariant Equivariance Transfer (first_layer_transform: False, id:10.0, equiv:1.0, inv:1.0, ce:1.0)', seed=42), Description(name='Translation Invariant Equivariance Transfer (first_layer_transform: False, id:10.0, equiv:1.0, inv:1.0, ce:0.0)', seed=42), Description(name='Translation Invariant Equivariance Transfer (first_layer_transform: False, id:10.0, equiv:0.0, inv:1.0, ce:1.0)', seed=42), Description(name='Translation Invariant Equivariance Transfer (first_layer_transform: False, id:10.0, equiv:0.0, inv:1.0, ce:0.0)', seed=42), Description(name='Translation Invariant Equivariance Transfer (first_layer_transform: False, id:10.0, equiv:1.0, inv:0.0, ce:1.0)', seed=42), Description(name='Translation Invariant Equivariance Transfer (first_layer_transform: False, id:10.0, equiv:1.0, inv:0.0, ce:0.0)', seed=42), Description(name='Translation Invariant Equivariance Transfer (first_layer_transform: False, id:10.0, equiv:0.0, inv:0.0, ce:1.0)', seed=42), Description(name='Translation Invariant Equivariance Transfer (first_layer_transform: False, id:10.0, equiv:0.0, inv:0.0, ce:0.0)', seed=42), Description(name='Translation Invariant Equivariance Transfer (first_layer_transform: False, id:1.0, equiv:1.0, inv:1.0, ce:1.0)', seed=42), Description(name='Translation Invariant Equivariance Transfer (first_layer_transform: False, id:1.0, equiv:1.0, inv:1.0, ce:0.0)', seed=42), Description(name='Translation Invariant Equivariance Transfer (first_layer_transform: False, id:1.0, equiv:0.0, inv:1.0, ce:1.0)', seed=42), Description(name='Translation Invariant Equivariance Transfer (first_layer_transform: False, id:1.0, equiv:0.0, inv:1.0, ce:0.0)', seed=42), Description(name='Translation Invariant Equivariance Transfer (first_layer_transform: False, id:1.0, equiv:1.0, inv:0.0, ce:1.0)', seed=42), Description(name='Translation Invariant Equivariance Transfer (first_layer_transform: False, id:1.0, equiv:1.0, inv:0.0, ce:0.0)', seed=42), Description(name='Translation Invariant Equivariance Transfer (first_layer_transform: False, id:1.0, equiv:0.0, inv:0.0, ce:1.0)', seed=42), Description(name='Translation Invariant Equivariance Transfer (first_layer_transform: False, id:1.0, equiv:0.0, inv:0.0, ce:0.0)', seed=42), Description(name='Translation Invariant Equivariance Transfer (first_layer_transform: False, id:0.0, equiv:1.0, inv:1.0, ce:1.0)', seed=42), Description(name='Translation Invariant Equivariance Transfer (first_layer_transform: False, id:0.0, equiv:1.0, inv:1.0, ce:0.0)', seed=42), Description(name='Translation Invariant Equivariance Transfer (first_layer_transform: False, id:0.0, equiv:0.0, inv:1.0, ce:1.0)', seed=42), Description(name='Translation Invariant Equivariance Transfer (first_layer_transform: False, id:0.0, equiv:0.0, inv:1.0, ce:0.0)', seed=42), Description(name='Translation Invariant Equivariance Transfer (first_layer_transform: False, id:0.0, equiv:1.0, inv:0.0, ce:1.0)', seed=42), Description(name='Translation Invariant Equivariance Transfer (first_layer_transform: False, id:0.0, equiv:1.0, inv:0.0, ce:0.0)', seed=42), Description(name='Translation Invariant Equivariance Transfer (first_layer_transform: False, id:0.0, equiv:0.0, inv:0.0, ce:1.0)', seed=42), Description(name='Translation Invariant Equivariance Transfer (first_layer_transform: False, id:0.0, equiv:0.0, inv:0.0, ce:0.0)', seed=42), Description(name='Translation Invariant Equivariance Transfer (first_layer_transform: True, id:10.0, equiv:1.0, inv:1.0, ce:1.0)', seed=42), Description(name='Translation Invariant Equivariance Transfer (first_layer_transform: True, id:10.0, equiv:1.0, inv:1.0, ce:0.0)', seed=42), Description(name='Translation Invariant Equivariance Transfer (first_layer_transform: True, id:10.0, equiv:0.0, inv:1.0, ce:1.0)', seed=42), Description(name='Translation Invariant Equivariance Transfer (first_layer_transform: True, id:10.0, equiv:0.0, inv:1.0, ce:0.0)', seed=42), Description(name='Translation Invariant Equivariance Transfer (first_layer_transform: True, id:10.0, equiv:1.0, inv:0.0, ce:1.0)', seed=42), Description(name='Translation Invariant Equivariance Transfer (first_layer_transform: True, id:10.0, equiv:1.0, inv:0.0, ce:0.0)', seed=42), Description(name='Translation Invariant Equivariance Transfer (first_layer_transform: True, id:10.0, equiv:0.0, inv:0.0, ce:1.0)', seed=42), Description(name='Translation Invariant Equivariance Transfer (first_layer_transform: True, id:10.0, equiv:0.0, inv:0.0, ce:0.0)', seed=42), Description(name='Translation Invariant Equivariance Transfer (first_layer_transform: True, id:1.0, equiv:1.0, inv:1.0, ce:1.0)', seed=42), Description(name='Translation Invariant Equivariance Transfer (first_layer_transform: True, id:1.0, equiv:1.0, inv:1.0, ce:0.0)', seed=42), Description(name='Translation Invariant Equivariance Transfer (first_layer_transform: True, id:1.0, equiv:0.0, inv:1.0, ce:1.0)', seed=42), Description(name='Translation Invariant Equivariance Transfer (first_layer_transform: True, id:1.0, equiv:0.0, inv:1.0, ce:0.0)', seed=42), Description(name='Translation Invariant Equivariance Transfer (first_layer_transform: True, id:1.0, equiv:1.0, inv:0.0, ce:1.0)', seed=42), Description(name='Translation Invariant Equivariance Transfer (first_layer_transform: True, id:1.0, equiv:1.0, inv:0.0, ce:0.0)', seed=42), Description(name='Translation Invariant Equivariance Transfer (first_layer_transform: True, id:1.0, equiv:0.0, inv:0.0, ce:1.0)', seed=42), Description(name='Translation Invariant Equivariance Transfer (first_layer_transform: True, id:1.0, equiv:0.0, inv:0.0, ce:0.0)', seed=42), Description(name='Translation Invariant Equivariance Transfer (first_layer_transform: True, id:0.0, equiv:1.0, inv:1.0, ce:1.0)', seed=42), Description(name='Translation Invariant Equivariance Transfer (first_layer_transform: True, id:0.0, equiv:1.0, inv:1.0, ce:0.0)', seed=42), Description(name='Translation Invariant Equivariance Transfer (first_layer_transform: True, id:0.0, equiv:0.0, inv:1.0, ce:1.0)', seed=42), Description(name='Translation Invariant Equivariance Transfer (first_layer_transform: True, id:0.0, equiv:0.0, inv:1.0, ce:0.0)', seed=42), Description(name='Translation Invariant Equivariance Transfer (first_layer_transform: True, id:0.0, equiv:1.0, inv:0.0, ce:1.0)', seed=42), Description(name='Translation Invariant Equivariance Transfer (first_layer_transform: True, id:0.0, equiv:1.0, inv:0.0, ce:0.0)', seed=42), Description(name='Translation Invariant Equivariance Transfer (first_layer_transform: True, id:0.0, equiv:0.0, inv:0.0, ce:1.0)', seed=42), Description(name='Translation Invariant Equivariance Transfer (first_layer_transform: True, id:0.0, equiv:0.0, inv:0.0, ce:0.0)', seed=42)])"
      ]
     },
     "execution_count": 5,
     "metadata": {},
     "output_type": "execute_result"
    }
   ],
   "source": [
    "experiment.transfer_experiments.keys()"
   ]
  },
  {
   "cell_type": "code",
   "execution_count": 6,
   "metadata": {},
   "outputs": [
    {
     "ename": "KeyError",
     "evalue": "Description(name='Translation Invariant Equivariance Transfer (repititions:1, id_between_filters:True, id_factor:10.0)', seed=42)",
     "output_type": "error",
     "traceback": [
      "\u001b[0;31m---------------------------------------------------------------------------\u001b[0m",
      "\u001b[0;31mKeyError\u001b[0m                                  Traceback (most recent call last)",
      "\u001b[0;32m<ipython-input-6-4122e883c412>\u001b[0m in \u001b[0;36m<module>\u001b[0;34m\u001b[0m\n\u001b[0;32m----> 1\u001b[0;31m \u001b[0mexp\u001b[0m \u001b[0;34m=\u001b[0m \u001b[0mexperiment\u001b[0m\u001b[0;34m.\u001b[0m\u001b[0mtransfer_experiments\u001b[0m\u001b[0;34m[\u001b[0m\u001b[0mDescription\u001b[0m\u001b[0;34m(\u001b[0m\u001b[0mname\u001b[0m\u001b[0;34m=\u001b[0m\u001b[0;34m'Translation Invariant Equivariance Transfer (repititions:1, id_between_filters:True, id_factor:10.0)'\u001b[0m\u001b[0;34m,\u001b[0m \u001b[0mseed\u001b[0m\u001b[0;34m=\u001b[0m\u001b[0;36m42\u001b[0m\u001b[0;34m)\u001b[0m\u001b[0;34m]\u001b[0m\u001b[0;34m\u001b[0m\u001b[0;34m\u001b[0m\u001b[0m\n\u001b[0m\u001b[1;32m      2\u001b[0m \u001b[0mTransferredTrainedModel\u001b[0m\u001b[0;34m(\u001b[0m\u001b[0;34m)\u001b[0m \u001b[0;34m&\u001b[0m \u001b[0mexp\u001b[0m\u001b[0;34m.\u001b[0m\u001b[0mget_restrictions\u001b[0m\u001b[0;34m(\u001b[0m\u001b[0;36m1\u001b[0m\u001b[0;34m)\u001b[0m\u001b[0;34m\u001b[0m\u001b[0;34m\u001b[0m\u001b[0m\n",
      "\u001b[0;31mKeyError\u001b[0m: Description(name='Translation Invariant Equivariance Transfer (repititions:1, id_between_filters:True, id_factor:10.0)', seed=42)"
     ]
    }
   ],
   "source": [
    "exp = experiment.transfer_experiments[Description(name='Translation Invariant Equivariance Transfer (repititions:1, id_between_filters:True, id_factor:10.0)', seed=42)]\n",
    "TransferredTrainedModel() & exp.get_restrictions(1)"
   ]
  },
  {
   "cell_type": "code",
   "execution_count": 7,
   "metadata": {},
   "outputs": [
    {
     "ename": "KeyboardInterrupt",
     "evalue": "",
     "output_type": "error",
     "traceback": [
      "\u001b[0;31m---------------------------------------------------------------------------\u001b[0m",
      "\u001b[0;31mKeyboardInterrupt\u001b[0m                         Traceback (most recent call last)",
      "\u001b[0;32m<ipython-input-7-57f56ceb0922>\u001b[0m in \u001b[0;36m<module>\u001b[0;34m\u001b[0m\n\u001b[1;32m      2\u001b[0m \u001b[0;32mimport\u001b[0m \u001b[0mtorch\u001b[0m\u001b[0;34m\u001b[0m\u001b[0;34m\u001b[0m\u001b[0m\n\u001b[1;32m      3\u001b[0m \u001b[0;32mwith\u001b[0m \u001b[0mtempfile\u001b[0m\u001b[0;34m.\u001b[0m\u001b[0mTemporaryDirectory\u001b[0m\u001b[0;34m(\u001b[0m\u001b[0;34m)\u001b[0m \u001b[0;32mas\u001b[0m \u001b[0mtemp_dir\u001b[0m\u001b[0;34m:\u001b[0m\u001b[0;34m\u001b[0m\u001b[0;34m\u001b[0m\u001b[0m\n\u001b[0;32m----> 4\u001b[0;31m     \u001b[0mstate\u001b[0m \u001b[0;34m=\u001b[0m \u001b[0;34m(\u001b[0m\u001b[0;34m(\u001b[0m\u001b[0mTransferredTrainedModel\u001b[0m\u001b[0;34m(\u001b[0m\u001b[0;34m)\u001b[0m \u001b[0;34m&\u001b[0m \u001b[0mexp\u001b[0m\u001b[0;34m.\u001b[0m\u001b[0mget_restrictions\u001b[0m\u001b[0;34m(\u001b[0m\u001b[0;36m1\u001b[0m\u001b[0;34m)\u001b[0m\u001b[0;34m)\u001b[0m \u001b[0;34m*\u001b[0m \u001b[0mTransferredTrainedModel\u001b[0m\u001b[0;34m.\u001b[0m\u001b[0mModelStorage\u001b[0m\u001b[0;34m(\u001b[0m\u001b[0;34m)\u001b[0m\u001b[0;34m)\u001b[0m\u001b[0;34m.\u001b[0m\u001b[0mfetch1\u001b[0m\u001b[0;34m(\u001b[0m\u001b[0;34m\"model_state\"\u001b[0m\u001b[0;34m,\u001b[0m \u001b[0mdownload_path\u001b[0m\u001b[0;34m=\u001b[0m\u001b[0mtemp_dir\u001b[0m\u001b[0;34m)\u001b[0m\u001b[0;34m\u001b[0m\u001b[0;34m\u001b[0m\u001b[0m\n\u001b[0m\u001b[1;32m      5\u001b[0m     \u001b[0mstate_dict\u001b[0m \u001b[0;34m=\u001b[0m \u001b[0mtorch\u001b[0m\u001b[0;34m.\u001b[0m\u001b[0mload\u001b[0m\u001b[0;34m(\u001b[0m\u001b[0mstate\u001b[0m\u001b[0;34m)\u001b[0m\u001b[0;34m\u001b[0m\u001b[0;34m\u001b[0m\u001b[0m\n\u001b[1;32m      6\u001b[0m \u001b[0mkernels\u001b[0m \u001b[0;34m=\u001b[0m \u001b[0mstate_dict\u001b[0m\u001b[0;34m[\u001b[0m\u001b[0;34m\"kernels\"\u001b[0m\u001b[0;34m]\u001b[0m\u001b[0;34m.\u001b[0m\u001b[0mcpu\u001b[0m\u001b[0;34m(\u001b[0m\u001b[0;34m)\u001b[0m\u001b[0;34m.\u001b[0m\u001b[0mnumpy\u001b[0m\u001b[0;34m(\u001b[0m\u001b[0;34m)\u001b[0m\u001b[0;34m\u001b[0m\u001b[0;34m\u001b[0m\u001b[0m\n",
      "\u001b[0;32m/usr/local/lib/python3.8/dist-packages/datajoint/fetch.py\u001b[0m in \u001b[0;36m__call__\u001b[0;34m(self, squeeze, download_path, *attrs)\u001b[0m\n\u001b[1;32m    239\u001b[0m         \u001b[0;32melse\u001b[0m\u001b[0;34m:\u001b[0m  \u001b[0;31m# fetch some attributes, return as tuple\u001b[0m\u001b[0;34m\u001b[0m\u001b[0;34m\u001b[0m\u001b[0m\n\u001b[1;32m    240\u001b[0m             \u001b[0mattributes\u001b[0m \u001b[0;34m=\u001b[0m \u001b[0;34m[\u001b[0m\u001b[0ma\u001b[0m \u001b[0;32mfor\u001b[0m \u001b[0ma\u001b[0m \u001b[0;32min\u001b[0m \u001b[0mattrs\u001b[0m \u001b[0;32mif\u001b[0m \u001b[0;32mnot\u001b[0m \u001b[0mis_key\u001b[0m\u001b[0;34m(\u001b[0m\u001b[0ma\u001b[0m\u001b[0;34m)\u001b[0m\u001b[0;34m]\u001b[0m\u001b[0;34m\u001b[0m\u001b[0;34m\u001b[0m\u001b[0m\n\u001b[0;32m--> 241\u001b[0;31m             \u001b[0mresult\u001b[0m \u001b[0;34m=\u001b[0m \u001b[0mself\u001b[0m\u001b[0;34m.\u001b[0m\u001b[0m_expression\u001b[0m\u001b[0;34m.\u001b[0m\u001b[0mproj\u001b[0m\u001b[0;34m(\u001b[0m\u001b[0;34m*\u001b[0m\u001b[0mattributes\u001b[0m\u001b[0;34m)\u001b[0m\u001b[0;34m.\u001b[0m\u001b[0mfetch\u001b[0m\u001b[0;34m(\u001b[0m\u001b[0msqueeze\u001b[0m\u001b[0;34m=\u001b[0m\u001b[0msqueeze\u001b[0m\u001b[0;34m,\u001b[0m \u001b[0mdownload_path\u001b[0m\u001b[0;34m=\u001b[0m\u001b[0mdownload_path\u001b[0m\u001b[0;34m)\u001b[0m\u001b[0;34m\u001b[0m\u001b[0;34m\u001b[0m\u001b[0m\n\u001b[0m\u001b[1;32m    242\u001b[0m             \u001b[0;32mif\u001b[0m \u001b[0mlen\u001b[0m\u001b[0;34m(\u001b[0m\u001b[0mresult\u001b[0m\u001b[0;34m)\u001b[0m \u001b[0;34m!=\u001b[0m \u001b[0;36m1\u001b[0m\u001b[0;34m:\u001b[0m\u001b[0;34m\u001b[0m\u001b[0;34m\u001b[0m\u001b[0m\n\u001b[1;32m    243\u001b[0m                 \u001b[0;32mraise\u001b[0m \u001b[0mDataJointError\u001b[0m\u001b[0;34m(\u001b[0m\u001b[0;34m'fetch1 should only return one tuple. %d tuples were found'\u001b[0m \u001b[0;34m%\u001b[0m \u001b[0mlen\u001b[0m\u001b[0;34m(\u001b[0m\u001b[0mresult\u001b[0m\u001b[0;34m)\u001b[0m\u001b[0;34m)\u001b[0m\u001b[0;34m\u001b[0m\u001b[0;34m\u001b[0m\u001b[0m\n",
      "\u001b[0;32m/usr/local/lib/python3.8/dist-packages/datajoint/fetch.py\u001b[0m in \u001b[0;36m__call__\u001b[0;34m(self, offset, limit, order_by, format, as_dict, squeeze, download_path, *attrs)\u001b[0m\n\u001b[1;32m    197\u001b[0m                     \u001b[0;32mraise\u001b[0m\u001b[0;34m\u001b[0m\u001b[0;34m\u001b[0m\u001b[0m\n\u001b[1;32m    198\u001b[0m                 \u001b[0;32mfor\u001b[0m \u001b[0mname\u001b[0m \u001b[0;32min\u001b[0m \u001b[0mheading\u001b[0m\u001b[0;34m:\u001b[0m\u001b[0;34m\u001b[0m\u001b[0;34m\u001b[0m\u001b[0m\n\u001b[0;32m--> 199\u001b[0;31m                     \u001b[0mret\u001b[0m\u001b[0;34m[\u001b[0m\u001b[0mname\u001b[0m\u001b[0;34m]\u001b[0m \u001b[0;34m=\u001b[0m \u001b[0mlist\u001b[0m\u001b[0;34m(\u001b[0m\u001b[0mmap\u001b[0m\u001b[0;34m(\u001b[0m\u001b[0mpartial\u001b[0m\u001b[0;34m(\u001b[0m\u001b[0mget\u001b[0m\u001b[0;34m,\u001b[0m \u001b[0mheading\u001b[0m\u001b[0;34m[\u001b[0m\u001b[0mname\u001b[0m\u001b[0;34m]\u001b[0m\u001b[0;34m)\u001b[0m\u001b[0;34m,\u001b[0m \u001b[0mret\u001b[0m\u001b[0;34m[\u001b[0m\u001b[0mname\u001b[0m\u001b[0;34m]\u001b[0m\u001b[0;34m)\u001b[0m\u001b[0;34m)\u001b[0m\u001b[0;34m\u001b[0m\u001b[0;34m\u001b[0m\u001b[0m\n\u001b[0m\u001b[1;32m    200\u001b[0m                 \u001b[0;32mif\u001b[0m \u001b[0mformat\u001b[0m \u001b[0;34m==\u001b[0m \u001b[0;34m\"frame\"\u001b[0m\u001b[0;34m:\u001b[0m\u001b[0;34m\u001b[0m\u001b[0;34m\u001b[0m\u001b[0m\n\u001b[1;32m    201\u001b[0m                     \u001b[0mret\u001b[0m \u001b[0;34m=\u001b[0m \u001b[0mpandas\u001b[0m\u001b[0;34m.\u001b[0m\u001b[0mDataFrame\u001b[0m\u001b[0;34m(\u001b[0m\u001b[0mret\u001b[0m\u001b[0;34m)\u001b[0m\u001b[0;34m.\u001b[0m\u001b[0mset_index\u001b[0m\u001b[0;34m(\u001b[0m\u001b[0mheading\u001b[0m\u001b[0;34m.\u001b[0m\u001b[0mprimary_key\u001b[0m\u001b[0;34m)\u001b[0m\u001b[0;34m\u001b[0m\u001b[0;34m\u001b[0m\u001b[0m\n",
      "\u001b[0;32m/usr/local/lib/python3.8/dist-packages/datajoint/fetch.py\u001b[0m in \u001b[0;36m_get\u001b[0;34m(connection, attr, data, squeeze, download_path)\u001b[0m\n\u001b[1;32m     77\u001b[0m         \u001b[0;31m# Save attachment\u001b[0m\u001b[0;34m\u001b[0m\u001b[0;34m\u001b[0m\u001b[0;34m\u001b[0m\u001b[0m\n\u001b[1;32m     78\u001b[0m         \u001b[0;32mif\u001b[0m \u001b[0mattr\u001b[0m\u001b[0;34m.\u001b[0m\u001b[0mis_external\u001b[0m\u001b[0;34m:\u001b[0m\u001b[0;34m\u001b[0m\u001b[0;34m\u001b[0m\u001b[0m\n\u001b[0;32m---> 79\u001b[0;31m             \u001b[0mextern\u001b[0m\u001b[0;34m.\u001b[0m\u001b[0mdownload_attachment\u001b[0m\u001b[0;34m(\u001b[0m\u001b[0m_uuid\u001b[0m\u001b[0;34m,\u001b[0m \u001b[0mattachment_name\u001b[0m\u001b[0;34m,\u001b[0m \u001b[0mlocal_filepath\u001b[0m\u001b[0;34m)\u001b[0m\u001b[0;34m\u001b[0m\u001b[0;34m\u001b[0m\u001b[0m\n\u001b[0m\u001b[1;32m     80\u001b[0m         \u001b[0;32melse\u001b[0m\u001b[0;34m:\u001b[0m\u001b[0;34m\u001b[0m\u001b[0;34m\u001b[0m\u001b[0m\n\u001b[1;32m     81\u001b[0m             \u001b[0;31m# write from buffer\u001b[0m\u001b[0;34m\u001b[0m\u001b[0;34m\u001b[0m\u001b[0;34m\u001b[0m\u001b[0m\n",
      "\u001b[0;32m/usr/local/lib/python3.8/dist-packages/datajoint/external.py\u001b[0m in \u001b[0;36mdownload_attachment\u001b[0;34m(self, uuid, attachment_name, download_path)\u001b[0m\n\u001b[1;32m    213\u001b[0m         \u001b[0;34m\"\"\" save attachment from memory buffer into the save_path \"\"\"\u001b[0m\u001b[0;34m\u001b[0m\u001b[0;34m\u001b[0m\u001b[0m\n\u001b[1;32m    214\u001b[0m         \u001b[0mexternal_path\u001b[0m \u001b[0;34m=\u001b[0m \u001b[0mself\u001b[0m\u001b[0;34m.\u001b[0m\u001b[0m_make_uuid_path\u001b[0m\u001b[0;34m(\u001b[0m\u001b[0muuid\u001b[0m\u001b[0;34m,\u001b[0m \u001b[0;34m'.'\u001b[0m \u001b[0;34m+\u001b[0m \u001b[0mattachment_name\u001b[0m\u001b[0;34m)\u001b[0m\u001b[0;34m\u001b[0m\u001b[0;34m\u001b[0m\u001b[0m\n\u001b[0;32m--> 215\u001b[0;31m         \u001b[0mself\u001b[0m\u001b[0;34m.\u001b[0m\u001b[0m_download_file\u001b[0m\u001b[0;34m(\u001b[0m\u001b[0mexternal_path\u001b[0m\u001b[0;34m,\u001b[0m \u001b[0mdownload_path\u001b[0m\u001b[0;34m)\u001b[0m\u001b[0;34m\u001b[0m\u001b[0;34m\u001b[0m\u001b[0m\n\u001b[0m\u001b[1;32m    216\u001b[0m \u001b[0;34m\u001b[0m\u001b[0m\n\u001b[1;32m    217\u001b[0m     \u001b[0;31m# --- FILEPATH ---\u001b[0m\u001b[0;34m\u001b[0m\u001b[0;34m\u001b[0m\u001b[0;34m\u001b[0m\u001b[0m\n",
      "\u001b[0;32m/usr/local/lib/python3.8/dist-packages/datajoint/external.py\u001b[0m in \u001b[0;36m_download_file\u001b[0;34m(self, external_path, download_path)\u001b[0m\n\u001b[1;32m    105\u001b[0m     \u001b[0;32mdef\u001b[0m \u001b[0m_download_file\u001b[0m\u001b[0;34m(\u001b[0m\u001b[0mself\u001b[0m\u001b[0;34m,\u001b[0m \u001b[0mexternal_path\u001b[0m\u001b[0;34m,\u001b[0m \u001b[0mdownload_path\u001b[0m\u001b[0;34m)\u001b[0m\u001b[0;34m:\u001b[0m\u001b[0;34m\u001b[0m\u001b[0;34m\u001b[0m\u001b[0m\n\u001b[1;32m    106\u001b[0m         \u001b[0;32mif\u001b[0m \u001b[0mself\u001b[0m\u001b[0;34m.\u001b[0m\u001b[0mspec\u001b[0m\u001b[0;34m[\u001b[0m\u001b[0;34m'protocol'\u001b[0m\u001b[0;34m]\u001b[0m \u001b[0;34m==\u001b[0m \u001b[0;34m's3'\u001b[0m\u001b[0;34m:\u001b[0m\u001b[0;34m\u001b[0m\u001b[0;34m\u001b[0m\u001b[0m\n\u001b[0;32m--> 107\u001b[0;31m             \u001b[0mself\u001b[0m\u001b[0;34m.\u001b[0m\u001b[0ms3\u001b[0m\u001b[0;34m.\u001b[0m\u001b[0mfget\u001b[0m\u001b[0;34m(\u001b[0m\u001b[0mexternal_path\u001b[0m\u001b[0;34m,\u001b[0m \u001b[0mdownload_path\u001b[0m\u001b[0;34m)\u001b[0m\u001b[0;34m\u001b[0m\u001b[0;34m\u001b[0m\u001b[0m\n\u001b[0m\u001b[1;32m    108\u001b[0m         \u001b[0;32melif\u001b[0m \u001b[0mself\u001b[0m\u001b[0;34m.\u001b[0m\u001b[0mspec\u001b[0m\u001b[0;34m[\u001b[0m\u001b[0;34m'protocol'\u001b[0m\u001b[0;34m]\u001b[0m \u001b[0;34m==\u001b[0m \u001b[0;34m'file'\u001b[0m\u001b[0;34m:\u001b[0m\u001b[0;34m\u001b[0m\u001b[0;34m\u001b[0m\u001b[0m\n\u001b[1;32m    109\u001b[0m             \u001b[0msafe_copy\u001b[0m\u001b[0;34m(\u001b[0m\u001b[0mexternal_path\u001b[0m\u001b[0;34m,\u001b[0m \u001b[0mdownload_path\u001b[0m\u001b[0;34m)\u001b[0m\u001b[0;34m\u001b[0m\u001b[0;34m\u001b[0m\u001b[0m\n",
      "\u001b[0;32m/usr/local/lib/python3.8/dist-packages/datajoint/external.py\u001b[0m in \u001b[0;36ms3\u001b[0;34m(self)\u001b[0m\n\u001b[1;32m     68\u001b[0m     \u001b[0;32mdef\u001b[0m \u001b[0ms3\u001b[0m\u001b[0;34m(\u001b[0m\u001b[0mself\u001b[0m\u001b[0;34m)\u001b[0m\u001b[0;34m:\u001b[0m\u001b[0;34m\u001b[0m\u001b[0;34m\u001b[0m\u001b[0m\n\u001b[1;32m     69\u001b[0m         \u001b[0;32mif\u001b[0m \u001b[0mself\u001b[0m\u001b[0;34m.\u001b[0m\u001b[0m_s3\u001b[0m \u001b[0;32mis\u001b[0m \u001b[0;32mNone\u001b[0m\u001b[0;34m:\u001b[0m\u001b[0;34m\u001b[0m\u001b[0;34m\u001b[0m\u001b[0m\n\u001b[0;32m---> 70\u001b[0;31m             \u001b[0mself\u001b[0m\u001b[0;34m.\u001b[0m\u001b[0m_s3\u001b[0m \u001b[0;34m=\u001b[0m \u001b[0ms3\u001b[0m\u001b[0;34m.\u001b[0m\u001b[0mFolder\u001b[0m\u001b[0;34m(\u001b[0m\u001b[0;34m**\u001b[0m\u001b[0mself\u001b[0m\u001b[0;34m.\u001b[0m\u001b[0mspec\u001b[0m\u001b[0;34m)\u001b[0m\u001b[0;34m\u001b[0m\u001b[0;34m\u001b[0m\u001b[0m\n\u001b[0m\u001b[1;32m     71\u001b[0m         \u001b[0;32mreturn\u001b[0m \u001b[0mself\u001b[0m\u001b[0;34m.\u001b[0m\u001b[0m_s3\u001b[0m\u001b[0;34m\u001b[0m\u001b[0;34m\u001b[0m\u001b[0m\n\u001b[1;32m     72\u001b[0m \u001b[0;34m\u001b[0m\u001b[0m\n",
      "\u001b[0;32m/usr/local/lib/python3.8/dist-packages/datajoint/s3.py\u001b[0m in \u001b[0;36m__init__\u001b[0;34m(self, endpoint, bucket, access_key, secret_key, secure, **_)\u001b[0m\n\u001b[1;32m     17\u001b[0m         \u001b[0mself\u001b[0m\u001b[0;34m.\u001b[0m\u001b[0mclient\u001b[0m \u001b[0;34m=\u001b[0m \u001b[0mminio\u001b[0m\u001b[0;34m.\u001b[0m\u001b[0mMinio\u001b[0m\u001b[0;34m(\u001b[0m\u001b[0mendpoint\u001b[0m\u001b[0;34m,\u001b[0m \u001b[0maccess_key\u001b[0m\u001b[0;34m=\u001b[0m\u001b[0maccess_key\u001b[0m\u001b[0;34m,\u001b[0m \u001b[0msecret_key\u001b[0m\u001b[0;34m=\u001b[0m\u001b[0msecret_key\u001b[0m\u001b[0;34m,\u001b[0m \u001b[0msecure\u001b[0m\u001b[0;34m=\u001b[0m\u001b[0msecure\u001b[0m\u001b[0;34m)\u001b[0m\u001b[0;34m\u001b[0m\u001b[0;34m\u001b[0m\u001b[0m\n\u001b[1;32m     18\u001b[0m         \u001b[0mself\u001b[0m\u001b[0;34m.\u001b[0m\u001b[0mbucket\u001b[0m \u001b[0;34m=\u001b[0m \u001b[0mbucket\u001b[0m\u001b[0;34m\u001b[0m\u001b[0;34m\u001b[0m\u001b[0m\n\u001b[0;32m---> 19\u001b[0;31m         \u001b[0;32mif\u001b[0m \u001b[0;32mnot\u001b[0m \u001b[0mself\u001b[0m\u001b[0;34m.\u001b[0m\u001b[0mclient\u001b[0m\u001b[0;34m.\u001b[0m\u001b[0mbucket_exists\u001b[0m\u001b[0;34m(\u001b[0m\u001b[0mbucket\u001b[0m\u001b[0;34m)\u001b[0m\u001b[0;34m:\u001b[0m\u001b[0;34m\u001b[0m\u001b[0;34m\u001b[0m\u001b[0m\n\u001b[0m\u001b[1;32m     20\u001b[0m             \u001b[0mwarnings\u001b[0m\u001b[0;34m.\u001b[0m\u001b[0mwarn\u001b[0m\u001b[0;34m(\u001b[0m\u001b[0;34m'Creating bucket \"%s\"'\u001b[0m \u001b[0;34m%\u001b[0m \u001b[0mself\u001b[0m\u001b[0;34m.\u001b[0m\u001b[0mbucket\u001b[0m\u001b[0;34m)\u001b[0m\u001b[0;34m\u001b[0m\u001b[0;34m\u001b[0m\u001b[0m\n\u001b[1;32m     21\u001b[0m             \u001b[0mself\u001b[0m\u001b[0;34m.\u001b[0m\u001b[0mclient\u001b[0m\u001b[0;34m.\u001b[0m\u001b[0mmake_bucket\u001b[0m\u001b[0;34m(\u001b[0m\u001b[0mself\u001b[0m\u001b[0;34m.\u001b[0m\u001b[0mbucket\u001b[0m\u001b[0;34m)\u001b[0m\u001b[0;34m\u001b[0m\u001b[0;34m\u001b[0m\u001b[0m\n",
      "\u001b[0;32m/usr/local/lib/python3.8/dist-packages/minio/api.py\u001b[0m in \u001b[0;36mbucket_exists\u001b[0;34m(self, bucket_name)\u001b[0m\n\u001b[1;32m    402\u001b[0m \u001b[0;34m\u001b[0m\u001b[0m\n\u001b[1;32m    403\u001b[0m         \u001b[0;32mtry\u001b[0m\u001b[0;34m:\u001b[0m\u001b[0;34m\u001b[0m\u001b[0;34m\u001b[0m\u001b[0m\n\u001b[0;32m--> 404\u001b[0;31m             \u001b[0mself\u001b[0m\u001b[0;34m.\u001b[0m\u001b[0m_url_open\u001b[0m\u001b[0;34m(\u001b[0m\u001b[0;34m'HEAD'\u001b[0m\u001b[0;34m,\u001b[0m \u001b[0mbucket_name\u001b[0m\u001b[0;34m=\u001b[0m\u001b[0mbucket_name\u001b[0m\u001b[0;34m)\u001b[0m\u001b[0;34m\u001b[0m\u001b[0;34m\u001b[0m\u001b[0m\n\u001b[0m\u001b[1;32m    405\u001b[0m             \u001b[0;32mreturn\u001b[0m \u001b[0;32mTrue\u001b[0m\u001b[0;34m\u001b[0m\u001b[0;34m\u001b[0m\u001b[0m\n\u001b[1;32m    406\u001b[0m         \u001b[0;32mexcept\u001b[0m \u001b[0mNoSuchBucket\u001b[0m\u001b[0;34m:\u001b[0m\u001b[0;34m\u001b[0m\u001b[0;34m\u001b[0m\u001b[0m\n",
      "\u001b[0;32m/usr/local/lib/python3.8/dist-packages/minio/api.py\u001b[0m in \u001b[0;36m_url_open\u001b[0;34m(self, method, bucket_name, object_name, query, body, headers, content_sha256, preload_content)\u001b[0m\n\u001b[1;32m   2183\u001b[0m \u001b[0;34m\u001b[0m\u001b[0m\n\u001b[1;32m   2184\u001b[0m         \u001b[0;31m# Get bucket region.\u001b[0m\u001b[0;34m\u001b[0m\u001b[0;34m\u001b[0m\u001b[0;34m\u001b[0m\u001b[0m\n\u001b[0;32m-> 2185\u001b[0;31m         \u001b[0mregion\u001b[0m \u001b[0;34m=\u001b[0m \u001b[0mself\u001b[0m\u001b[0;34m.\u001b[0m\u001b[0m_get_bucket_region\u001b[0m\u001b[0;34m(\u001b[0m\u001b[0mbucket_name\u001b[0m\u001b[0;34m)\u001b[0m\u001b[0;34m\u001b[0m\u001b[0;34m\u001b[0m\u001b[0m\n\u001b[0m\u001b[1;32m   2186\u001b[0m \u001b[0;34m\u001b[0m\u001b[0m\n\u001b[1;32m   2187\u001b[0m         \u001b[0;31m# Construct target url.\u001b[0m\u001b[0;34m\u001b[0m\u001b[0;34m\u001b[0m\u001b[0;34m\u001b[0m\u001b[0m\n",
      "\u001b[0;32m/usr/local/lib/python3.8/dist-packages/minio/api.py\u001b[0m in \u001b[0;36m_get_bucket_region\u001b[0;34m(self, bucket_name)\u001b[0m\n\u001b[1;32m   2061\u001b[0m         \u001b[0mregion\u001b[0m \u001b[0;34m=\u001b[0m \u001b[0mself\u001b[0m\u001b[0;34m.\u001b[0m\u001b[0m_region\u001b[0m \u001b[0;32mor\u001b[0m \u001b[0mself\u001b[0m\u001b[0;34m.\u001b[0m\u001b[0m_region_map\u001b[0m\u001b[0;34m.\u001b[0m\u001b[0mget\u001b[0m\u001b[0;34m(\u001b[0m\u001b[0mbucket_name\u001b[0m\u001b[0;34m)\u001b[0m\u001b[0;34m\u001b[0m\u001b[0;34m\u001b[0m\u001b[0m\n\u001b[1;32m   2062\u001b[0m         \u001b[0;32mif\u001b[0m \u001b[0;32mnot\u001b[0m \u001b[0mregion\u001b[0m\u001b[0;34m:\u001b[0m\u001b[0;34m\u001b[0m\u001b[0;34m\u001b[0m\u001b[0m\n\u001b[0;32m-> 2063\u001b[0;31m             \u001b[0mregion\u001b[0m \u001b[0;34m=\u001b[0m \u001b[0mself\u001b[0m\u001b[0;34m.\u001b[0m\u001b[0m_get_bucket_location\u001b[0m\u001b[0;34m(\u001b[0m\u001b[0mbucket_name\u001b[0m\u001b[0;34m)\u001b[0m\u001b[0;34m\u001b[0m\u001b[0;34m\u001b[0m\u001b[0m\n\u001b[0m\u001b[1;32m   2064\u001b[0m             \u001b[0mself\u001b[0m\u001b[0;34m.\u001b[0m\u001b[0m_region_map\u001b[0m\u001b[0;34m[\u001b[0m\u001b[0mbucket_name\u001b[0m\u001b[0;34m]\u001b[0m \u001b[0;34m=\u001b[0m \u001b[0mregion\u001b[0m\u001b[0;34m\u001b[0m\u001b[0;34m\u001b[0m\u001b[0m\n\u001b[1;32m   2065\u001b[0m         \u001b[0;32mreturn\u001b[0m \u001b[0mregion\u001b[0m\u001b[0;34m\u001b[0m\u001b[0;34m\u001b[0m\u001b[0m\n",
      "\u001b[0;32m/usr/local/lib/python3.8/dist-packages/minio/api.py\u001b[0m in \u001b[0;36m_get_bucket_location\u001b[0;34m(self, bucket_name)\u001b[0m\n\u001b[1;32m   2094\u001b[0m                       self._trace_output_stream)\n\u001b[1;32m   2095\u001b[0m \u001b[0;34m\u001b[0m\u001b[0m\n\u001b[0;32m-> 2096\u001b[0;31m         response = self._http.urlopen(method, url,\n\u001b[0m\u001b[1;32m   2097\u001b[0m                                       \u001b[0mbody\u001b[0m\u001b[0;34m=\u001b[0m\u001b[0;32mNone\u001b[0m\u001b[0;34m,\u001b[0m\u001b[0;34m\u001b[0m\u001b[0;34m\u001b[0m\u001b[0m\n\u001b[1;32m   2098\u001b[0m                                       headers=headers)\n",
      "\u001b[0;32m/usr/lib/python3/dist-packages/urllib3/poolmanager.py\u001b[0m in \u001b[0;36murlopen\u001b[0;34m(self, method, url, redirect, **kw)\u001b[0m\n\u001b[1;32m    328\u001b[0m             \u001b[0mresponse\u001b[0m \u001b[0;34m=\u001b[0m \u001b[0mconn\u001b[0m\u001b[0;34m.\u001b[0m\u001b[0murlopen\u001b[0m\u001b[0;34m(\u001b[0m\u001b[0mmethod\u001b[0m\u001b[0;34m,\u001b[0m \u001b[0murl\u001b[0m\u001b[0;34m,\u001b[0m \u001b[0;34m**\u001b[0m\u001b[0mkw\u001b[0m\u001b[0;34m)\u001b[0m\u001b[0;34m\u001b[0m\u001b[0;34m\u001b[0m\u001b[0m\n\u001b[1;32m    329\u001b[0m         \u001b[0;32melse\u001b[0m\u001b[0;34m:\u001b[0m\u001b[0;34m\u001b[0m\u001b[0;34m\u001b[0m\u001b[0m\n\u001b[0;32m--> 330\u001b[0;31m             \u001b[0mresponse\u001b[0m \u001b[0;34m=\u001b[0m \u001b[0mconn\u001b[0m\u001b[0;34m.\u001b[0m\u001b[0murlopen\u001b[0m\u001b[0;34m(\u001b[0m\u001b[0mmethod\u001b[0m\u001b[0;34m,\u001b[0m \u001b[0mu\u001b[0m\u001b[0;34m.\u001b[0m\u001b[0mrequest_uri\u001b[0m\u001b[0;34m,\u001b[0m \u001b[0;34m**\u001b[0m\u001b[0mkw\u001b[0m\u001b[0;34m)\u001b[0m\u001b[0;34m\u001b[0m\u001b[0;34m\u001b[0m\u001b[0m\n\u001b[0m\u001b[1;32m    331\u001b[0m \u001b[0;34m\u001b[0m\u001b[0m\n\u001b[1;32m    332\u001b[0m         \u001b[0mredirect_location\u001b[0m \u001b[0;34m=\u001b[0m \u001b[0mredirect\u001b[0m \u001b[0;32mand\u001b[0m \u001b[0mresponse\u001b[0m\u001b[0;34m.\u001b[0m\u001b[0mget_redirect_location\u001b[0m\u001b[0;34m(\u001b[0m\u001b[0;34m)\u001b[0m\u001b[0;34m\u001b[0m\u001b[0;34m\u001b[0m\u001b[0m\n",
      "\u001b[0;32m/usr/lib/python3/dist-packages/urllib3/connectionpool.py\u001b[0m in \u001b[0;36murlopen\u001b[0;34m(self, method, url, body, headers, retries, redirect, assert_same_host, timeout, pool_timeout, release_conn, chunked, body_pos, **response_kw)\u001b[0m\n\u001b[1;32m    663\u001b[0m \u001b[0;34m\u001b[0m\u001b[0m\n\u001b[1;32m    664\u001b[0m             \u001b[0;31m# Make the request on the httplib connection object.\u001b[0m\u001b[0;34m\u001b[0m\u001b[0;34m\u001b[0m\u001b[0;34m\u001b[0m\u001b[0m\n\u001b[0;32m--> 665\u001b[0;31m             httplib_response = self._make_request(\n\u001b[0m\u001b[1;32m    666\u001b[0m                 \u001b[0mconn\u001b[0m\u001b[0;34m,\u001b[0m\u001b[0;34m\u001b[0m\u001b[0;34m\u001b[0m\u001b[0m\n\u001b[1;32m    667\u001b[0m                 \u001b[0mmethod\u001b[0m\u001b[0;34m,\u001b[0m\u001b[0;34m\u001b[0m\u001b[0;34m\u001b[0m\u001b[0m\n",
      "\u001b[0;32m/usr/lib/python3/dist-packages/urllib3/connectionpool.py\u001b[0m in \u001b[0;36m_make_request\u001b[0;34m(self, conn, method, url, timeout, chunked, **httplib_request_kw)\u001b[0m\n\u001b[1;32m    374\u001b[0m         \u001b[0;31m# Trigger any extra validation we need to do.\u001b[0m\u001b[0;34m\u001b[0m\u001b[0;34m\u001b[0m\u001b[0;34m\u001b[0m\u001b[0m\n\u001b[1;32m    375\u001b[0m         \u001b[0;32mtry\u001b[0m\u001b[0;34m:\u001b[0m\u001b[0;34m\u001b[0m\u001b[0;34m\u001b[0m\u001b[0m\n\u001b[0;32m--> 376\u001b[0;31m             \u001b[0mself\u001b[0m\u001b[0;34m.\u001b[0m\u001b[0m_validate_conn\u001b[0m\u001b[0;34m(\u001b[0m\u001b[0mconn\u001b[0m\u001b[0;34m)\u001b[0m\u001b[0;34m\u001b[0m\u001b[0;34m\u001b[0m\u001b[0m\n\u001b[0m\u001b[1;32m    377\u001b[0m         \u001b[0;32mexcept\u001b[0m \u001b[0;34m(\u001b[0m\u001b[0mSocketTimeout\u001b[0m\u001b[0;34m,\u001b[0m \u001b[0mBaseSSLError\u001b[0m\u001b[0;34m)\u001b[0m \u001b[0;32mas\u001b[0m \u001b[0me\u001b[0m\u001b[0;34m:\u001b[0m\u001b[0;34m\u001b[0m\u001b[0;34m\u001b[0m\u001b[0m\n\u001b[1;32m    378\u001b[0m             \u001b[0;31m# Py2 raises this as a BaseSSLError, Py3 raises it as socket timeout.\u001b[0m\u001b[0;34m\u001b[0m\u001b[0;34m\u001b[0m\u001b[0;34m\u001b[0m\u001b[0m\n",
      "\u001b[0;32m/usr/lib/python3/dist-packages/urllib3/connectionpool.py\u001b[0m in \u001b[0;36m_validate_conn\u001b[0;34m(self, conn)\u001b[0m\n\u001b[1;32m    994\u001b[0m         \u001b[0;31m# Force connect early to allow us to validate the connection.\u001b[0m\u001b[0;34m\u001b[0m\u001b[0;34m\u001b[0m\u001b[0;34m\u001b[0m\u001b[0m\n\u001b[1;32m    995\u001b[0m         \u001b[0;32mif\u001b[0m \u001b[0;32mnot\u001b[0m \u001b[0mgetattr\u001b[0m\u001b[0;34m(\u001b[0m\u001b[0mconn\u001b[0m\u001b[0;34m,\u001b[0m \u001b[0;34m\"sock\"\u001b[0m\u001b[0;34m,\u001b[0m \u001b[0;32mNone\u001b[0m\u001b[0;34m)\u001b[0m\u001b[0;34m:\u001b[0m  \u001b[0;31m# AppEngine might not have  `.sock`\u001b[0m\u001b[0;34m\u001b[0m\u001b[0;34m\u001b[0m\u001b[0m\n\u001b[0;32m--> 996\u001b[0;31m             \u001b[0mconn\u001b[0m\u001b[0;34m.\u001b[0m\u001b[0mconnect\u001b[0m\u001b[0;34m(\u001b[0m\u001b[0;34m)\u001b[0m\u001b[0;34m\u001b[0m\u001b[0;34m\u001b[0m\u001b[0m\n\u001b[0m\u001b[1;32m    997\u001b[0m \u001b[0;34m\u001b[0m\u001b[0m\n\u001b[1;32m    998\u001b[0m         \u001b[0;32mif\u001b[0m \u001b[0;32mnot\u001b[0m \u001b[0mconn\u001b[0m\u001b[0;34m.\u001b[0m\u001b[0mis_verified\u001b[0m\u001b[0;34m:\u001b[0m\u001b[0;34m\u001b[0m\u001b[0;34m\u001b[0m\u001b[0m\n",
      "\u001b[0;32m/usr/lib/python3/dist-packages/urllib3/connection.py\u001b[0m in \u001b[0;36mconnect\u001b[0;34m(self)\u001b[0m\n\u001b[1;32m    298\u001b[0m     \u001b[0;32mdef\u001b[0m \u001b[0mconnect\u001b[0m\u001b[0;34m(\u001b[0m\u001b[0mself\u001b[0m\u001b[0;34m)\u001b[0m\u001b[0;34m:\u001b[0m\u001b[0;34m\u001b[0m\u001b[0;34m\u001b[0m\u001b[0m\n\u001b[1;32m    299\u001b[0m         \u001b[0;31m# Add certificate verification\u001b[0m\u001b[0;34m\u001b[0m\u001b[0;34m\u001b[0m\u001b[0;34m\u001b[0m\u001b[0m\n\u001b[0;32m--> 300\u001b[0;31m         \u001b[0mconn\u001b[0m \u001b[0;34m=\u001b[0m \u001b[0mself\u001b[0m\u001b[0;34m.\u001b[0m\u001b[0m_new_conn\u001b[0m\u001b[0;34m(\u001b[0m\u001b[0;34m)\u001b[0m\u001b[0;34m\u001b[0m\u001b[0;34m\u001b[0m\u001b[0m\n\u001b[0m\u001b[1;32m    301\u001b[0m         \u001b[0mhostname\u001b[0m \u001b[0;34m=\u001b[0m \u001b[0mself\u001b[0m\u001b[0;34m.\u001b[0m\u001b[0mhost\u001b[0m\u001b[0;34m\u001b[0m\u001b[0;34m\u001b[0m\u001b[0m\n\u001b[1;32m    302\u001b[0m \u001b[0;34m\u001b[0m\u001b[0m\n",
      "\u001b[0;32m/usr/lib/python3/dist-packages/urllib3/connection.py\u001b[0m in \u001b[0;36m_new_conn\u001b[0;34m(self)\u001b[0m\n\u001b[1;32m    154\u001b[0m \u001b[0;34m\u001b[0m\u001b[0m\n\u001b[1;32m    155\u001b[0m         \u001b[0;32mtry\u001b[0m\u001b[0;34m:\u001b[0m\u001b[0;34m\u001b[0m\u001b[0;34m\u001b[0m\u001b[0m\n\u001b[0;32m--> 156\u001b[0;31m             conn = connection.create_connection(\n\u001b[0m\u001b[1;32m    157\u001b[0m                 \u001b[0;34m(\u001b[0m\u001b[0mself\u001b[0m\u001b[0;34m.\u001b[0m\u001b[0m_dns_host\u001b[0m\u001b[0;34m,\u001b[0m \u001b[0mself\u001b[0m\u001b[0;34m.\u001b[0m\u001b[0mport\u001b[0m\u001b[0;34m)\u001b[0m\u001b[0;34m,\u001b[0m \u001b[0mself\u001b[0m\u001b[0;34m.\u001b[0m\u001b[0mtimeout\u001b[0m\u001b[0;34m,\u001b[0m \u001b[0;34m**\u001b[0m\u001b[0mextra_kw\u001b[0m\u001b[0;34m\u001b[0m\u001b[0;34m\u001b[0m\u001b[0m\n\u001b[1;32m    158\u001b[0m             )\n",
      "\u001b[0;32m/usr/lib/python3/dist-packages/urllib3/util/connection.py\u001b[0m in \u001b[0;36mcreate_connection\u001b[0;34m(address, timeout, source_address, socket_options)\u001b[0m\n\u001b[1;32m     72\u001b[0m             \u001b[0;32mif\u001b[0m \u001b[0msource_address\u001b[0m\u001b[0;34m:\u001b[0m\u001b[0;34m\u001b[0m\u001b[0;34m\u001b[0m\u001b[0m\n\u001b[1;32m     73\u001b[0m                 \u001b[0msock\u001b[0m\u001b[0;34m.\u001b[0m\u001b[0mbind\u001b[0m\u001b[0;34m(\u001b[0m\u001b[0msource_address\u001b[0m\u001b[0;34m)\u001b[0m\u001b[0;34m\u001b[0m\u001b[0;34m\u001b[0m\u001b[0m\n\u001b[0;32m---> 74\u001b[0;31m             \u001b[0msock\u001b[0m\u001b[0;34m.\u001b[0m\u001b[0mconnect\u001b[0m\u001b[0;34m(\u001b[0m\u001b[0msa\u001b[0m\u001b[0;34m)\u001b[0m\u001b[0;34m\u001b[0m\u001b[0;34m\u001b[0m\u001b[0m\n\u001b[0m\u001b[1;32m     75\u001b[0m             \u001b[0;32mreturn\u001b[0m \u001b[0msock\u001b[0m\u001b[0;34m\u001b[0m\u001b[0;34m\u001b[0m\u001b[0m\n\u001b[1;32m     76\u001b[0m \u001b[0;34m\u001b[0m\u001b[0m\n",
      "\u001b[0;31mKeyboardInterrupt\u001b[0m: "
     ]
    }
   ],
   "source": [
    "import tempfile\n",
    "import torch\n",
    "with tempfile.TemporaryDirectory() as temp_dir:\n",
    "    state = ((TransferredTrainedModel() & exp.get_restrictions(1)) * TransferredTrainedModel.ModelStorage()).fetch1(\"model_state\", download_path=temp_dir)\n",
    "    state_dict = torch.load(state)\n",
    "kernels = state_dict[\"kernels\"].cpu().numpy()\n",
    "print(kernels.shape)\n",
    "\n",
    "from nntransfer.analysis.plot import plot\n",
    "@plot\n",
    "def plot_kernels(kernels, fig, ax):\n",
    "    for i in range(5):\n",
    "        for j in range(5):\n",
    "            ax[i][j].imshow(kernels[i*5+j], cmap=\"viridis\")\n",
    "#             ax[i][j].set_title(i*5+j)\n",
    "            ax[i][j].axis('off')\n",
    "fig, ax = plot_kernels(kernels, nrows=5, ncols=5, tight=False, style=\"light_nips_tex\", save=\"kernels_translation_clean\", fraction=0.6)"
   ]
  },
  {
   "cell_type": "code",
   "execution_count": 5,
   "metadata": {},
   "outputs": [
    {
     "name": "stdout",
     "output_type": "stream",
     "text": [
      "Loading dataset: MNIST\n",
      "Images already downloaded in ./data/image_classification/torchvision/MNIST\n",
      "Images already downloaded in ./data/image_classification/torchvision/MNIST-C\n"
     ]
    }
   ],
   "source": [
    "from bias_transfer.dataset.torchvision_loader import torchvision_dataset_loader\n",
    "conf = (Dataset() & {\"dataset_hash\": \"34cf5fe50a3e4763063dce5971dc7ccb\"}).fetch1(\"dataset_config\")\n",
    "data = torchvision_dataset_loader(42, **conf)\n",
    "test = data[\"test\"][\"img_classification\"]\n",
    "img = next(iter(test))[0][:1]"
   ]
  },
  {
   "cell_type": "code",
   "execution_count": 6,
   "metadata": {},
   "outputs": [
    {
     "ename": "NameError",
     "evalue": "name 'kernels' is not defined",
     "output_type": "error",
     "traceback": [
      "\u001b[0;31m---------------------------------------------------------------------------\u001b[0m",
      "\u001b[0;31mNameError\u001b[0m                                 Traceback (most recent call last)",
      "\u001b[0;32m<ipython-input-6-8391b6a88f0b>\u001b[0m in \u001b[0;36m<module>\u001b[0;34m\u001b[0m\n\u001b[1;32m     14\u001b[0m             \u001b[0max\u001b[0m\u001b[0;34m[\u001b[0m\u001b[0mi\u001b[0m\u001b[0;34m]\u001b[0m\u001b[0;34m[\u001b[0m\u001b[0mj\u001b[0m\u001b[0;34m]\u001b[0m\u001b[0;34m.\u001b[0m\u001b[0maxis\u001b[0m\u001b[0;34m(\u001b[0m\u001b[0;34m'off'\u001b[0m\u001b[0;34m)\u001b[0m\u001b[0;34m\u001b[0m\u001b[0;34m\u001b[0m\u001b[0m\n\u001b[1;32m     15\u001b[0m \u001b[0;34m\u001b[0m\u001b[0m\n\u001b[0;32m---> 16\u001b[0;31m \u001b[0mfig\u001b[0m\u001b[0;34m,\u001b[0m \u001b[0max\u001b[0m \u001b[0;34m=\u001b[0m \u001b[0mplot_images\u001b[0m\u001b[0;34m(\u001b[0m\u001b[0mkernels\u001b[0m\u001b[0;34m,\u001b[0m \u001b[0mimg\u001b[0m\u001b[0;34m,\u001b[0m \u001b[0mnrows\u001b[0m\u001b[0;34m=\u001b[0m\u001b[0;36m5\u001b[0m\u001b[0;34m,\u001b[0m \u001b[0mncols\u001b[0m\u001b[0;34m=\u001b[0m\u001b[0;36m5\u001b[0m\u001b[0;34m,\u001b[0m \u001b[0mtight\u001b[0m\u001b[0;34m=\u001b[0m\u001b[0;32mFalse\u001b[0m\u001b[0;34m,\u001b[0m \u001b[0mstyle\u001b[0m\u001b[0;34m=\u001b[0m\u001b[0;34m\"light_nips_tex\"\u001b[0m\u001b[0;34m,\u001b[0m \u001b[0msave\u001b[0m\u001b[0;34m=\u001b[0m\u001b[0;34m\"images_translation_clean\"\u001b[0m\u001b[0;34m,\u001b[0m \u001b[0mfraction\u001b[0m\u001b[0;34m=\u001b[0m\u001b[0;36m0.5\u001b[0m\u001b[0;34m)\u001b[0m\u001b[0;34m\u001b[0m\u001b[0;34m\u001b[0m\u001b[0m\n\u001b[0m\u001b[1;32m     17\u001b[0m \u001b[0;34m\u001b[0m\u001b[0m\n",
      "\u001b[0;31mNameError\u001b[0m: name 'kernels' is not defined"
     ]
    }
   ],
   "source": [
    "from bias_transfer.models.learned_equiv import LearnedEquivariance\n",
    "\n",
    "\n",
    "@plot\n",
    "def plot_images(kernels, img, fig, ax):\n",
    "    model = LearnedEquivariance(kernel_size=5,group_size=25)\n",
    "    model.eval()\n",
    "    model.kernels.data = torch.tensor(kernels)\n",
    "    for i in range(5):\n",
    "        for j in range(5):\n",
    "            filter_out = model(img, g=torch.ones(img.shape[0],dtype=int)*(i*5+j),l=0,n=1).cpu().detach().numpy()\n",
    "            ax[i][j].imshow(filter_out.reshape(28,28,1), cmap=\"viridis\")\n",
    "#             ax[i][j].set_title(i*5+j)\n",
    "            ax[i][j].axis('off')\n",
    "\n",
    "fig, ax = plot_images(kernels, img, nrows=5, ncols=5, tight=False, style=\"light_nips_tex\", save=\"images_translation_clean\", fraction=0.5)\n",
    "    "
   ]
  },
  {
   "cell_type": "markdown",
   "metadata": {},
   "source": [
    "### Retrieve all results across method and display as table"
   ]
  },
  {
   "cell_type": "code",
   "execution_count": 5,
   "metadata": {},
   "outputs": [],
   "source": [
    "from bias_transfer.analysis.general_results import *\n",
    "analyzer = ResultsAnalyzer()"
   ]
  },
  {
   "cell_type": "code",
   "execution_count": 6,
   "metadata": {},
   "outputs": [],
   "source": [
    "analyzer.load_data(experiment.transfer_experiments)"
   ]
  },
  {
   "cell_type": "code",
   "execution_count": 7,
   "metadata": {},
   "outputs": [
    {
     "data": {
      "text/html": [
       "<div>\n",
       "<style scoped>\n",
       "    .dataframe tbody tr th:only-of-type {\n",
       "        vertical-align: middle;\n",
       "    }\n",
       "\n",
       "    .dataframe tbody tr th {\n",
       "        vertical-align: top;\n",
       "    }\n",
       "\n",
       "    .dataframe thead th {\n",
       "        text-align: right;\n",
       "    }\n",
       "</style>\n",
       "<table border=\"1\" class=\"dataframe\">\n",
       "  <thead>\n",
       "    <tr style=\"text-align: right;\">\n",
       "      <th></th>\n",
       "      <th>0: Test</th>\n",
       "      <th>0: translate</th>\n",
       "      <th>0: Rotation Test</th>\n",
       "      <th>alpha</th>\n",
       "    </tr>\n",
       "    <tr>\n",
       "      <th>name</th>\n",
       "      <th></th>\n",
       "      <th></th>\n",
       "      <th></th>\n",
       "      <th></th>\n",
       "    </tr>\n",
       "  </thead>\n",
       "  <tbody>\n",
       "    <tr>\n",
       "      <th>MNIST Experiment Student</th>\n",
       "      <td>98.31</td>\n",
       "      <td>32.38</td>\n",
       "      <td>39.48</td>\n",
       "      <td>None</td>\n",
       "    </tr>\n",
       "    <tr>\n",
       "      <th>MNIST Experiment Teacher Rotation Invariant</th>\n",
       "      <td>99.14</td>\n",
       "      <td>59.61</td>\n",
       "      <td>87.65</td>\n",
       "      <td>None</td>\n",
       "    </tr>\n",
       "    <tr>\n",
       "      <th>MNIST Experiment Teacher Translation Invariant</th>\n",
       "      <td>98.93</td>\n",
       "      <td>90.67</td>\n",
       "      <td>42.33</td>\n",
       "      <td>None</td>\n",
       "    </tr>\n",
       "    <tr>\n",
       "      <th>Rotation Invariant Equivariance Transfer G</th>\n",
       "      <td>97.67</td>\n",
       "      <td>30.63</td>\n",
       "      <td>74.24</td>\n",
       "      <td>25</td>\n",
       "    </tr>\n",
       "    <tr>\n",
       "      <th>Rotation Invariant Equivariance Transfer G</th>\n",
       "      <td>97.65</td>\n",
       "      <td>14.16</td>\n",
       "      <td>61.68</td>\n",
       "      <td>4</td>\n",
       "    </tr>\n",
       "    <tr>\n",
       "      <th>Rotation Invariant Equivariance Transfer G</th>\n",
       "      <td>93.10</td>\n",
       "      <td>24.87</td>\n",
       "      <td>67.35</td>\n",
       "      <td>8</td>\n",
       "    </tr>\n",
       "    <tr>\n",
       "      <th>Translation Invariant Equivariance Transfer G</th>\n",
       "      <td>97.40</td>\n",
       "      <td>20.29</td>\n",
       "      <td>42.95</td>\n",
       "      <td>25</td>\n",
       "    </tr>\n",
       "    <tr>\n",
       "      <th>Translation Invariant Equivariance Transfer G</th>\n",
       "      <td>97.91</td>\n",
       "      <td>25.56</td>\n",
       "      <td>39.75</td>\n",
       "      <td>4</td>\n",
       "    </tr>\n",
       "    <tr>\n",
       "      <th>Translation Invariant Equivariance Transfer G</th>\n",
       "      <td>97.57</td>\n",
       "      <td>19.92</td>\n",
       "      <td>39.50</td>\n",
       "      <td>8</td>\n",
       "    </tr>\n",
       "  </tbody>\n",
       "</table>\n",
       "</div>"
      ],
      "text/plain": [
       "                                                0: Test  0: translate  \\\n",
       "name                                                                    \n",
       "MNIST Experiment Student                          98.31         32.38   \n",
       "MNIST Experiment Teacher Rotation Invariant       99.14         59.61   \n",
       "MNIST Experiment Teacher Translation Invariant    98.93         90.67   \n",
       "Rotation Invariant Equivariance Transfer G        97.67         30.63   \n",
       "Rotation Invariant Equivariance Transfer G        97.65         14.16   \n",
       "Rotation Invariant Equivariance Transfer G        93.10         24.87   \n",
       "Translation Invariant Equivariance Transfer G     97.40         20.29   \n",
       "Translation Invariant Equivariance Transfer G     97.91         25.56   \n",
       "Translation Invariant Equivariance Transfer G     97.57         19.92   \n",
       "\n",
       "                                                0: Rotation Test alpha  \n",
       "name                                                                    \n",
       "MNIST Experiment Student                                   39.48  None  \n",
       "MNIST Experiment Teacher Rotation Invariant                87.65  None  \n",
       "MNIST Experiment Teacher Translation Invariant             42.33  None  \n",
       "Rotation Invariant Equivariance Transfer G                 74.24    25  \n",
       "Rotation Invariant Equivariance Transfer G                 61.68     4  \n",
       "Rotation Invariant Equivariance Transfer G                 67.35     8  \n",
       "Translation Invariant Equivariance Transfer G              42.95    25  \n",
       "Translation Invariant Equivariance Transfer G              39.75     4  \n",
       "Translation Invariant Equivariance Transfer G              39.50     8  "
      ]
     },
     "execution_count": 7,
     "metadata": {},
     "output_type": "execute_result"
    }
   ],
   "source": [
    "df = analyzer.generate_table(objectives=((\"Test\",\"img_classification\",\"accuracy\"),\n",
    "                                         (\"translate\",\"img_classification\",\"accuracy\"),\n",
    "                                         (\"Rotation Test\",\"img_classification\",\"accuracy\"),\n",
    "                                         (\"Noise noise_std 0.08_0.2.0.12_0.2.0.18_0.2.0.26_0.2.0.38_0.2\",\"img_classification\",\"accuracy\")),\n",
    "                            last_n=1)\n",
    "pd.set_option('display.max_rows', None)\n",
    "pd.set_option('display.max_columns', None)\n",
    "pd.set_option(\"max_colwidth\", None)\n",
    "df.sort_values(['name', '0: translate'], ascending=[True, False])\n",
    "df"
   ]
  },
  {
   "cell_type": "code",
   "execution_count": 10,
   "metadata": {},
   "outputs": [
    {
     "name": "stdout",
     "output_type": "stream",
     "text": [
      "x & x & x & x & 99.02 & 96.48 \\\\ \n",
      "x & x & x & - & 99.02 & 96.48 \\\\ \n",
      "x & - & x & x & 89.98 & 88.65 \\\\ \n",
      "x & - & x & - & 92.82 & 89.68 \\\\ \n",
      "x & x & - & x & 98.36 & 89.98 \\\\ \n",
      "x & x & - & - & 98.45 & 93.8 \\\\ \n",
      "x & - & - & x & 37.25 & 52.82 \\\\ \n",
      "x & - & - & - & 43.38 & 58.69 \\\\ \n",
      "- & x & x & x & 98.78 & 85.01 \\\\ \n",
      "- & x & x & - & 98.48 & 81.18 \\\\ \n",
      "- & - & x & x & 98.37 & 89.54 \\\\ \n",
      "- & - & x & - & 98.59 & 90.98 \\\\ \n",
      "- & x & - & x & 98.24 & 77.36 \\\\ \n",
      "- & x & - & - & 98.05 & 83.51 \\\\ \n",
      "\n"
     ]
    }
   ],
   "source": [
    "table = \"\"\n",
    "for idx, row in df.iterrows():\n",
    "    alpha = row[\"alpha\"]\n",
    "    if alpha is None:\n",
    "        continue\n",
    "    alpha = alpha[:-1]\n",
    "    alpha = alpha.split(\",\")[1:]\n",
    "    weights = {s.split(\":\")[0].strip():float(s.split(\":\")[1]) for s in alpha}\n",
    "    for weight in weights.values():\n",
    "        table += \"x\" if weight > 0 else \"-\"\n",
    "        table += \" & \"\n",
    "    table += str(row[\"0: Test\"]) + \" & \"\n",
    "    table += str(row[\"0: translate\"]) + \" \\\\\\\\ \\n\"\n",
    "print(table)"
   ]
  },
  {
   "cell_type": "code",
   "execution_count": null,
   "metadata": {},
   "outputs": [],
   "source": []
  }
 ],
 "metadata": {
  "kernelspec": {
   "display_name": "env",
   "language": "python",
   "name": "env"
  },
  "language_info": {
   "codemirror_mode": {
    "name": "ipython",
    "version": 3
   },
   "file_extension": ".py",
   "mimetype": "text/x-python",
   "name": "python",
   "nbconvert_exporter": "python",
   "pygments_lexer": "ipython3",
   "version": "3.8.2"
  }
 },
 "nbformat": 4,
 "nbformat_minor": 4
}
