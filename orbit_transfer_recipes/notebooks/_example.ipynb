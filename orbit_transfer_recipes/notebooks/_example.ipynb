{
 "cells": [
  {
   "cell_type": "code",
   "execution_count": 4,
   "metadata": {},
   "outputs": [
    {
     "name": "stdout",
     "output_type": "stream",
     "text": [
      "The autoreload extension is already loaded. To reload it, use:\n",
      "  %reload_ext autoreload\n"
     ]
    }
   ],
   "source": [
    "%matplotlib inline\n",
    "%load_ext autoreload\n",
    "%autoreload 2\n",
    "import sys\n",
    "import os\n",
    "import matplotlib.pyplot as plt\n",
    "import numpy as np"
   ]
  },
  {
   "cell_type": "markdown",
   "metadata": {},
   "source": [
    "### Load the experiment and corresponding libraries"
   ]
  },
  {
   "cell_type": "code",
   "execution_count": 5,
   "metadata": {},
   "outputs": [],
   "source": [
    "sys.path.append(\"/\")  # enable import of \"recipe\"\n",
    "os.chdir(\"/work/\")"
   ]
  },
  {
   "cell_type": "code",
   "execution_count": 6,
   "metadata": {},
   "outputs": [],
   "source": [
    "from recipes.main import load_experiment\n",
    "experiment = load_experiment(recipe=\"_2020_04_05_example\", \n",
    "                             experiment=\"baseline\", \n",
    "                             schema=\"\",  # schema name will automatically be generated from recipe and experiment names \n",
    "                             base_dir=\"/recipes/\", \n",
    "                             import_prefix=\"recipes.\", \n",
    "                             dev_mode=False  # this installs and imports the current head of all repos \n",
    "                            )"
   ]
  },
  {
   "cell_type": "code",
   "execution_count": 7,
   "metadata": {},
   "outputs": [
    {
     "data": {
      "text/plain": [
       "Schema `anix_nnfabrik_2020_04_05_example`"
      ]
     },
     "execution_count": 7,
     "metadata": {},
     "output_type": "execute_result"
    }
   ],
   "source": [
    "from bias_transfer.tables.trained_model import *\n",
    "from bias_transfer.tables.trained_transfer_model import *\n",
    "schema"
   ]
  },
  {
   "cell_type": "markdown",
   "metadata": {},
   "source": [
    "#### Let's take a look at the individual experiments:"
   ]
  },
  {
   "cell_type": "code",
   "execution_count": 8,
   "metadata": {},
   "outputs": [
    {
     "data": {
      "text/plain": [
       "dict_keys([Description(name='Noise Augmented', seed=42), Description(name='Transfer', seed=42)])"
      ]
     },
     "execution_count": 8,
     "metadata": {},
     "output_type": "execute_result"
    }
   ],
   "source": [
    "experiment.experiments.keys()"
   ]
  },
  {
   "cell_type": "markdown",
   "metadata": {},
   "source": [
    "#### ...and similarly for the combined transfer experiments:"
   ]
  },
  {
   "cell_type": "code",
   "execution_count": 9,
   "metadata": {},
   "outputs": [
    {
     "data": {
      "text/plain": [
       "dict_keys([Description(name='Noise Augmented -> Transfer', seed=42)])"
      ]
     },
     "execution_count": 9,
     "metadata": {},
     "output_type": "execute_result"
    }
   ],
   "source": [
    "experiment.transfer_experiments.keys()"
   ]
  },
  {
   "cell_type": "markdown",
   "metadata": {},
   "source": [
    "#### How does the specific experiment definition look like? Let's look at an example instance:"
   ]
  },
  {
   "cell_type": "code",
   "execution_count": 10,
   "metadata": {},
   "outputs": [],
   "source": [
    "from bias_transfer.configs.base import Description"
   ]
  },
  {
   "cell_type": "code",
   "execution_count": 11,
   "metadata": {},
   "outputs": [
    {
     "data": {
      "text/plain": [
       "Experiment {\n",
       "  \"dataset\": [\n",
       "    \"DatasetConfig\",\n",
       "    {\n",
       "      \"apply_augmentation\": true,\n",
       "      \"apply_normalization\": false,\n",
       "      \"batch_size\": 128,\n",
       "      \"comment\": \"\",\n",
       "      \"data_dir\": \"./data/image_classification/torchvision/\",\n",
       "      \"dataset_cls\": \"CIFAR10\",\n",
       "      \"input_size\": 32,\n",
       "      \"num_workers\": 1,\n",
       "      \"pin_memory\": true,\n",
       "      \"show_sample\": false,\n",
       "      \"shuffle\": true,\n",
       "      \"train_data_mean\": [\n",
       "        0.5070751592371323,\n",
       "        0.48654887331495095,\n",
       "        0.4409178433670343\n",
       "      ],\n",
       "      \"train_data_std\": [\n",
       "        0.2673342858792401,\n",
       "        0.2564384629170883,\n",
       "        0.27615047132568404\n",
       "      ],\n",
       "      \"valid_size\": 0.1\n",
       "    }\n",
       "  ],\n",
       "  \"model\": [\n",
       "    \"ModelConfig\",\n",
       "    {\n",
       "      \"cnn_builder\": \"resnet\",\n",
       "      \"comment\": \"\",\n",
       "      \"conv_stem_kernel_size\": 3,\n",
       "      \"core_stride\": 1,\n",
       "      \"input_size\": 32,\n",
       "      \"noise_adv_classification\": false,\n",
       "      \"noise_adv_regression\": false,\n",
       "      \"num_classes\": 10,\n",
       "      \"pretrained\": false,\n",
       "      \"type\": \"50\"\n",
       "    }\n",
       "  ],\n",
       "  \"seed\": 42,\n",
       "  \"trainer\": [\n",
       "    \"TrainerConfig\",\n",
       "    {\n",
       "      \"adaptive_lr\": false,\n",
       "      \"add_noise\": false,\n",
       "      \"comment\": \"Transfer + Reset\",\n",
       "      \"force_cpu\": false,\n",
       "      \"freeze\": [\n",
       "        \"core\"\n",
       "      ],\n",
       "      \"lr\": 0.0003,\n",
       "      \"lr_decay\": 0.8,\n",
       "      \"lr_milestones\": [\n",
       "        60,\n",
       "        120,\n",
       "        160\n",
       "      ],\n",
       "      \"momentum\": 0.9,\n",
       "      \"noise_adv_classification\": false,\n",
       "      \"noise_adv_gamma\": 10.0,\n",
       "      \"noise_adv_loss_factor\": 1.0,\n",
       "      \"noise_adv_regression\": false,\n",
       "      \"noise_snr\": null,\n",
       "      \"noise_std\": null,\n",
       "      \"noise_test\": {\n",
       "        \"noise_snr\": [\n",
       "          {\n",
       "            \"5.0\": 1.0\n",
       "          },\n",
       "          {\n",
       "            \"4.0\": 1.0\n",
       "          },\n",
       "          {\n",
       "            \"3.0\": 1.0\n",
       "          },\n",
       "          {\n",
       "            \"2.0\": 1.0\n",
       "          },\n",
       "          {\n",
       "            \"1.0\": 1.0\n",
       "          },\n",
       "          {\n",
       "            \"0.5\": 1.0\n",
       "          },\n",
       "          {\n",
       "            \"0.0\": 1.0\n",
       "          }\n",
       "        ],\n",
       "        \"noise_std\": [\n",
       "          {\n",
       "            \"0.0\": 1.0\n",
       "          },\n",
       "          {\n",
       "            \"0.05\": 1.0\n",
       "          },\n",
       "          {\n",
       "            \"0.1\": 1.0\n",
       "          },\n",
       "          {\n",
       "            \"0.2\": 1.0\n",
       "          },\n",
       "          {\n",
       "            \"0.3\": 1.0\n",
       "          },\n",
       "          {\n",
       "            \"0.5\": 1.0\n",
       "          },\n",
       "          {\n",
       "            \"1.0\": 1.0\n",
       "          }\n",
       "        ]\n",
       "      },\n",
       "      \"num_epochs\": 2,\n",
       "      \"optimizer\": \"Adam\",\n",
       "      \"patience\": 10,\n",
       "      \"representation_matching\": null,\n",
       "      \"reset_linear\": true,\n",
       "      \"reset_linear_frequency\": null,\n",
       "      \"threshold\": 0.0001,\n",
       "      \"transfer_from_path\": null,\n",
       "      \"use_tensorboard\": false,\n",
       "      \"verbose\": true,\n",
       "      \"weight_decay\": 0.0005\n",
       "    }\n",
       "  ]\n",
       "}"
      ]
     },
     "execution_count": 11,
     "metadata": {},
     "output_type": "execute_result"
    }
   ],
   "source": [
    "experiment.experiments[Description(name='Transfer', seed=42)]"
   ]
  },
  {
   "cell_type": "markdown",
   "metadata": {},
   "source": [
    "### Run experiments"
   ]
  },
  {
   "cell_type": "code",
   "execution_count": 12,
   "metadata": {},
   "outputs": [],
   "source": [
    "from recipes.main import fill_tables, run_all_experiments"
   ]
  },
  {
   "cell_type": "code",
   "execution_count": 13,
   "metadata": {},
   "outputs": [],
   "source": [
    "fill_tables(experiment.transfer_experiments)  "
   ]
  },
  {
   "cell_type": "code",
   "execution_count": 14,
   "metadata": {},
   "outputs": [
    {
     "name": "stderr",
     "output_type": "stream",
     "text": [
      "  0%|          | 0/1 [00:00<?, ?it/s]"
     ]
    },
    {
     "name": "stdout",
     "output_type": "stream",
     "text": [
      "Files already downloaded and verified\n",
      "Files already downloaded and verified\n",
      "Files already downloaded and verified\n",
      "Model with 23520842 parameters.\n",
      "==> Building model..\n",
      "==> Starting model None\n"
     ]
    },
    {
     "name": "stderr",
     "output_type": "stream",
     "text": [
      "Train Epoch 0: 100%|██████████| 352/352 [01:02<00:00,  5.59it/s, acc=35.6, loss=1.76]\n",
      "Eval Epoch 0: 100%|██████████| 40/40 [00:02<00:00, 18.22it/s, acc=43.7, loss=1.49]"
     ]
    },
    {
     "name": "stdout",
     "output_type": "stream",
     "text": [
      "==> Saving..\n"
     ]
    },
    {
     "name": "stderr",
     "output_type": "stream",
     "text": [
      "\n",
      "Train Epoch 1: 100%|██████████| 352/352 [01:04<00:00,  5.49it/s, acc=49.5, loss=1.39]\n",
      "Eval Epoch 1: 100%|██████████| 40/40 [00:02<00:00, 17.90it/s, acc=54.2, loss=1.27]"
     ]
    },
    {
     "name": "stdout",
     "output_type": "stream",
     "text": [
      "==> Saving..\n"
     ]
    },
    {
     "name": "stderr",
     "output_type": "stream",
     "text": [
      "\n"
     ]
    },
    {
     "name": "stdout",
     "output_type": "stream",
     "text": [
      "==> Loading checkpoint..\n"
     ]
    },
    {
     "name": "stderr",
     "output_type": "stream",
     "text": [
      "Eval Epoch 1: 100%|██████████| 40/40 [00:02<00:00, 18.57it/s, acc=56.3, loss=1.22]\n",
      "Eval Epoch 1: 100%|██████████| 40/40 [00:02<00:00, 18.66it/s, acc=56.1, loss=1.24]\n",
      "Eval Epoch 1: 100%|██████████| 40/40 [00:02<00:00, 18.61it/s, acc=55.2, loss=1.24]\n",
      "Eval Epoch 1: 100%|██████████| 40/40 [00:02<00:00, 18.62it/s, acc=53.9, loss=1.29]\n",
      "Eval Epoch 1: 100%|██████████| 40/40 [00:02<00:00, 18.65it/s, acc=47.1, loss=1.53]\n",
      "Eval Epoch 1: 100%|██████████| 40/40 [00:02<00:00, 18.63it/s, acc=33.5, loss=2.04]\n",
      "Eval Epoch 1: 100%|██████████| 40/40 [00:02<00:00, 18.80it/s, acc=56.9, loss=1.19]\n",
      "Eval Epoch 1: 100%|██████████| 40/40 [00:02<00:00, 18.89it/s, acc=56.9, loss=1.21]\n",
      "Eval Epoch 1: 100%|██████████| 40/40 [00:02<00:00, 18.93it/s, acc=56.2, loss=1.22]\n",
      "Eval Epoch 1: 100%|██████████| 40/40 [00:02<00:00, 18.81it/s, acc=55.2, loss=1.26]\n",
      "Eval Epoch 1: 100%|██████████| 40/40 [00:02<00:00, 18.71it/s, acc=51.5, loss=1.32]\n",
      "Eval Epoch 1: 100%|██████████| 40/40 [00:02<00:00, 18.83it/s, acc=46.9, loss=1.45]\n",
      "Eval Epoch 1: 100%|██████████| 40/40 [00:02<00:00, 18.73it/s, acc=34.5, loss=1.88]\n",
      "Eval Epoch 1: 100%|██████████| 40/40 [00:02<00:00, 18.72it/s, acc=16.7, loss=2.79]"
     ]
    },
    {
     "name": "stdout",
     "output_type": "stream",
     "text": [
      "==> Loading checkpoint..\n"
     ]
    },
    {
     "name": "stderr",
     "output_type": "stream",
     "text": [
      "\n",
      "Eval Epoch 1: 100%|██████████| 79/79 [00:03<00:00, 20.05it/s, acc=56.3, loss=1.21]\n",
      "100%|██████████| 1/1 [02:58<00:00, 178.05s/it]\n",
      "  0%|          | 0/1 [00:00<?, ?it/s]"
     ]
    },
    {
     "name": "stdout",
     "output_type": "stream",
     "text": [
      "Files already downloaded and verified\n",
      "Files already downloaded and verified\n",
      "Files already downloaded and verified\n",
      "Model with 23520842 parameters.\n",
      "==> Building model..\n",
      "==> Loading model..\n",
      "==> Starting model None\n"
     ]
    },
    {
     "name": "stderr",
     "output_type": "stream",
     "text": [
      "Train Epoch 0: 100%|██████████| 352/352 [00:18<00:00, 19.11it/s, acc=56, loss=1.24]  \n",
      "Eval Epoch 0: 100%|██████████| 40/40 [00:02<00:00, 19.07it/s, acc=60, loss=1.1]   "
     ]
    },
    {
     "name": "stdout",
     "output_type": "stream",
     "text": [
      "==> Saving..\n"
     ]
    },
    {
     "name": "stderr",
     "output_type": "stream",
     "text": [
      "\n",
      "Train Epoch 1: 100%|██████████| 352/352 [00:18<00:00, 19.04it/s, acc=59.8, loss=1.13]\n",
      "Eval Epoch 1: 100%|██████████| 40/40 [00:02<00:00, 18.96it/s, acc=61.3, loss=1.11]"
     ]
    },
    {
     "name": "stdout",
     "output_type": "stream",
     "text": [
      "==> Saving..\n"
     ]
    },
    {
     "name": "stderr",
     "output_type": "stream",
     "text": [
      "\n"
     ]
    },
    {
     "name": "stdout",
     "output_type": "stream",
     "text": [
      "==> Loading checkpoint..\n"
     ]
    },
    {
     "name": "stderr",
     "output_type": "stream",
     "text": [
      "Eval Epoch 1: 100%|██████████| 40/40 [00:02<00:00, 18.82it/s, acc=60.3, loss=1.12]\n",
      "Eval Epoch 1: 100%|██████████| 40/40 [00:02<00:00, 18.72it/s, acc=59.7, loss=1.13]\n",
      "Eval Epoch 1: 100%|██████████| 40/40 [00:02<00:00, 18.78it/s, acc=58.7, loss=1.16]\n",
      "Eval Epoch 1: 100%|██████████| 40/40 [00:02<00:00, 18.74it/s, acc=55.8, loss=1.24]\n",
      "Eval Epoch 1: 100%|██████████| 40/40 [00:02<00:00, 18.72it/s, acc=45.7, loss=1.54]\n",
      "Eval Epoch 1: 100%|██████████| 40/40 [00:02<00:00, 18.73it/s, acc=28.5, loss=2.15]\n",
      "Eval Epoch 1: 100%|██████████| 40/40 [00:02<00:00, 18.88it/s, acc=61.3, loss=1.09]\n",
      "Eval Epoch 1: 100%|██████████| 40/40 [00:02<00:00, 18.86it/s, acc=61.3, loss=1.1] \n",
      "Eval Epoch 1: 100%|██████████| 40/40 [00:02<00:00, 18.90it/s, acc=60.7, loss=1.1] \n",
      "Eval Epoch 1: 100%|██████████| 40/40 [00:02<00:00, 18.74it/s, acc=58.1, loss=1.16]\n",
      "Eval Epoch 1: 100%|██████████| 40/40 [00:02<00:00, 18.73it/s, acc=51.7, loss=1.37]\n",
      "Eval Epoch 1: 100%|██████████| 40/40 [00:02<00:00, 18.82it/s, acc=44.9, loss=1.54]\n",
      "Eval Epoch 1: 100%|██████████| 40/40 [00:02<00:00, 18.67it/s, acc=28.1, loss=2.01]\n",
      "Eval Epoch 1: 100%|██████████| 40/40 [00:02<00:00, 18.87it/s, acc=12, loss=2.94]  "
     ]
    },
    {
     "name": "stdout",
     "output_type": "stream",
     "text": [
      "==> Loading checkpoint..\n"
     ]
    },
    {
     "name": "stderr",
     "output_type": "stream",
     "text": [
      "\n",
      "Eval Epoch 1: 100%|██████████| 79/79 [00:03<00:00, 20.02it/s, acc=61.2, loss=1.11]\n",
      "100%|██████████| 1/1 [02:05<00:00, 125.13s/it]\n",
      "0it [00:00, ?it/s]\n"
     ]
    }
   ],
   "source": [
    "run_all_experiments(experiment.transfer_experiments)"
   ]
  },
  {
   "cell_type": "markdown",
   "metadata": {},
   "source": [
    "### In case something goes wrong:"
   ]
  },
  {
   "cell_type": "code",
   "execution_count": 15,
   "metadata": {},
   "outputs": [],
   "source": [
    "# delete all jobs in error state:\n",
    "if schema.database != \"nnfabrik_core\": \n",
    "    (schema.jobs & \"status='error'\").delete()"
   ]
  },
  {
   "cell_type": "code",
   "execution_count": 17,
   "metadata": {},
   "outputs": [
    {
     "name": "stdin",
     "output_type": "stream",
     "text": [
      "Proceed to delete entire schema `anix_nnfabrik_2020_04_05_example`? [yes, No]:  no\n"
     ]
    }
   ],
   "source": [
    "# drop the entire schema: THIS IS WILL DELETE EVERYTHING!\n",
    "if schema.database != \"nnfabrik_core\": \n",
    "    schema.drop()"
   ]
  },
  {
   "cell_type": "markdown",
   "metadata": {},
   "source": [
    "### Analyse the results"
   ]
  },
  {
   "cell_type": "code",
   "execution_count": 18,
   "metadata": {},
   "outputs": [],
   "source": [
    "from bias_transfer.analysis.analyzer import Analyzer\n",
    "import seaborn as sns"
   ]
  },
  {
   "cell_type": "code",
   "execution_count": 19,
   "metadata": {},
   "outputs": [],
   "source": [
    "analysis = Analyzer()"
   ]
  },
  {
   "cell_type": "code",
   "execution_count": 20,
   "metadata": {},
   "outputs": [
    {
     "data": {
      "text/html": [
       "<div>\n",
       "<style scoped>\n",
       "    .dataframe tbody tr th:only-of-type {\n",
       "        vertical-align: middle;\n",
       "    }\n",
       "\n",
       "    .dataframe tbody tr th {\n",
       "        vertical-align: top;\n",
       "    }\n",
       "\n",
       "    .dataframe thead th {\n",
       "        text-align: right;\n",
       "    }\n",
       "</style>\n",
       "<table border=\"1\" class=\"dataframe\">\n",
       "  <thead>\n",
       "    <tr style=\"text-align: right;\">\n",
       "      <th></th>\n",
       "      <th>name</th>\n",
       "      <th>comment</th>\n",
       "      <th>training_progress</th>\n",
       "      <th>test_acc</th>\n",
       "      <th>test_loss</th>\n",
       "      <th>dev_acc</th>\n",
       "      <th>epoch</th>\n",
       "      <th>dev_noise_acc</th>\n",
       "      <th>dev_noise_loss</th>\n",
       "    </tr>\n",
       "  </thead>\n",
       "  <tbody>\n",
       "    <tr>\n",
       "      <th>0</th>\n",
       "      <td>Noise Augmented</td>\n",
       "      <td>Noise Augmented..</td>\n",
       "      <td>[{'train_acc': 35.64666666666667, 'train_loss'...</td>\n",
       "      <td>56.26</td>\n",
       "      <td>1.213806</td>\n",
       "      <td>54.22</td>\n",
       "      <td>1</td>\n",
       "      <td>{'noise_snr': {'5.0_1.0': 56.28, '4.0_1.0': 56...</td>\n",
       "      <td>{'noise_snr': {'5.0_1.0': 1.2234528362751007, ...</td>\n",
       "    </tr>\n",
       "  </tbody>\n",
       "</table>\n",
       "</div>"
      ],
      "text/plain": [
       "              name            comment  \\\n",
       "0  Noise Augmented  Noise Augmented..   \n",
       "\n",
       "                                   training_progress  test_acc  test_loss  \\\n",
       "0  [{'train_acc': 35.64666666666667, 'train_loss'...     56.26   1.213806   \n",
       "\n",
       "   dev_acc  epoch                                      dev_noise_acc  \\\n",
       "0    54.22      1  {'noise_snr': {'5.0_1.0': 56.28, '4.0_1.0': 56...   \n",
       "\n",
       "                                      dev_noise_loss  \n",
       "0  {'noise_snr': {'5.0_1.0': 1.2234528362751007, ...  "
      ]
     },
     "execution_count": 20,
     "metadata": {},
     "output_type": "execute_result"
    }
   ],
   "source": [
    "analysis.add_data(experiment.experiments, TrainedModel(), transfer_level=0)\n",
    "analysis.df"
   ]
  },
  {
   "cell_type": "code",
   "execution_count": 21,
   "metadata": {},
   "outputs": [
    {
     "data": {
      "text/html": [
       "<div>\n",
       "<style scoped>\n",
       "    .dataframe tbody tr th:only-of-type {\n",
       "        vertical-align: middle;\n",
       "    }\n",
       "\n",
       "    .dataframe tbody tr th {\n",
       "        vertical-align: top;\n",
       "    }\n",
       "\n",
       "    .dataframe thead th {\n",
       "        text-align: right;\n",
       "    }\n",
       "</style>\n",
       "<table border=\"1\" class=\"dataframe\">\n",
       "  <thead>\n",
       "    <tr style=\"text-align: right;\">\n",
       "      <th></th>\n",
       "      <th>name</th>\n",
       "      <th>comment</th>\n",
       "      <th>training_progress</th>\n",
       "      <th>test_acc</th>\n",
       "      <th>test_loss</th>\n",
       "      <th>dev_acc</th>\n",
       "      <th>epoch</th>\n",
       "      <th>dev_noise_acc</th>\n",
       "      <th>dev_noise_loss</th>\n",
       "    </tr>\n",
       "  </thead>\n",
       "  <tbody>\n",
       "    <tr>\n",
       "      <th>0</th>\n",
       "      <td>Noise Augmented</td>\n",
       "      <td>Noise Augmented..</td>\n",
       "      <td>[{'train_acc': 35.64666666666667, 'train_loss'...</td>\n",
       "      <td>56.26</td>\n",
       "      <td>1.213806</td>\n",
       "      <td>54.22</td>\n",
       "      <td>1</td>\n",
       "      <td>{'noise_snr': {'5.0_1.0': 56.28, '4.0_1.0': 56...</td>\n",
       "      <td>{'noise_snr': {'5.0_1.0': 1.2234528362751007, ...</td>\n",
       "    </tr>\n",
       "    <tr>\n",
       "      <th>0</th>\n",
       "      <td>Noise Augmented -&gt; Transfer</td>\n",
       "      <td>Transfer + Reset..</td>\n",
       "      <td>[{'train_acc': 56.01777777777778, 'train_loss'...</td>\n",
       "      <td>61.22</td>\n",
       "      <td>1.105052</td>\n",
       "      <td>61.30</td>\n",
       "      <td>1</td>\n",
       "      <td>{'noise_snr': {'5.0_1.0': 60.26, '4.0_1.0': 59...</td>\n",
       "      <td>{'noise_snr': {'5.0_1.0': 1.1151368781924247, ...</td>\n",
       "    </tr>\n",
       "  </tbody>\n",
       "</table>\n",
       "</div>"
      ],
      "text/plain": [
       "                          name             comment  \\\n",
       "0              Noise Augmented   Noise Augmented..   \n",
       "0  Noise Augmented -> Transfer  Transfer + Reset..   \n",
       "\n",
       "                                   training_progress  test_acc  test_loss  \\\n",
       "0  [{'train_acc': 35.64666666666667, 'train_loss'...     56.26   1.213806   \n",
       "0  [{'train_acc': 56.01777777777778, 'train_loss'...     61.22   1.105052   \n",
       "\n",
       "   dev_acc  epoch                                      dev_noise_acc  \\\n",
       "0    54.22      1  {'noise_snr': {'5.0_1.0': 56.28, '4.0_1.0': 56...   \n",
       "0    61.30      1  {'noise_snr': {'5.0_1.0': 60.26, '4.0_1.0': 59...   \n",
       "\n",
       "                                      dev_noise_loss  \n",
       "0  {'noise_snr': {'5.0_1.0': 1.2234528362751007, ...  \n",
       "0  {'noise_snr': {'5.0_1.0': 1.1151368781924247, ...  "
      ]
     },
     "execution_count": 21,
     "metadata": {},
     "output_type": "execute_result"
    }
   ],
   "source": [
    "analysis.add_data(experiment.transfer_experiments, TrainedTransferModel(), transfer_level=1)\n",
    "analysis.df"
   ]
  },
  {
   "cell_type": "code",
   "execution_count": 22,
   "metadata": {},
   "outputs": [
    {
     "data": {
      "image/png": "[encoded data removed]",
      "text/plain": [
       "<Figure size 2400x1500 with 1 Axes>"
      ]
     },
     "metadata": {},
     "output_type": "display_data"
    }
   ],
   "source": [
    "x = analysis.plot(to_plot=\"dev_noise_acc\", \n",
    "       noise_measure=\"std\",\n",
    "       kind=None, \n",
    "       plot_method=sns.barplot,\n",
    "        save=\"rep_matching\",\n",
    "        style=\"lightpaper\"\n",
    "       )"
   ]
  },
  {
   "cell_type": "code",
   "execution_count": null,
   "metadata": {},
   "outputs": [],
   "source": []
  }
 ],
 "metadata": {
  "kernelspec": {
   "display_name": "Python 3",
   "language": "python",
   "name": "python3"
  },
  "language_info": {
   "codemirror_mode": {
    "name": "ipython",
    "version": 3
   },
   "file_extension": ".py",
   "mimetype": "text/x-python",
   "name": "python",
   "nbconvert_exporter": "python",
   "pygments_lexer": "ipython3",
   "version": "3.7.6"
  }
 },
 "nbformat": 4,
 "nbformat_minor": 4
}
