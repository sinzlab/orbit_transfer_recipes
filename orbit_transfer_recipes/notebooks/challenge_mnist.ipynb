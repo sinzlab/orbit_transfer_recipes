{
 "cells": [
  {
   "cell_type": "code",
   "execution_count": 1,
   "metadata": {},
   "outputs": [],
   "source": [
    "%matplotlib inline\n",
    "%load_ext autoreload\n",
    "%autoreload 2\n",
    "import sys\n",
    "import matplotlib.pyplot as plt\n",
    "import numpy as np\n",
    "import os"
   ]
  },
  {
   "cell_type": "markdown",
   "metadata": {},
   "source": [
    "### Load the experiment and corresponding libraries"
   ]
  },
  {
   "cell_type": "code",
   "execution_count": 2,
   "metadata": {},
   "outputs": [],
   "source": [
    "sys.path.append(\"/\")  # enable import of \"recipe\"\n",
    "os.chdir(\"/work/\")"
   ]
  },
  {
   "cell_type": "code",
   "execution_count": 3,
   "metadata": {},
   "outputs": [
    {
     "name": "stdout",
     "output_type": "stream",
     "text": [
      "Connecting anix@134.2.168.16:3306\n"
     ]
    }
   ],
   "source": [
    "from recipes.main import load_experiment\n",
    "experiment = load_experiment(recipe=\"_2020_06_23_rewrite\", \n",
    "                             experiment=\"test\", \n",
    "                             schema=\"anix_nnfabrik_test\",  # schema name will automatically be generated from recipe and experiment names \n",
    "                             base_dir=\"/recipes/\",\n",
    "                             import_prefix=\"recipes.\", \n",
    "                             dev_mode=True  \n",
    "                            )"
   ]
  },
  {
   "cell_type": "code",
   "execution_count": 4,
   "metadata": {},
   "outputs": [
    {
     "name": "stdout",
     "output_type": "stream",
     "text": [
      "Connecting anix@134.2.168.16:3306\n"
     ]
    },
    {
     "data": {
      "text/plain": [
       "Schema `anix_nnfabrik_test`"
      ]
     },
     "execution_count": 4,
     "metadata": {},
     "output_type": "execute_result"
    }
   ],
   "source": [
    "from bias_transfer.tables.trained_model import *\n",
    "from bias_transfer.tables.trained_transfer_model import *\n",
    "schema"
   ]
  },
  {
   "cell_type": "code",
   "execution_count": 253,
   "metadata": {},
   "outputs": [
    {
     "name": "stderr",
     "output_type": "stream",
     "text": [
      "/usr/local/lib/python3.8/dist-packages/datajoint/connection.py:215: UserWarning: MySQL server has gone away. Reconnecting to the server.\n",
      "  warnings.warn(\"MySQL server has gone away. Reconnecting to the server.\")\n"
     ]
    },
    {
     "data": {
      "text/html": [
       "\n",
       "        \n",
       "        <style type=\"text/css\">\n",
       "            .Relation{\n",
       "                border-collapse:collapse;\n",
       "            }\n",
       "            .Relation th{\n",
       "                background: #A0A0A0; color: #ffffff; padding:4px; border:#f0e0e0 1px solid;\n",
       "                font-weight: normal; font-family: monospace; font-size: 100%;\n",
       "            }\n",
       "            .Relation td{\n",
       "                padding:4px; border:#f0e0e0 1px solid; font-size:100%;\n",
       "            }\n",
       "            .Relation tr:nth-child(odd){\n",
       "                background: #ffffff;\n",
       "            }\n",
       "            .Relation tr:nth-child(even){\n",
       "                background: #f3f1ff;\n",
       "            }\n",
       "            /* Tooltip container */\n",
       "            .djtooltip {\n",
       "            }\n",
       "            /* Tooltip text */\n",
       "            .djtooltip .djtooltiptext {\n",
       "                visibility: hidden;\n",
       "                width: 120px;\n",
       "                background-color: black;\n",
       "                color: #fff;\n",
       "                text-align: center;\n",
       "                padding: 5px 0;\n",
       "                border-radius: 6px;\n",
       "                /* Position the tooltip text - see examples below! */\n",
       "                position: absolute;\n",
       "                z-index: 1;\n",
       "            }\n",
       "            #primary {\n",
       "                font-weight: bold;\n",
       "                color: black;\n",
       "            }\n",
       "\n",
       "            #nonprimary {\n",
       "                font-weight: normal;\n",
       "                color: white;\n",
       "            }\n",
       "\n",
       "            /* Show the tooltip text when you mouse over the tooltip container */\n",
       "            .djtooltip:hover .djtooltiptext {\n",
       "                visibility: visible;\n",
       "            }\n",
       "        </style>\n",
       "        \n",
       "        <b>My Trained models</b>\n",
       "            <div style=\"max-height:1000px;max-width:1500px;overflow:auto;\">\n",
       "            <table border=\"1\" class=\"Relation\">\n",
       "                <thead> <tr style=\"text-align: right;\"> <th> <div class=\"djtooltip\">\n",
       "                                <p id=\"primary\">model_fn</p>\n",
       "                                <span class=\"djtooltiptext\">name of the model function</span>\n",
       "                            </div></th><th><div class=\"djtooltip\">\n",
       "                                <p id=\"primary\">model_hash</p>\n",
       "                                <span class=\"djtooltiptext\">hash of the model configuration</span>\n",
       "                            </div></th><th><div class=\"djtooltip\">\n",
       "                                <p id=\"primary\">dataset_fn</p>\n",
       "                                <span class=\"djtooltiptext\">name of the dataset loader function</span>\n",
       "                            </div></th><th><div class=\"djtooltip\">\n",
       "                                <p id=\"primary\">dataset_hash</p>\n",
       "                                <span class=\"djtooltiptext\">hash of the configuration object</span>\n",
       "                            </div></th><th><div class=\"djtooltip\">\n",
       "                                <p id=\"primary\">trainer_fn</p>\n",
       "                                <span class=\"djtooltiptext\">name of the Trainer loader function</span>\n",
       "                            </div></th><th><div class=\"djtooltip\">\n",
       "                                <p id=\"primary\">trainer_hash</p>\n",
       "                                <span class=\"djtooltiptext\">hash of the configuration object</span>\n",
       "                            </div></th><th><div class=\"djtooltip\">\n",
       "                                <p id=\"primary\">seed</p>\n",
       "                                <span class=\"djtooltiptext\">Random seed that is passed to the model- and dataset-builder</span>\n",
       "                            </div></th><th><div class=\"djtooltip\">\n",
       "                                <p id=\"nonprimary\">comment</p>\n",
       "                                <span class=\"djtooltiptext\">short description</span>\n",
       "                            </div></th><th><div class=\"djtooltip\">\n",
       "                                <p id=\"nonprimary\">score</p>\n",
       "                                <span class=\"djtooltiptext\">loss</span>\n",
       "                            </div></th><th><div class=\"djtooltip\">\n",
       "                                <p id=\"nonprimary\">output</p>\n",
       "                                <span class=\"djtooltiptext\">trainer object's output</span>\n",
       "                            </div></th><th><div class=\"djtooltip\">\n",
       "                                <p id=\"nonprimary\">fabrikant_name</p>\n",
       "                                <span class=\"djtooltiptext\">Name of the contributor that added this entry</span>\n",
       "                            </div></th><th><div class=\"djtooltip\">\n",
       "                                <p id=\"nonprimary\">trainedmodel_ts</p>\n",
       "                                <span class=\"djtooltiptext\">UTZ timestamp at time of insertion</span>\n",
       "                            </div> </th> </tr> </thead>\n",
       "                <tbody> <tr>  </tr> </tbody>\n",
       "            </table>\n",
       "            \n",
       "            <p>Total: 0</p></div>\n",
       "            "
      ],
      "text/plain": [
       "*model_fn    *model_hash    *dataset_fn    *dataset_hash  *trainer_fn    *trainer_hash  *seed    comment     score     output     fabrikant_name trainedmodel_t\n",
       "+----------+ +------------+ +------------+ +------------+ +------------+ +------------+ +------+ +---------+ +-------+ +--------+ +------------+ +------------+\n",
       "\n",
       " (Total: 0)"
      ]
     },
     "execution_count": 253,
     "metadata": {},
     "output_type": "execute_result"
    }
   ],
   "source": []
  },
  {
   "cell_type": "code",
   "execution_count": 5,
   "metadata": {},
   "outputs": [],
   "source": [
    "import torch\n",
    "import numpy as np"
   ]
  },
  {
   "cell_type": "code",
   "execution_count": 7,
   "metadata": {},
   "outputs": [],
   "source": [
    "from torchvision.datasets import MNIST\n",
    "from torchvision import transforms"
   ]
  },
  {
   "cell_type": "code",
   "execution_count": 9,
   "metadata": {},
   "outputs": [],
   "source": [
    "transform = transforms.Compose([\n",
    "        transforms.ToTensor(),\n",
    "#         transforms.Normalize((0.1307,), (0.3081,))\n",
    "        ])\n",
    "train = MNIST(\n",
    "            root=\"/work/\",\n",
    "            train=True,\n",
    "            download=True,\n",
    "            transform=transform,\n",
    "        )"
   ]
  },
  {
   "cell_type": "code",
   "execution_count": 137,
   "metadata": {},
   "outputs": [
    {
     "data": {
      "text/plain": [
       "(64, 1, 28, 28)"
      ]
     },
     "execution_count": 137,
     "metadata": {},
     "output_type": "execute_result"
    }
   ],
   "source": [
    "train_set = torch.utils.data.DataLoader(\n",
    "        train,\n",
    "        batch_size=64,\n",
    "        shuffle=True,\n",
    "    )\n",
    "train_batch = next(iter(train_set))\n",
    "train_batch, batch_targets = train_batch[0].numpy(), train_batch[1].numpy()\n",
    "train_batch.shape"
   ]
  },
  {
   "cell_type": "code",
   "execution_count": 250,
   "metadata": {},
   "outputs": [],
   "source": [
    "def plot_batch(batch, targets, n_rows,n_cols, name=\"\", file_type=\"png\"):\n",
    "    batch = batch.transpose(0,2,3,1)\n",
    "    fig, axs = plt.subplots(n_rows,n_cols)\n",
    "    if n_rows == 1:\n",
    "        axs= [axs]\n",
    "    for r in range(n_rows):\n",
    "        for c in range(n_cols):\n",
    "            axs[r][c].imshow(batch[r*n_cols+c].squeeze())\n",
    "            axs[r][c].set_title(targets[r*n_cols+c])\n",
    "            axs[r][c].set_axis_off()\n",
    "    plt.show()\n",
    "    if name:\n",
    "        fig.savefig(\n",
    "            name + \".\" + file_type,\n",
    "            facecolor=fig.get_facecolor(),\n",
    "            edgecolor=fig.get_edgecolor(),\n",
    "            bbox_inches=\"tight\",\n",
    "        )"
   ]
  },
  {
   "cell_type": "code",
   "execution_count": 245,
   "metadata": {},
   "outputs": [
    {
     "data": {
      "image/png": "[encoded data removed]",
      "text/plain": [
       "<Figure size 432x288 with 10 Axes>"
      ]
     },
     "metadata": {
      "needs_background": "light"
     },
     "output_type": "display_data"
    }
   ],
   "source": [
    "plot_batch(train_batch, batch_targets, 1, 10, name=\"standard_mnist\")"
   ]
  },
  {
   "cell_type": "code",
   "execution_count": 243,
   "metadata": {},
   "outputs": [
    {
     "data": {
      "image/png": "[encoded data removed]",
      "text/plain": [
       "<Figure size 432x288 with 10 Axes>"
      ]
     },
     "metadata": {
      "needs_background": "light"
     },
     "output_type": "display_data"
    }
   ],
   "source": [
    "# 40x40 to follow https://www.cs.toronto.edu/~tijmen/affNIST/ for translation\n",
    "def apply_expansion(batch, targets):\n",
    "    orig_shape = batch.shape\n",
    "    expanded_batch = np.zeros((orig_shape[0],1,40,40))\n",
    "    expanded_batch[:,:,6:-6,6:-6] = batch\n",
    "    return expanded_batch, targets\n",
    "expanded_batch, _ = apply_expansion(train_batch, batch_targets)\n",
    "plot_batch(expanded_batch, batch_targets, 1, 10, name=\"expanded_mnist\")"
   ]
  },
  {
   "cell_type": "code",
   "execution_count": 242,
   "metadata": {},
   "outputs": [
    {
     "data": {
      "image/png": "[encoded data removed]",
      "text/plain": [
       "<Figure size 432x288 with 10 Axes>"
      ]
     },
     "metadata": {
      "needs_background": "light"
     },
     "output_type": "display_data"
    }
   ],
   "source": [
    "def apply_translation(batch, targets, std=5):\n",
    "    offsets = np.clip(np.random.normal(scale=std, size=batch.shape[0]*2),a_min=-6,a_max=6)\n",
    "    offsets = offsets.astype(np.int)\n",
    "    x_offset, y_offset = offsets[:batch.shape[0]], offsets[batch.shape[0]:]\n",
    "    for b in range(batch.shape[0]):\n",
    "        batch[b,0,:,:] = np.roll(batch[b,0,:,:],(y_offset[b],x_offset[b]), axis=(0,1)) \n",
    "    return batch, targets\n",
    "translated_batch, _ = apply_translation(expanded_batch.copy(), batch_targets)\n",
    "plot_batch(translated_batch, batch_targets, 1,10, name=\"translated_mnist\")"
   ]
  },
  {
   "cell_type": "code",
   "execution_count": 241,
   "metadata": {},
   "outputs": [
    {
     "data": {
      "image/png": "[encoded data removed]",
      "text/plain": [
       "<Figure size 432x288 with 10 Axes>"
      ]
     },
     "metadata": {
      "needs_background": "light"
     },
     "output_type": "display_data"
    }
   ],
   "source": [
    "# code adapted from https://github.com/salesforce/corr_based_prediction/blob/master/gen_color_mnist.py\n",
    "# procedure following https://arxiv.org/pdf/1812.10352.pdf\n",
    "# they variaed color_variance between 0.05 and 0.02 (in 0.005 steps)\n",
    "\n",
    "# generate color codes\n",
    "class_color_means =[\n",
    "    [60,180,75],  # green\n",
    "    [255,255,25],  # yellow\n",
    "    [0,130,200],  # blue\n",
    "    [245,130,48],  # orange\n",
    "    [70,240,240],  # cyan\n",
    "    [240,50,230],  # magenta\n",
    "    [230,25,75],  # red\n",
    "    [0,0,128],  # navy\n",
    "    [220,190,255],  # lavender\n",
    "    [255,250,200],  # beige\n",
    "]\n",
    "nb_classes = 10\n",
    "def get_color_codes():\n",
    "#     C = np.random.rand(nb_classes,3)\n",
    "    C = np.asarray(class_color_means)\n",
    "    C = C/np.max(C, axis=1)[:,None]\n",
    "    return C\n",
    "\n",
    "def get_std_color(means, targets, var):\n",
    "    mean = means[targets].reshape((-1))\n",
    "    cov = var * np.eye(mean.shape[0])\n",
    "    c = np.random.multivariate_normal(mean=mean,cov=cov)\n",
    "    c = c.reshape(targets.shape[0], 3, 1, 1)\n",
    "    return c\n",
    "    \n",
    "def apply_color(x, targets, cfg_means=None, cbg_means=None, fg=True, bg=False, color_variance=0.0):\n",
    "    assert len(x.shape)==4, 'Something is wrong, size of input x should be 4 dimensional (B x C x H x W; perhaps number of channels is degenrate? If so, it should be 1)'\n",
    "    bs = targets.shape[0]\n",
    "    xs = x.shape\n",
    "    \n",
    "    x = (((x*255)>150)*255).astype(np.float)  # thresholding to separate fg and bg\n",
    "    x_rgb = np.ones((xs[0],3, xs[2], xs[3])).astype(np.float)\n",
    "    x_rgb = x_rgb* x\n",
    "    if fg:\n",
    "        x_rgb_fg = 1.*x_rgb\n",
    "        x_rgb_fg *= get_std_color(cfg_means, targets, color_variance)\n",
    "    else:\n",
    "        x_rgb_fg = np.zeros_like(x_rgb)\n",
    "    if bg:\n",
    "        x_rgb_bg = (255-x_rgb)\n",
    "        x_rgb_bg *= get_std_color(cbg_means, targets, color_variance)\n",
    "    else:\n",
    "        x_rgb_bg = np.zeros_like(x_rgb)\n",
    "    x_rgb = x_rgb_fg + x_rgb_bg\n",
    "    x_rgb = np.clip(x_rgb, a_min=0.,a_max=255.)\n",
    "    color_data_x = x_rgb/255.\n",
    "    return color_data_x, targets\n",
    "\n",
    "colored_batch, _ = apply_color(expanded_batch, batch_targets, cfg_means=get_color_codes(), \n",
    "                                     cbg_means=get_color_codes(), bg=False, fg=True, color_variance=0.02)\n",
    "plot_batch(colored_batch, batch_targets, 1,10, name=\"colored_mnist\")"
   ]
  },
  {
   "cell_type": "code",
   "execution_count": 240,
   "metadata": {},
   "outputs": [
    {
     "data": {
      "image/png": "[encoded data removed]",
      "text/plain": [
       "<Figure size 432x288 with 5 Axes>"
      ]
     },
     "metadata": {
      "needs_background": "light"
     },
     "output_type": "display_data"
    }
   ],
   "source": [
    "def generate_addition_data(batch, targets):\n",
    "    second_summand = np.arange(batch.shape[0])\n",
    "    np.random.shuffle(second_summand)\n",
    "    concat_batch = np.concatenate([batch,batch[second_summand]],axis=3) \n",
    "    summed_targets = targets + targets[second_summand]\n",
    "    return concat_batch, summed_targets\n",
    "add_batch, add_target = generate_addition_data(expanded_batch, batch_targets)\n",
    "plot_batch(add_batch, add_target, 1,5, name=\"summed_mnist\")"
   ]
  },
  {
   "cell_type": "code",
   "execution_count": 239,
   "metadata": {},
   "outputs": [
    {
     "data": {
      "image/png": "[encoded data removed]",
      "text/plain": [
       "<Figure size 432x288 with 10 Axes>"
      ]
     },
     "metadata": {
      "needs_background": "light"
     },
     "output_type": "display_data"
    }
   ],
   "source": [
    "# adapted from https://github.com/google-research/mnist-c\n",
    "def apply_gaussian_noise(batch, targets, severity=1):\n",
    "    c = [.08, .12, 0.18, 0.26, 0.38][severity - 1]\n",
    "    return np.clip(batch + np.random.normal(size=batch.shape, scale=c), 0, 1) * 255, targets\n",
    "noisy_batch, _ = apply_gaussian_noise(expanded_batch, batch_targets, severity=3)\n",
    "plot_batch(noisy_batch, batch_targets, 1,10, \"noisy_mnist\")"
   ]
  },
  {
   "cell_type": "code",
   "execution_count": 247,
   "metadata": {},
   "outputs": [],
   "source": [
    "def generate_dataset(transform_fs=(), options=()):\n",
    "    transform = transforms.Compose([\n",
    "        transforms.ToTensor(),\n",
    "        ])\n",
    "    train = MNIST(\n",
    "                root=\"/work/data/image_classification/torchvision/\",\n",
    "                train=True,\n",
    "                download=True,\n",
    "                transform=transform,\n",
    "    )  \n",
    "    train_loader = torch.utils.data.DataLoader(\n",
    "        train,\n",
    "        batch_size=64,\n",
    "        shuffle=False,\n",
    "    )\n",
    "    new_ds_source = []\n",
    "    new_ds_target = []\n",
    "    for source, target in train_loader:\n",
    "        source = source.detach().numpy()\n",
    "        target = target.detach().numpy()\n",
    "        for t, transform_f in enumerate(transform_fs):\n",
    "            source, target = transform_f(source, target, **options[t])\n",
    "        new_ds_source.append(source)\n",
    "        new_ds_target.append(target)\n",
    "    return new_ds_source, new_ds_target\n",
    "\n",
    "ds = generate_dataset(transform_fs=(apply_expansion,apply_gaussian_noise), options=({},{}))\n",
    "            "
   ]
  },
  {
   "cell_type": "code",
   "execution_count": 252,
   "metadata": {},
   "outputs": [
    {
     "data": {
      "image/png": "[encoded data removed]",
      "text/plain": [
       "<Figure size 432x288 with 10 Axes>"
      ]
     },
     "metadata": {
      "needs_background": "light"
     },
     "output_type": "display_data"
    }
   ],
   "source": [
    "plot_batch(ds[0][0], ds[1][0], 1,10)"
   ]
  },
  {
   "cell_type": "code",
   "execution_count": null,
   "metadata": {},
   "outputs": [],
   "source": []
  }
 ],
 "metadata": {
  "kernelspec": {
   "display_name": "Python 3",
   "language": "python",
   "name": "python3"
  },
  "language_info": {
   "codemirror_mode": {
    "name": "ipython",
    "version": 3
   },
   "file_extension": ".py",
   "mimetype": "text/x-python",
   "name": "python",
   "nbconvert_exporter": "python",
   "pygments_lexer": "ipython3",
   "version": "3.8.0"
  }
 },
 "nbformat": 4,
 "nbformat_minor": 4
}
