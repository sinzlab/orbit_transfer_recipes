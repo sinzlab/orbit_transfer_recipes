{
 "cells": [
  {
   "cell_type": "code",
   "execution_count": 1,
   "metadata": {},
   "outputs": [],
   "source": [
    "%matplotlib inline\n",
    "%load_ext autoreload\n",
    "%autoreload 2\n",
    "import sys\n",
    "import matplotlib.pyplot as plt\n",
    "import numpy as np\n",
    "import os\n",
    "from pathlib import Path"
   ]
  },
  {
   "cell_type": "markdown",
   "metadata": {},
   "source": [
    "### Load the experiment and corresponding libraries"
   ]
  },
  {
   "cell_type": "code",
   "execution_count": 2,
   "metadata": {},
   "outputs": [],
   "source": [
    "project_path = os.path.join(Path.home(), \"projects\")\n",
    "sys.path.append(project_path)  # enable import of \"bias_transfer_recipes\"\n",
    "os.chdir(os.path.join(project_path,\"bias_transfer_recipes/work/\"))"
   ]
  },
  {
   "cell_type": "code",
   "execution_count": 3,
   "metadata": {},
   "outputs": [
    {
     "name": "stdout",
     "output_type": "stream",
     "text": [
      "Connecting anix@datajoint-db.mlcloud.uni-tuebingen.de:3306\n"
     ]
    }
   ],
   "source": [
    "from bias_transfer_recipes.bias_transfer_recipes.main import load_experiment\n",
    "experiment = load_experiment(recipe=\"_2021_01_28_neurips\", \n",
    "                             experiment=\"rep_matching\", \n",
    "                             schema=\"bias_transfer_test\",  # schema name will automatically be generated from recipe and experiment names \n",
    "                             base_dir=os.path.join(project_path,\"bias_transfer_recipes/bias_transfer_recipes/\"),\n",
    "                             import_prefix=\"bias_transfer_recipes.bias_transfer_recipes.\", \n",
    "                             dev_mode=True  \n",
    "                            )"
   ]
  },
  {
   "cell_type": "code",
   "execution_count": 4,
   "metadata": {},
   "outputs": [
    {
     "name": "stdout",
     "output_type": "stream",
     "text": [
      "Connecting anix@datajoint-db.mlcloud.uni-tuebingen.de:3306\n"
     ]
    },
    {
     "data": {
      "text/plain": [
       "Schema `bias_transfer_test`"
      ]
     },
     "execution_count": 4,
     "metadata": {},
     "output_type": "execute_result"
    }
   ],
   "source": [
    "from bias_transfer.tables.transfer import *\n",
    "from bias_transfer.tables.nnfabrik import *\n",
    "schema"
   ]
  },
  {
   "cell_type": "markdown",
   "metadata": {},
   "source": [
    "### Run experiments"
   ]
  },
  {
   "cell_type": "code",
   "execution_count": 5,
   "metadata": {},
   "outputs": [],
   "source": [
    "from bias_transfer_recipes.bias_transfer_recipes.main import fill_tables, run_all_experiments"
   ]
  },
  {
   "cell_type": "code",
   "execution_count": 6,
   "metadata": {},
   "outputs": [],
   "source": [
    "fill_tables(experiment.transfer_experiments)  "
   ]
  },
  {
   "cell_type": "code",
   "execution_count": 7,
   "metadata": {},
   "outputs": [
    {
     "name": "stderr",
     "output_type": "stream",
     "text": [
      "  0%|          | 0/7 [00:00<?, ?it/s]"
     ]
    },
    {
     "name": "stdout",
     "output_type": "stream",
     "text": [
      "Loading dataset: TinyImageNet\n",
      "Images already downloaded in ./data/image_classification/TinyImageNet\n",
      "Model with 46028808 parameters.\n",
      "==> Starting model Training \n",
      "Validation Epoch 0: 100%|██████████| 79/79 [00:14<00:00,  5.37it/s, RepresentationMatching loss =0.0346, RepresentationMonitor magnitude =0.6266, img_classification accuracy =0.4300, img_classification loss =5.3332, patience =0.0000]\n",
      "Training Epoch 1: 100%|██████████| 704/704 [05:52<00:00,  2.00it/s, RepresentationMatching loss =0.0149, RepresentationMonitor magnitude =1.2396, img_classification accuracy =1.0722, img_classification loss =5.2359]\n",
      "Validation Epoch 0: 100%|██████████| 79/79 [00:15<00:00,  5.20it/s, RepresentationMatching loss =0.0096, RepresentationMonitor magnitude =1.0856, img_classification accuracy =1.8800, img_classification loss =5.1121, patience =0.0000]\n",
      "Restoring best model from epoch! 1\n",
      "Noise noise_snr 5.0_1.0 Epoch 1: 100%|██████████| 79/79 [00:06<00:00, 11.76it/s, img_classification accuracy =1.5500, img_classification loss =5.1585]\n",
      "Noise noise_snr 4.0_1.0 Epoch 1: 100%|██████████| 79/79 [00:06<00:00, 11.55it/s, img_classification accuracy =1.2700, img_classification loss =5.1949]\n",
      "Noise noise_snr 3.0_1.0 Epoch 1: 100%|██████████| 79/79 [00:06<00:00, 11.64it/s, img_classification accuracy =0.9800, img_classification loss =5.2444]\n",
      "Noise noise_snr 2.0_1.0 Epoch 1: 100%|██████████| 79/79 [00:06<00:00, 11.47it/s, img_classification accuracy =0.7400, img_classification loss =5.2859]\n",
      "Noise noise_snr 1.0_1.0 Epoch 1: 100%|██████████| 79/79 [00:06<00:00, 11.53it/s, img_classification accuracy =0.7000, img_classification loss =5.3202]\n",
      "Noise noise_snr 0.5_1.0 Epoch 1: 100%|██████████| 79/79 [00:06<00:00, 11.41it/s, img_classification accuracy =0.5500, img_classification loss =5.3392]\n",
      "Noise noise_snr 0.0_1.0 Epoch 1: 100%|██████████| 79/79 [00:06<00:00, 11.69it/s, img_classification accuracy =1.7100, img_classification loss =5.0997]\n",
      "Noise noise_std 0.0_1.0 Epoch 1: 100%|██████████| 79/79 [00:06<00:00, 11.63it/s, img_classification accuracy =1.7100, img_classification loss =5.0997]\n",
      "Noise noise_std 0.05_1.0 Epoch 1: 100%|██████████| 79/79 [00:06<00:00, 11.44it/s, img_classification accuracy =1.7900, img_classification loss =5.0970]\n",
      "Noise noise_std 0.1_1.0 Epoch 1: 100%|██████████| 79/79 [00:06<00:00, 11.61it/s, img_classification accuracy =1.9300, img_classification loss =5.0950]\n",
      "Noise noise_std 0.2_1.0 Epoch 1: 100%|██████████| 79/79 [00:06<00:00, 11.39it/s, img_classification accuracy =1.9900, img_classification loss =5.1022]\n",
      "Noise noise_std 0.3_1.0 Epoch 1: 100%|██████████| 79/79 [00:06<00:00, 11.52it/s, img_classification accuracy =1.8500, img_classification loss =5.1275]\n",
      "Noise noise_std 0.5_1.0 Epoch 1: 100%|██████████| 79/79 [00:06<00:00, 11.52it/s, img_classification accuracy =1.1700, img_classification loss =5.2141]\n",
      "Noise noise_std 1.0_1.0 Epoch 1: 100%|██████████| 79/79 [00:06<00:00, 11.37it/s, img_classification accuracy =0.5700, img_classification loss =5.3125]\n",
      "Test Epoch 1: 100%|██████████| 79/79 [00:06<00:00, 11.80it/s, RepresentationMatching loss =0.0000, RepresentationMonitor magnitude =0.0000, img_classification accuracy =1.6100, img_classification loss =5.1139]\n"
     ]
    },
    {
     "name": "stderr",
     "output_type": "stream",
     "text": [
      " 14%|█▍        | 1/7 [08:19<49:56, 499.34s/it]"
     ]
    },
    {
     "name": "stdout",
     "output_type": "stream",
     "text": [
      "Nothing to delete\n",
      "Deleting intermediate checkpoints...\n",
      "Loading dataset: TinyImageNet\n",
      "Images already downloaded in ./data/image_classification/TinyImageNet\n",
      "Model with 46028808 parameters.\n",
      "==> Starting model Training \n",
      "Validation Epoch 0: 100%|██████████| 79/79 [00:09<00:00,  8.55it/s, RepresentationMonitor magnitude =0.5413, img_classification accuracy =0.3700, img_classification loss =5.2983, patience =0.0000]\n",
      "Training Epoch 1: 100%|██████████| 704/704 [03:17<00:00,  3.57it/s, RepresentationMonitor magnitude =3.1627, img_classification accuracy =0.7389, img_classification loss =5.2754]\n",
      "Validation Epoch 0: 100%|██████████| 79/79 [00:09<00:00,  8.48it/s, RepresentationMonitor magnitude =2.9166, img_classification accuracy =0.8600, img_classification loss =5.2114, patience =0.0000]\n",
      "Restoring best model from epoch! 1\n",
      "Noise noise_snr 5.0_1.0 Epoch 1: 100%|██████████| 79/79 [00:06<00:00, 11.87it/s, img_classification accuracy =0.8500, img_classification loss =5.2272]\n",
      "Noise noise_snr 4.0_1.0 Epoch 1: 100%|██████████| 79/79 [00:06<00:00, 11.60it/s, img_classification accuracy =0.7800, img_classification loss =5.2346]\n",
      "Noise noise_snr 3.0_1.0 Epoch 1: 100%|██████████| 79/79 [00:06<00:00, 11.45it/s, img_classification accuracy =0.7800, img_classification loss =5.2445]\n",
      "Noise noise_snr 2.0_1.0 Epoch 1: 100%|██████████| 79/79 [00:06<00:00, 11.41it/s, img_classification accuracy =1.0000, img_classification loss =5.2608]\n",
      "Noise noise_snr 1.0_1.0 Epoch 1: 100%|██████████| 79/79 [00:06<00:00, 11.41it/s, img_classification accuracy =0.5800, img_classification loss =5.2889]\n",
      "Noise noise_snr 0.5_1.0 Epoch 1: 100%|██████████| 79/79 [00:06<00:00, 11.38it/s, img_classification accuracy =0.4600, img_classification loss =5.3104]\n",
      "Noise noise_snr 0.0_1.0 Epoch 1: 100%|██████████| 79/79 [00:06<00:00, 11.56it/s, img_classification accuracy =0.9800, img_classification loss =5.2069]\n",
      "Noise noise_std 0.0_1.0 Epoch 1: 100%|██████████| 79/79 [00:06<00:00, 11.31it/s, img_classification accuracy =0.9800, img_classification loss =5.2069]\n",
      "Noise noise_std 0.05_1.0 Epoch 1: 100%|██████████| 79/79 [00:06<00:00, 11.39it/s, img_classification accuracy =0.9700, img_classification loss =5.2079]\n",
      "Noise noise_std 0.1_1.0 Epoch 1: 100%|██████████| 79/79 [00:06<00:00, 11.31it/s, img_classification accuracy =1.0000, img_classification loss =5.2101]\n",
      "Noise noise_std 0.2_1.0 Epoch 1: 100%|██████████| 79/79 [00:06<00:00, 11.41it/s, img_classification accuracy =0.9400, img_classification loss =5.2167]\n",
      "Noise noise_std 0.3_1.0 Epoch 1: 100%|██████████| 79/79 [00:07<00:00, 11.27it/s, img_classification accuracy =0.9700, img_classification loss =5.2255]\n",
      "Noise noise_std 0.5_1.0 Epoch 1: 100%|██████████| 79/79 [00:06<00:00, 11.39it/s, img_classification accuracy =0.9500, img_classification loss =5.2459]\n",
      "Noise noise_std 1.0_1.0 Epoch 1: 100%|██████████| 79/79 [00:06<00:00, 11.30it/s, img_classification accuracy =0.7100, img_classification loss =5.2831]\n",
      "Test Epoch 1: 100%|██████████| 79/79 [00:06<00:00, 11.60it/s, RepresentationMonitor magnitude =0.0000, img_classification accuracy =1.1000, img_classification loss =5.1997]\n"
     ]
    },
    {
     "name": "stderr",
     "output_type": "stream",
     "text": [
      " 29%|██▊       | 2/7 [13:49<37:22, 448.49s/it]"
     ]
    },
    {
     "name": "stdout",
     "output_type": "stream",
     "text": [
      "Nothing to delete\n",
      "Deleting intermediate checkpoints...\n",
      "Loading dataset: TinyImageNet\n",
      "Images already downloaded in ./data/image_classification/TinyImageNet\n",
      "Model with 46028808 parameters.\n",
      "==> Starting model Training \n",
      "Validation Epoch 0: 100%|██████████| 79/79 [00:09<00:00,  8.52it/s, RepresentationMonitor magnitude =0.5413, img_classification accuracy =0.3700, img_classification loss =5.2983, patience =0.0000]\n",
      "Training Epoch 1: 100%|██████████| 704/704 [03:18<00:00,  3.54it/s, RepresentationMonitor magnitude =3.1627, img_classification accuracy =0.7389, img_classification loss =5.2754]\n",
      "Validation Epoch 0: 100%|██████████| 79/79 [00:09<00:00,  8.11it/s, RepresentationMonitor magnitude =2.9166, img_classification accuracy =0.8600, img_classification loss =5.2114, patience =0.0000]\n",
      "Restoring best model from epoch! 1\n",
      "Noise noise_snr 5.0_1.0 Epoch 1: 100%|██████████| 79/79 [00:06<00:00, 11.90it/s, img_classification accuracy =0.8500, img_classification loss =5.2272]\n",
      "Noise noise_snr 4.0_1.0 Epoch 1: 100%|██████████| 79/79 [00:06<00:00, 11.62it/s, img_classification accuracy =0.7800, img_classification loss =5.2346]\n",
      "Noise noise_snr 3.0_1.0 Epoch 1: 100%|██████████| 79/79 [00:06<00:00, 11.42it/s, img_classification accuracy =0.7800, img_classification loss =5.2445]\n",
      "Noise noise_snr 2.0_1.0 Epoch 1: 100%|██████████| 79/79 [00:06<00:00, 11.38it/s, img_classification accuracy =1.0000, img_classification loss =5.2608]\n",
      "Noise noise_snr 1.0_1.0 Epoch 1: 100%|██████████| 79/79 [00:06<00:00, 11.61it/s, img_classification accuracy =0.5800, img_classification loss =5.2889]\n",
      "Noise noise_snr 0.5_1.0 Epoch 1: 100%|██████████| 79/79 [00:06<00:00, 11.52it/s, img_classification accuracy =0.4600, img_classification loss =5.3104]\n",
      "Noise noise_snr 0.0_1.0 Epoch 1: 100%|██████████| 79/79 [00:06<00:00, 11.77it/s, img_classification accuracy =0.9800, img_classification loss =5.2069]\n",
      "Noise noise_std 0.0_1.0 Epoch 1: 100%|██████████| 79/79 [00:06<00:00, 11.46it/s, img_classification accuracy =0.9800, img_classification loss =5.2069]\n",
      "Noise noise_std 0.05_1.0 Epoch 1: 100%|██████████| 79/79 [00:06<00:00, 11.47it/s, img_classification accuracy =0.9700, img_classification loss =5.2079]\n",
      "Noise noise_std 0.1_1.0 Epoch 1: 100%|██████████| 79/79 [00:06<00:00, 11.33it/s, img_classification accuracy =1.0000, img_classification loss =5.2101]\n",
      "Noise noise_std 0.2_1.0 Epoch 1: 100%|██████████| 79/79 [00:06<00:00, 11.51it/s, img_classification accuracy =0.9400, img_classification loss =5.2167]\n",
      "Noise noise_std 0.3_1.0 Epoch 1: 100%|██████████| 79/79 [00:06<00:00, 11.35it/s, img_classification accuracy =0.9700, img_classification loss =5.2255]\n",
      "Noise noise_std 0.5_1.0 Epoch 1: 100%|██████████| 79/79 [00:06<00:00, 11.44it/s, img_classification accuracy =0.9500, img_classification loss =5.2459]\n",
      "Noise noise_std 1.0_1.0 Epoch 1: 100%|██████████| 79/79 [00:06<00:00, 11.45it/s, img_classification accuracy =0.7100, img_classification loss =5.2831]\n",
      "Test Epoch 1: 100%|██████████| 79/79 [00:06<00:00, 11.63it/s, RepresentationMonitor magnitude =0.0000, img_classification accuracy =1.1000, img_classification loss =5.1997]\n"
     ]
    },
    {
     "name": "stderr",
     "output_type": "stream",
     "text": [
      " 43%|████▎     | 3/7 [19:20<27:33, 413.35s/it]"
     ]
    },
    {
     "name": "stdout",
     "output_type": "stream",
     "text": [
      "Nothing to delete\n",
      "Deleting intermediate checkpoints...\n",
      "Loading dataset: TinyImageNet\n",
      "Images already downloaded in ./data/image_classification/TinyImageNet\n",
      "Model with 46028808 parameters.\n",
      "==> Starting model Training \n",
      "Validation Epoch 0: 100%|██████████| 79/79 [00:06<00:00, 11.67it/s, img_classification accuracy =0.3700, img_classification loss =5.2983, patience =0.0000]\n",
      "Training Epoch 1:  81%|████████▏ | 573/704 [02:23<00:32,  3.99it/s, img_classification accuracy =0.6613, img_classification loss =5.2881]"
     ]
    },
    {
     "name": "stderr",
     "output_type": "stream",
     "text": [
      " 43%|████▎     | 3/7 [21:53<29:11, 437.86s/it]"
     ]
    },
    {
     "name": "stdout",
     "output_type": "stream",
     "text": [
      "\n"
     ]
    },
    {
     "name": "stderr",
     "output_type": "stream",
     "text": [
      "\n"
     ]
    },
    {
     "ename": "KeyboardInterrupt",
     "evalue": "",
     "output_type": "error",
     "traceback": [
      "\u001b[0;31m---------------------------------------------------------------------------\u001b[0m",
      "\u001b[0;31mKeyboardInterrupt\u001b[0m                         Traceback (most recent call last)",
      "\u001b[0;32m<ipython-input-7-17be38befa24>\u001b[0m in \u001b[0;36m<module>\u001b[0;34m\u001b[0m\n\u001b[0;32m----> 1\u001b[0;31m \u001b[0mrun_all_experiments\u001b[0m\u001b[0;34m(\u001b[0m\u001b[0mexperiment\u001b[0m\u001b[0;34m.\u001b[0m\u001b[0mtransfer_experiments\u001b[0m\u001b[0;34m)\u001b[0m\u001b[0;34m\u001b[0m\u001b[0;34m\u001b[0m\u001b[0m\n\u001b[0m",
      "\u001b[0;32m~/projects/bias_transfer_recipes/bias_transfer_recipes/main.py\u001b[0m in \u001b[0;36mrun_all_experiments\u001b[0;34m(configs)\u001b[0m\n\u001b[1;32m     88\u001b[0m \u001b[0;34m\u001b[0m\u001b[0m\n\u001b[1;32m     89\u001b[0m     \u001b[0mlevel\u001b[0m \u001b[0;34m=\u001b[0m \u001b[0;36m0\u001b[0m\u001b[0;34m\u001b[0m\u001b[0;34m\u001b[0m\u001b[0m\n\u001b[0;32m---> 90\u001b[0;31m     \u001b[0;32mwhile\u001b[0m \u001b[0mrun_experiments\u001b[0m\u001b[0;34m(\u001b[0m\u001b[0mconfigs\u001b[0m\u001b[0;34m,\u001b[0m \u001b[0mTransferredTrainedModel\u001b[0m\u001b[0;34m(\u001b[0m\u001b[0;34m)\u001b[0m\u001b[0;34m,\u001b[0m \u001b[0mlevel\u001b[0m\u001b[0;34m=\u001b[0m\u001b[0mlevel\u001b[0m\u001b[0;34m)\u001b[0m\u001b[0;34m:\u001b[0m\u001b[0;34m\u001b[0m\u001b[0;34m\u001b[0m\u001b[0m\n\u001b[0m\u001b[1;32m     91\u001b[0m         \u001b[0mlevel\u001b[0m \u001b[0;34m+=\u001b[0m \u001b[0;36m1\u001b[0m\u001b[0;34m\u001b[0m\u001b[0;34m\u001b[0m\u001b[0m\n\u001b[1;32m     92\u001b[0m \u001b[0;34m\u001b[0m\u001b[0m\n",
      "\u001b[0;32m~/projects/bias_transfer_recipes/bias_transfer_recipes/main.py\u001b[0m in \u001b[0;36mrun_experiments\u001b[0;34m(configs, train_table, order, level)\u001b[0m\n\u001b[1;32m     74\u001b[0m         \u001b[0;32mreturn\u001b[0m \u001b[0;32mFalse\u001b[0m  \u001b[0;31m# we've run all transfer steps\u001b[0m\u001b[0;34m\u001b[0m\u001b[0;34m\u001b[0m\u001b[0m\n\u001b[1;32m     75\u001b[0m     \u001b[0;32mtry\u001b[0m\u001b[0;34m:\u001b[0m\u001b[0;34m\u001b[0m\u001b[0;34m\u001b[0m\u001b[0m\n\u001b[0;32m---> 76\u001b[0;31m         train_table.populate(\n\u001b[0m\u001b[1;32m     77\u001b[0m             \u001b[0mrestrictions\u001b[0m\u001b[0;34m,\u001b[0m \u001b[0mdisplay_progress\u001b[0m\u001b[0;34m=\u001b[0m\u001b[0;32mTrue\u001b[0m\u001b[0;34m,\u001b[0m \u001b[0mreserve_jobs\u001b[0m\u001b[0;34m=\u001b[0m\u001b[0;32mTrue\u001b[0m\u001b[0;34m,\u001b[0m \u001b[0morder\u001b[0m\u001b[0;34m=\u001b[0m\u001b[0morder\u001b[0m\u001b[0;34m\u001b[0m\u001b[0;34m\u001b[0m\u001b[0m\n\u001b[1;32m     78\u001b[0m         )\n",
      "\u001b[0;32m/usr/local/lib/python3.8/dist-packages/datajoint/autopopulate.py\u001b[0m in \u001b[0;36mpopulate\u001b[0;34m(self, suppress_errors, return_exception_objects, reserve_jobs, order, limit, max_calls, display_progress, *restrictions)\u001b[0m\n\u001b[1;32m    158\u001b[0m                     \u001b[0mself\u001b[0m\u001b[0;34m.\u001b[0m\u001b[0m__class__\u001b[0m\u001b[0;34m.\u001b[0m\u001b[0m_allow_insert\u001b[0m \u001b[0;34m=\u001b[0m \u001b[0;32mTrue\u001b[0m\u001b[0;34m\u001b[0m\u001b[0;34m\u001b[0m\u001b[0m\n\u001b[1;32m    159\u001b[0m                     \u001b[0;32mtry\u001b[0m\u001b[0;34m:\u001b[0m\u001b[0;34m\u001b[0m\u001b[0;34m\u001b[0m\u001b[0m\n\u001b[0;32m--> 160\u001b[0;31m                         \u001b[0mmake\u001b[0m\u001b[0;34m(\u001b[0m\u001b[0mdict\u001b[0m\u001b[0;34m(\u001b[0m\u001b[0mkey\u001b[0m\u001b[0;34m)\u001b[0m\u001b[0;34m)\u001b[0m\u001b[0;34m\u001b[0m\u001b[0;34m\u001b[0m\u001b[0m\n\u001b[0m\u001b[1;32m    161\u001b[0m                     \u001b[0;32mexcept\u001b[0m \u001b[0;34m(\u001b[0m\u001b[0mKeyboardInterrupt\u001b[0m\u001b[0;34m,\u001b[0m \u001b[0mSystemExit\u001b[0m\u001b[0;34m,\u001b[0m \u001b[0mException\u001b[0m\u001b[0;34m)\u001b[0m \u001b[0;32mas\u001b[0m \u001b[0merror\u001b[0m\u001b[0;34m:\u001b[0m\u001b[0;34m\u001b[0m\u001b[0;34m\u001b[0m\u001b[0m\n\u001b[1;32m    162\u001b[0m                         \u001b[0;32mtry\u001b[0m\u001b[0;34m:\u001b[0m\u001b[0;34m\u001b[0m\u001b[0;34m\u001b[0m\u001b[0m\n",
      "\u001b[0;32m~/projects/nnfabrik/nnfabrik/templates/transfer/checkpoint.py\u001b[0m in \u001b[0;36mmake\u001b[0;34m(self, key)\u001b[0m\n\u001b[1;32m     56\u001b[0m     \u001b[0;32mdef\u001b[0m \u001b[0mmake\u001b[0m\u001b[0;34m(\u001b[0m\u001b[0mself\u001b[0m\u001b[0;34m,\u001b[0m \u001b[0mkey\u001b[0m\u001b[0;34m)\u001b[0m\u001b[0;34m:\u001b[0m\u001b[0;34m\u001b[0m\u001b[0;34m\u001b[0m\u001b[0m\n\u001b[1;32m     57\u001b[0m         \u001b[0morig_key\u001b[0m \u001b[0;34m=\u001b[0m \u001b[0mcopy\u001b[0m\u001b[0;34m.\u001b[0m\u001b[0mdeepcopy\u001b[0m\u001b[0;34m(\u001b[0m\u001b[0mkey\u001b[0m\u001b[0;34m)\u001b[0m\u001b[0;34m\u001b[0m\u001b[0;34m\u001b[0m\u001b[0m\n\u001b[0;32m---> 58\u001b[0;31m         \u001b[0mTransferredTrainedModelBase\u001b[0m\u001b[0;34m.\u001b[0m\u001b[0mmake\u001b[0m\u001b[0;34m(\u001b[0m\u001b[0mself\u001b[0m\u001b[0;34m,\u001b[0m \u001b[0mkey\u001b[0m\u001b[0;34m)\u001b[0m\u001b[0;34m\u001b[0m\u001b[0;34m\u001b[0m\u001b[0m\n\u001b[0m\u001b[1;32m     59\u001b[0m         \u001b[0;31m# Clean up checkpoints after training:\u001b[0m\u001b[0;34m\u001b[0m\u001b[0;34m\u001b[0m\u001b[0;34m\u001b[0m\u001b[0m\n\u001b[1;32m     60\u001b[0m         \u001b[0mtrainer_config\u001b[0m \u001b[0;34m=\u001b[0m \u001b[0;34m(\u001b[0m\u001b[0mself\u001b[0m\u001b[0;34m.\u001b[0m\u001b[0mtrainer_table\u001b[0m \u001b[0;34m&\u001b[0m \u001b[0morig_key\u001b[0m\u001b[0;34m)\u001b[0m\u001b[0;34m.\u001b[0m\u001b[0mfetch1\u001b[0m\u001b[0;34m(\u001b[0m\u001b[0;34m\"trainer_config\"\u001b[0m\u001b[0;34m)\u001b[0m\u001b[0;34m\u001b[0m\u001b[0;34m\u001b[0m\u001b[0m\n",
      "\u001b[0;32m~/projects/nnfabrik/nnfabrik/templates/transfer/transferred_trained_model.py\u001b[0m in \u001b[0;36mmake\u001b[0;34m(self, key)\u001b[0m\n\u001b[1;32m    262\u001b[0m             \u001b[0mself\u001b[0m\u001b[0;34m.\u001b[0m\u001b[0mcall_back\u001b[0m\u001b[0;34m(\u001b[0m\u001b[0;34m**\u001b[0m\u001b[0mkwargs\u001b[0m\u001b[0;34m)\u001b[0m\u001b[0;34m\u001b[0m\u001b[0;34m\u001b[0m\u001b[0m\n\u001b[1;32m    263\u001b[0m \u001b[0;34m\u001b[0m\u001b[0m\n\u001b[0;32m--> 264\u001b[0;31m         score, output, model_state, *extra = trainer(\n\u001b[0m\u001b[1;32m    265\u001b[0m             \u001b[0mmodel\u001b[0m\u001b[0;34m=\u001b[0m\u001b[0mmodel\u001b[0m\u001b[0;34m,\u001b[0m \u001b[0mdataloaders\u001b[0m\u001b[0;34m=\u001b[0m\u001b[0mdataloaders\u001b[0m\u001b[0;34m,\u001b[0m \u001b[0mseed\u001b[0m\u001b[0;34m=\u001b[0m\u001b[0mseed\u001b[0m\u001b[0;34m,\u001b[0m \u001b[0muid\u001b[0m\u001b[0;34m=\u001b[0m\u001b[0mkey\u001b[0m\u001b[0;34m,\u001b[0m \u001b[0mcb\u001b[0m\u001b[0;34m=\u001b[0m\u001b[0mcall_back\u001b[0m\u001b[0;34m\u001b[0m\u001b[0;34m\u001b[0m\u001b[0m\n\u001b[1;32m    266\u001b[0m         )\n",
      "\u001b[0;32m~/projects/bias_transfer/bias_transfer/trainer/img_classification_trainer.py\u001b[0m in \u001b[0;36mtrainer\u001b[0;34m(model, dataloaders, seed, uid, cb, eval_only, **kwargs)\u001b[0m\n\u001b[1;32m     15\u001b[0m \u001b[0;32mdef\u001b[0m \u001b[0mtrainer\u001b[0m\u001b[0;34m(\u001b[0m\u001b[0mmodel\u001b[0m\u001b[0;34m,\u001b[0m \u001b[0mdataloaders\u001b[0m\u001b[0;34m,\u001b[0m \u001b[0mseed\u001b[0m\u001b[0;34m,\u001b[0m \u001b[0muid\u001b[0m\u001b[0;34m,\u001b[0m \u001b[0mcb\u001b[0m\u001b[0;34m,\u001b[0m \u001b[0meval_only\u001b[0m\u001b[0;34m=\u001b[0m\u001b[0;32mFalse\u001b[0m\u001b[0;34m,\u001b[0m \u001b[0;34m**\u001b[0m\u001b[0mkwargs\u001b[0m\u001b[0;34m)\u001b[0m\u001b[0;34m:\u001b[0m\u001b[0;34m\u001b[0m\u001b[0;34m\u001b[0m\u001b[0m\n\u001b[1;32m     16\u001b[0m     \u001b[0mt\u001b[0m \u001b[0;34m=\u001b[0m \u001b[0mImgClassificationTrainer\u001b[0m\u001b[0;34m(\u001b[0m\u001b[0mdataloaders\u001b[0m\u001b[0;34m,\u001b[0m \u001b[0mmodel\u001b[0m\u001b[0;34m,\u001b[0m \u001b[0mseed\u001b[0m\u001b[0;34m,\u001b[0m \u001b[0muid\u001b[0m\u001b[0;34m,\u001b[0m \u001b[0mcb\u001b[0m\u001b[0;34m,\u001b[0m \u001b[0;34m**\u001b[0m\u001b[0mkwargs\u001b[0m\u001b[0;34m)\u001b[0m\u001b[0;34m\u001b[0m\u001b[0;34m\u001b[0m\u001b[0m\n\u001b[0;32m---> 17\u001b[0;31m     \u001b[0;32mreturn\u001b[0m \u001b[0mt\u001b[0m\u001b[0;34m.\u001b[0m\u001b[0mtrain\u001b[0m\u001b[0;34m(\u001b[0m\u001b[0;34m)\u001b[0m\u001b[0;34m\u001b[0m\u001b[0;34m\u001b[0m\u001b[0m\n\u001b[0m\u001b[1;32m     18\u001b[0m \u001b[0;34m\u001b[0m\u001b[0m\n\u001b[1;32m     19\u001b[0m \u001b[0;34m\u001b[0m\u001b[0m\n",
      "\u001b[0;32m~/projects/bias_transfer/bias_transfer/trainer/trainer.py\u001b[0m in \u001b[0;36mtrain\u001b[0;34m(self)\u001b[0m\n\u001b[1;32m    229\u001b[0m         ):\n\u001b[1;32m    230\u001b[0m             \u001b[0mself\u001b[0m\u001b[0;34m.\u001b[0m\u001b[0mtracker\u001b[0m\u001b[0;34m.\u001b[0m\u001b[0mlog_objective\u001b[0m\u001b[0;34m(\u001b[0m\u001b[0mself\u001b[0m\u001b[0;34m.\u001b[0m\u001b[0moptimizer\u001b[0m\u001b[0;34m.\u001b[0m\u001b[0mparam_groups\u001b[0m\u001b[0;34m[\u001b[0m\u001b[0;36m0\u001b[0m\u001b[0;34m]\u001b[0m\u001b[0;34m[\u001b[0m\u001b[0;34m\"lr\"\u001b[0m\u001b[0;34m]\u001b[0m\u001b[0;34m,\u001b[0m \u001b[0;34m(\u001b[0m\u001b[0;34m\"LR\"\u001b[0m\u001b[0;34m,\u001b[0m\u001b[0;34m)\u001b[0m\u001b[0;34m)\u001b[0m\u001b[0;34m\u001b[0m\u001b[0;34m\u001b[0m\u001b[0m\n\u001b[0;32m--> 231\u001b[0;31m             self.main_loop(\n\u001b[0m\u001b[1;32m    232\u001b[0m                 \u001b[0mdata_loader\u001b[0m\u001b[0;34m=\u001b[0m\u001b[0mself\u001b[0m\u001b[0;34m.\u001b[0m\u001b[0mdata_loaders\u001b[0m\u001b[0;34m[\u001b[0m\u001b[0;34m\"train\"\u001b[0m\u001b[0;34m]\u001b[0m\u001b[0;34m,\u001b[0m \u001b[0mmode\u001b[0m\u001b[0;34m=\u001b[0m\u001b[0;34m\"Training\"\u001b[0m\u001b[0;34m,\u001b[0m \u001b[0mepoch\u001b[0m\u001b[0;34m=\u001b[0m\u001b[0mepoch\u001b[0m\u001b[0;34m,\u001b[0m\u001b[0;34m\u001b[0m\u001b[0;34m\u001b[0m\u001b[0m\n\u001b[1;32m    233\u001b[0m             )\n",
      "\u001b[0;32m~/projects/bias_transfer/bias_transfer/trainer/trainer.py\u001b[0m in \u001b[0;36mmain_loop\u001b[0;34m(self, data_loader, mode, epoch, cycler, cycler_args, module_options, return_outputs)\u001b[0m\n\u001b[1;32m    177\u001b[0m                     )\n\u001b[1;32m    178\u001b[0m \u001b[0;34m\u001b[0m\u001b[0m\n\u001b[0;32m--> 179\u001b[0;31m                 \u001b[0mloss\u001b[0m \u001b[0;34m=\u001b[0m \u001b[0mself\u001b[0m\u001b[0;34m.\u001b[0m\u001b[0mcompute_loss\u001b[0m\u001b[0;34m(\u001b[0m\u001b[0mmode\u001b[0m\u001b[0;34m,\u001b[0m \u001b[0mtask_key\u001b[0m\u001b[0;34m,\u001b[0m \u001b[0mloss\u001b[0m\u001b[0;34m,\u001b[0m \u001b[0moutputs\u001b[0m\u001b[0;34m,\u001b[0m \u001b[0mtargets\u001b[0m\u001b[0;34m)\u001b[0m\u001b[0;34m\u001b[0m\u001b[0;34m\u001b[0m\u001b[0m\n\u001b[0m\u001b[1;32m    180\u001b[0m                 \u001b[0mself\u001b[0m\u001b[0;34m.\u001b[0m\u001b[0mtracker\u001b[0m\u001b[0;34m.\u001b[0m\u001b[0mdisplay_log\u001b[0m\u001b[0;34m(\u001b[0m\u001b[0mtqdm_iterator\u001b[0m\u001b[0;34m=\u001b[0m\u001b[0mt\u001b[0m\u001b[0;34m,\u001b[0m \u001b[0mkeys\u001b[0m\u001b[0;34m=\u001b[0m\u001b[0;34m(\u001b[0m\u001b[0mmode\u001b[0m\u001b[0;34m,\u001b[0m\u001b[0;34m)\u001b[0m\u001b[0;34m)\u001b[0m\u001b[0;34m\u001b[0m\u001b[0;34m\u001b[0m\u001b[0m\n\u001b[1;32m    181\u001b[0m                 \u001b[0;32mif\u001b[0m \u001b[0mtrain_mode\u001b[0m\u001b[0;34m:\u001b[0m\u001b[0;34m\u001b[0m\u001b[0;34m\u001b[0m\u001b[0m\n",
      "\u001b[0;32m~/projects/bias_transfer/bias_transfer/trainer/img_classification_trainer.py\u001b[0m in \u001b[0;36mcompute_loss\u001b[0;34m(self, mode, task_key, loss, outputs, targets)\u001b[0m\n\u001b[1;32m    104\u001b[0m                 \u001b[0m_\u001b[0m\u001b[0;34m,\u001b[0m \u001b[0mpredicted\u001b[0m \u001b[0;34m=\u001b[0m \u001b[0moutputs\u001b[0m\u001b[0;34m.\u001b[0m\u001b[0mmax\u001b[0m\u001b[0;34m(\u001b[0m\u001b[0;36m1\u001b[0m\u001b[0;34m)\u001b[0m\u001b[0;34m\u001b[0m\u001b[0;34m\u001b[0m\u001b[0m\n\u001b[1;32m    105\u001b[0m                 self.tracker.log_objective(\n\u001b[0;32m--> 106\u001b[0;31m                     \u001b[0;36m100\u001b[0m \u001b[0;34m*\u001b[0m \u001b[0mpredicted\u001b[0m\u001b[0;34m.\u001b[0m\u001b[0meq\u001b[0m\u001b[0;34m(\u001b[0m\u001b[0mtargets\u001b[0m\u001b[0;34m)\u001b[0m\u001b[0;34m.\u001b[0m\u001b[0msum\u001b[0m\u001b[0;34m(\u001b[0m\u001b[0;34m)\u001b[0m\u001b[0;34m.\u001b[0m\u001b[0mitem\u001b[0m\u001b[0;34m(\u001b[0m\u001b[0;34m)\u001b[0m\u001b[0;34m,\u001b[0m\u001b[0;34m\u001b[0m\u001b[0;34m\u001b[0m\u001b[0m\n\u001b[0m\u001b[1;32m    107\u001b[0m                     \u001b[0mkeys\u001b[0m\u001b[0;34m=\u001b[0m\u001b[0;34m(\u001b[0m\u001b[0mmode\u001b[0m\u001b[0;34m,\u001b[0m \u001b[0mtask_key\u001b[0m\u001b[0;34m,\u001b[0m \u001b[0;34m\"accuracy\"\u001b[0m\u001b[0;34m)\u001b[0m\u001b[0;34m,\u001b[0m\u001b[0;34m\u001b[0m\u001b[0;34m\u001b[0m\u001b[0m\n\u001b[1;32m    108\u001b[0m                 )\n",
      "\u001b[0;31mKeyboardInterrupt\u001b[0m: "
     ]
    }
   ],
   "source": [
    "run_all_experiments(experiment.transfer_experiments)"
   ]
  },
  {
   "cell_type": "code",
   "execution_count": 57,
   "metadata": {},
   "outputs": [
    {
     "name": "stdout",
     "output_type": "stream",
     "text": [
      "> \u001b[0;32m/usr/local/lib/python3.8/dist-packages/torch/nn/functional.py\u001b[0m(2680)\u001b[0;36mcosine_embedding_loss\u001b[0;34m()\u001b[0m\n",
      "\u001b[0;32m   2678 \u001b[0;31m    \u001b[0;32melse\u001b[0m\u001b[0;34m:\u001b[0m\u001b[0;34m\u001b[0m\u001b[0;34m\u001b[0m\u001b[0m\n",
      "\u001b[0m\u001b[0;32m   2679 \u001b[0;31m        \u001b[0mreduction_enum\u001b[0m \u001b[0;34m=\u001b[0m \u001b[0m_Reduction\u001b[0m\u001b[0;34m.\u001b[0m\u001b[0mget_enum\u001b[0m\u001b[0;34m(\u001b[0m\u001b[0mreduction\u001b[0m\u001b[0;34m)\u001b[0m\u001b[0;34m\u001b[0m\u001b[0;34m\u001b[0m\u001b[0m\n",
      "\u001b[0m\u001b[0;32m-> 2680 \u001b[0;31m    \u001b[0;32mreturn\u001b[0m \u001b[0mtorch\u001b[0m\u001b[0;34m.\u001b[0m\u001b[0mcosine_embedding_loss\u001b[0m\u001b[0;34m(\u001b[0m\u001b[0minput1\u001b[0m\u001b[0;34m,\u001b[0m \u001b[0minput2\u001b[0m\u001b[0;34m,\u001b[0m \u001b[0mtarget\u001b[0m\u001b[0;34m,\u001b[0m \u001b[0mmargin\u001b[0m\u001b[0;34m,\u001b[0m \u001b[0mreduction_enum\u001b[0m\u001b[0;34m)\u001b[0m\u001b[0;34m\u001b[0m\u001b[0;34m\u001b[0m\u001b[0m\n",
      "\u001b[0m\u001b[0;32m   2681 \u001b[0;31m\u001b[0;34m\u001b[0m\u001b[0m\n",
      "\u001b[0m\u001b[0;32m   2682 \u001b[0;31m\u001b[0;34m\u001b[0m\u001b[0m\n",
      "\u001b[0m\n"
     ]
    },
    {
     "name": "stdin",
     "output_type": "stream",
     "text": [
      "ipdb>  input1.shape\n"
     ]
    },
    {
     "name": "stdout",
     "output_type": "stream",
     "text": [
      "torch.Size([128, 256, 16, 16])\n"
     ]
    },
    {
     "name": "stdin",
     "output_type": "stream",
     "text": [
      "ipdb>  target.shape\n"
     ]
    },
    {
     "name": "stdout",
     "output_type": "stream",
     "text": [
      "torch.Size([128])\n"
     ]
    },
    {
     "name": "stdin",
     "output_type": "stream",
     "text": [
      "ipdb>  q\n"
     ]
    }
   ],
   "source": [
    "%debug"
   ]
  },
  {
   "cell_type": "code",
   "execution_count": 62,
   "metadata": {},
   "outputs": [],
   "source": [
    "# dElete all jobs in error state:\n",
    "if schema.database != \"nnfabrik_core\": \n",
    "    (schema.jobs & \"status='error'\").delete()"
   ]
  },
  {
   "cell_type": "code",
   "execution_count": 48,
   "metadata": {},
   "outputs": [
    {
     "name": "stdin",
     "output_type": "stream",
     "text": [
      "Proceed to delete entire schema `bias_transfer_test`? [yes, No]:  yes\n"
     ]
    }
   ],
   "source": [
    "# drop the entire schema: THIS IS WILL DELETE EVERYTHING!\n",
    "if schema.database != \"nnfabrik_core\": \n",
    "    schema.drop()"
   ]
  },
  {
   "cell_type": "code",
   "execution_count": 46,
   "metadata": {},
   "outputs": [],
   "source": [
    "from torch.utils.tensorboard import SummaryWriter\n",
    "import numpy as np\n",
    "import torch\n",
    "\n",
    "experiment = \"noisy_test\"\n",
    "run = \"next run\"\n",
    "state = torch.load(Checkpoint().fetch(\"state\",as_dict=True)[0][\"state\"])\n",
    "tracker = state[\"tracker\"]\n"
   ]
  },
  {
   "cell_type": "code",
   "execution_count": 47,
   "metadata": {},
   "outputs": [
    {
     "name": "stderr",
     "output_type": "stream",
     "text": [
      "/src/ml-utils/mlutils/tracking.py:144: RuntimeWarning: invalid value encountered in true_divide\n",
      "  n_log[key] = l / norm\n"
     ]
    }
   ],
   "source": [
    "def write_to_tensor_board(experiment, run, tracker):\n",
    "    writer = SummaryWriter()\n",
    "    def write_objective(obj_names, obj):\n",
    "        if isinstance(obj,dict):\n",
    "            for obj_name, sub_obj in obj.items():\n",
    "                if obj_name == \"normalization\":\n",
    "                    continue\n",
    "                write_objective(obj_names+[obj_name],sub_obj)\n",
    "        else:\n",
    "            obj_val = tracker.get_objective(*obj_names)\n",
    "            for i, val in enumerate(obj_val):\n",
    "                writer.add_scalar('/'.join([run]+obj_names), val, i)\n",
    "            \n",
    "    write_objective([],tracker.objectives)\n",
    "write_to_tensor_board(experiment, run, tracker)"
   ]
  },
  {
   "cell_type": "code",
   "execution_count": 33,
   "metadata": {},
   "outputs": [
    {
     "data": {
      "text/plain": [
       "{'LR': 0,\n",
       " 'Training': {'img_classification': {'loss': 0,\n",
       "   'accuracy': 0,\n",
       "   'normalization': 0},\n",
       "  'NoiseAdvTraining': {'loss': 0, 'normalization': 0}},\n",
       " 'Validation': {'img_classification': {'loss': 0,\n",
       "   'accuracy': 0,\n",
       "   'normalization': 0},\n",
       "  'NoiseAdvTraining': {'loss': 0, 'normalization': 0}},\n",
       " 'Test': {'NoiseAdvTraining': {'loss': 0, 'normalization': 0}}}"
      ]
     },
     "execution_count": 33,
     "metadata": {},
     "output_type": "execute_result"
    }
   ],
   "source": [
    "tracker.objectives"
   ]
  },
  {
   "cell_type": "code",
   "execution_count": 42,
   "metadata": {},
   "outputs": [
    {
     "data": {
      "text/plain": [
       "{'LR': [0.0003, 0.0003, 0.0003, 0],\n",
       " 'Training': {'img_classification': {'loss': [312.89678955078125,\n",
       "    477.7629699707031,\n",
       "    316.83843994140625,\n",
       "    0],\n",
       "   'accuracy': [1900, 1900, 1100, 0],\n",
       "   'normalization': [128, 128, 128, 0]},\n",
       "  'NoiseAdvTraining': {'loss': [3.6585111916065216,\n",
       "    5.0233617424964905,\n",
       "    1.6073499619960785,\n",
       "    0],\n",
       "   'normalization': [60, 60, 60, 0]}},\n",
       " 'Validation': {'img_classification': {'loss': [297.705322265625,\n",
       "    298.799072265625,\n",
       "    294.47955322265625,\n",
       "    292.99310302734375],\n",
       "   'accuracy': [2500, 1200, 3400, 2800],\n",
       "   'normalization': [128, 128, 128, 128]},\n",
       "  'NoiseAdvTraining': {'loss': [1.491750106215477,\n",
       "    1.491749994456768,\n",
       "    1.491749882698059,\n",
       "    1.491750106215477],\n",
       "   'normalization': [60, 60, 60, 60]}},\n",
       " 'Test': {'NoiseAdvTraining': {'loss': [0, 0, 0, 0],\n",
       "   'normalization': [0, 0, 0, 0]}}}"
      ]
     },
     "execution_count": 42,
     "metadata": {},
     "output_type": "execute_result"
    }
   ],
   "source": [
    "tracker.log"
   ]
  },
  {
   "cell_type": "code",
   "execution_count": 36,
   "metadata": {},
   "outputs": [
    {
     "data": {
      "text/plain": [
       "array([14.84375, 14.84375,  8.59375,      nan])"
      ]
     },
     "execution_count": 36,
     "metadata": {},
     "output_type": "execute_result"
    }
   ],
   "source": [
    "tracker.get_objective(\"LR\")\n",
    "tracker.get_objective(\"Training\",\"img_classification\",\"accuracy\")"
   ]
  },
  {
   "cell_type": "code",
   "execution_count": 5,
   "metadata": {},
   "outputs": [],
   "source": [
    "import torch\n",
    "import numpy as np"
   ]
  },
  {
   "cell_type": "code",
   "execution_count": 6,
   "metadata": {},
   "outputs": [],
   "source": [
    "from torchvision.datasets import SVHN\n",
    "from torchvision import transforms"
   ]
  },
  {
   "cell_type": "code",
   "execution_count": 7,
   "metadata": {},
   "outputs": [
    {
     "name": "stdout",
     "output_type": "stream",
     "text": [
      "Using downloaded and verified file: /work/train_32x32.mat\n"
     ]
    }
   ],
   "source": [
    "transform = transforms.Compose([\n",
    "        transforms.ToTensor(),\n",
    "#         transforms.Normalize((0.1307,), (0.3081,))\n",
    "        ])\n",
    "train = SVHN(\n",
    "            root=\"/work/\",\n",
    "            split=\"train\",\n",
    "            download=True,\n",
    "            transform=transform,\n",
    "        )"
   ]
  },
  {
   "cell_type": "code",
   "execution_count": 8,
   "metadata": {},
   "outputs": [
    {
     "data": {
      "text/plain": [
       "torch.Size([64, 3, 32, 32])"
      ]
     },
     "execution_count": 8,
     "metadata": {},
     "output_type": "execute_result"
    }
   ],
   "source": [
    "train_set = torch.utils.data.DataLoader(\n",
    "        train,\n",
    "        batch_size=64,\n",
    "        shuffle=False,\n",
    "    )\n",
    "next(iter(train_set))[0].shape"
   ]
  },
  {
   "cell_type": "code",
   "execution_count": 65,
   "metadata": {},
   "outputs": [],
   "source": [
    "mean = 0.\n",
    "std = 0.\n",
    "nb_samples = 0.\n",
    "data_ = []\n",
    "for data, _ in train_set:\n",
    "    data_.append(data)\n",
    "    batch_samples = data.size(0)\n",
    "    data = data.view(batch_samples, data.size(1), -1)\n",
    "    mean += data.mean(2).sum(0)\n",
    "    std += data.std(2).sum(0)\n",
    "    nb_samples += batch_samples\n",
    "\n",
    "mean /= nb_samples\n",
    "std /= nb_samples\n",
    "dataset = torch.cat(data_)"
   ]
  },
  {
   "cell_type": "code",
   "execution_count": 66,
   "metadata": {},
   "outputs": [
    {
     "name": "stdout",
     "output_type": "stream",
     "text": [
      "tensor([0.4377, 0.4438, 0.4728]) tensor([0.1201, 0.1231, 0.1052])\n"
     ]
    }
   ],
   "source": [
    "print(mean,std)"
   ]
  },
  {
   "cell_type": "code",
   "execution_count": 67,
   "metadata": {},
   "outputs": [],
   "source": [
    "std_ = dataset.std([0, 2, 3])\n",
    "mean_ = dataset.mean([0, 2, 3])"
   ]
  },
  {
   "cell_type": "code",
   "execution_count": 68,
   "metadata": {},
   "outputs": [
    {
     "data": {
      "text/plain": [
       "tensor([0.1980, 0.2010, 0.1970])"
      ]
     },
     "execution_count": 68,
     "metadata": {},
     "output_type": "execute_result"
    }
   ],
   "source": [
    "std_"
   ]
  },
  {
   "cell_type": "code",
   "execution_count": 69,
   "metadata": {},
   "outputs": [
    {
     "data": {
      "text/plain": [
       "tensor([0.4377, 0.4438, 0.4728])"
      ]
     },
     "execution_count": 69,
     "metadata": {},
     "output_type": "execute_result"
    }
   ],
   "source": [
    "mean_"
   ]
  },
  {
   "cell_type": "code",
   "execution_count": 70,
   "metadata": {},
   "outputs": [
    {
     "data": {
      "text/plain": [
       "torch.Size([73257, 3, 32, 32])"
      ]
     },
     "execution_count": 70,
     "metadata": {},
     "output_type": "execute_result"
    }
   ],
   "source": [
    "dataset.shape"
   ]
  },
  {
   "cell_type": "code",
   "execution_count": 5,
   "metadata": {},
   "outputs": [],
   "source": [
    "import datajoint as dj"
   ]
  },
  {
   "cell_type": "code",
   "execution_count": 7,
   "metadata": {},
   "outputs": [],
   "source": [
    "x=list(range(10000))"
   ]
  },
  {
   "cell_type": "code",
   "execution_count": 8,
   "metadata": {},
   "outputs": [],
   "source": [
    "import pickle as pkl"
   ]
  },
  {
   "cell_type": "code",
   "execution_count": 11,
   "metadata": {},
   "outputs": [],
   "source": [
    "with open(\"x_out.pkl\", \"wb\") as f:\n",
    "    pkl.dump(x,f)"
   ]
  },
  {
   "cell_type": "code",
   "execution_count": 14,
   "metadata": {},
   "outputs": [],
   "source": [
    "@schema\n",
    "class DataStorage(dj.Manual):\n",
    "    storage = \"minio\"\n",
    "    \n",
    "    @property\n",
    "    def definition(self):\n",
    "        definition = \"\"\"\n",
    "        # Contains the data generated by the transfer step, stored externally.\n",
    "        id: varchar(128)\n",
    "        ---\n",
    "        data:            attach@{storage}\n",
    "        \"\"\".format(\n",
    "            storage=self.storage\n",
    "        )\n",
    "        return definition"
   ]
  },
  {
   "cell_type": "code",
   "execution_count": 15,
   "metadata": {},
   "outputs": [
    {
     "data": {
      "text/html": [
       "\n",
       "        \n",
       "        <style type=\"text/css\">\n",
       "            .Relation{\n",
       "                border-collapse:collapse;\n",
       "            }\n",
       "            .Relation th{\n",
       "                background: #A0A0A0; color: #ffffff; padding:4px; border:#f0e0e0 1px solid;\n",
       "                font-weight: normal; font-family: monospace; font-size: 100%;\n",
       "            }\n",
       "            .Relation td{\n",
       "                padding:4px; border:#f0e0e0 1px solid; font-size:100%;\n",
       "            }\n",
       "            .Relation tr:nth-child(odd){\n",
       "                background: #ffffff;\n",
       "            }\n",
       "            .Relation tr:nth-child(even){\n",
       "                background: #f3f1ff;\n",
       "            }\n",
       "            /* Tooltip container */\n",
       "            .djtooltip {\n",
       "            }\n",
       "            /* Tooltip text */\n",
       "            .djtooltip .djtooltiptext {\n",
       "                visibility: hidden;\n",
       "                width: 120px;\n",
       "                background-color: black;\n",
       "                color: #fff;\n",
       "                text-align: center;\n",
       "                padding: 5px 0;\n",
       "                border-radius: 6px;\n",
       "                /* Position the tooltip text - see examples below! */\n",
       "                position: absolute;\n",
       "                z-index: 1;\n",
       "            }\n",
       "            #primary {\n",
       "                font-weight: bold;\n",
       "                color: black;\n",
       "            }\n",
       "\n",
       "            #nonprimary {\n",
       "                font-weight: normal;\n",
       "                color: white;\n",
       "            }\n",
       "\n",
       "            /* Show the tooltip text when you mouse over the tooltip container */\n",
       "            .djtooltip:hover .djtooltiptext {\n",
       "                visibility: visible;\n",
       "            }\n",
       "        </style>\n",
       "        \n",
       "        <b>Contains the data generated by the transfer step, stored externally.</b>\n",
       "            <div style=\"max-height:1000px;max-width:1500px;overflow:auto;\">\n",
       "            <table border=\"1\" class=\"Relation\">\n",
       "                <thead> <tr style=\"text-align: right;\"> <th> <div class=\"djtooltip\">\n",
       "                                <p id=\"primary\">id</p>\n",
       "                                <span class=\"djtooltiptext\"></span>\n",
       "                            </div></th><th><div class=\"djtooltip\">\n",
       "                                <p id=\"nonprimary\">data</p>\n",
       "                                <span class=\"djtooltiptext\"></span>\n",
       "                            </div> </th> </tr> </thead>\n",
       "                <tbody> <tr>  </tr> </tbody>\n",
       "            </table>\n",
       "            \n",
       "            <p>Total: 0</p></div>\n",
       "            "
      ],
      "text/plain": [
       "*id    data      \n",
       "+----+ +--------+\n",
       "\n",
       " (Total: 0)"
      ]
     },
     "execution_count": 15,
     "metadata": {},
     "output_type": "execute_result"
    }
   ],
   "source": [
    "DataStorage()"
   ]
  },
  {
   "cell_type": "code",
   "execution_count": 16,
   "metadata": {},
   "outputs": [],
   "source": [
    "DataStorage.insert1({\"id\":\"test\",\"data\":\"./x_out.pkl\"})"
   ]
  },
  {
   "cell_type": "code",
   "execution_count": 18,
   "metadata": {},
   "outputs": [
    {
     "data": {
      "text/html": [
       "\n",
       "        \n",
       "        <style type=\"text/css\">\n",
       "            .Relation{\n",
       "                border-collapse:collapse;\n",
       "            }\n",
       "            .Relation th{\n",
       "                background: #A0A0A0; color: #ffffff; padding:4px; border:#f0e0e0 1px solid;\n",
       "                font-weight: normal; font-family: monospace; font-size: 100%;\n",
       "            }\n",
       "            .Relation td{\n",
       "                padding:4px; border:#f0e0e0 1px solid; font-size:100%;\n",
       "            }\n",
       "            .Relation tr:nth-child(odd){\n",
       "                background: #ffffff;\n",
       "            }\n",
       "            .Relation tr:nth-child(even){\n",
       "                background: #f3f1ff;\n",
       "            }\n",
       "            /* Tooltip container */\n",
       "            .djtooltip {\n",
       "            }\n",
       "            /* Tooltip text */\n",
       "            .djtooltip .djtooltiptext {\n",
       "                visibility: hidden;\n",
       "                width: 120px;\n",
       "                background-color: black;\n",
       "                color: #fff;\n",
       "                text-align: center;\n",
       "                padding: 5px 0;\n",
       "                border-radius: 6px;\n",
       "                /* Position the tooltip text - see examples below! */\n",
       "                position: absolute;\n",
       "                z-index: 1;\n",
       "            }\n",
       "            #primary {\n",
       "                font-weight: bold;\n",
       "                color: black;\n",
       "            }\n",
       "\n",
       "            #nonprimary {\n",
       "                font-weight: normal;\n",
       "                color: white;\n",
       "            }\n",
       "\n",
       "            /* Show the tooltip text when you mouse over the tooltip container */\n",
       "            .djtooltip:hover .djtooltiptext {\n",
       "                visibility: visible;\n",
       "            }\n",
       "        </style>\n",
       "        \n",
       "        <b>Contains the data generated by the transfer step, stored externally.</b>\n",
       "            <div style=\"max-height:1000px;max-width:1500px;overflow:auto;\">\n",
       "            <table border=\"1\" class=\"Relation\">\n",
       "                <thead> <tr style=\"text-align: right;\"> <th> <div class=\"djtooltip\">\n",
       "                                <p id=\"primary\">id</p>\n",
       "                                <span class=\"djtooltiptext\"></span>\n",
       "                            </div></th><th><div class=\"djtooltip\">\n",
       "                                <p id=\"nonprimary\">data</p>\n",
       "                                <span class=\"djtooltiptext\"></span>\n",
       "                            </div> </th> </tr> </thead>\n",
       "                <tbody> <tr> <td>test</td>\n",
       "<td>=BLOB=</td> </tr> </tbody>\n",
       "            </table>\n",
       "            \n",
       "            <p>Total: 1</p></div>\n",
       "            "
      ],
      "text/plain": [
       "*id      data      \n",
       "+------+ +--------+\n",
       "test     =BLOB=    \n",
       " (Total: 1)"
      ]
     },
     "execution_count": 18,
     "metadata": {},
     "output_type": "execute_result"
    }
   ],
   "source": [
    "DataStorage()"
   ]
  },
  {
   "cell_type": "code",
   "execution_count": 22,
   "metadata": {},
   "outputs": [],
   "source": [
    "out = DataStorage.fetch1()"
   ]
  },
  {
   "cell_type": "code",
   "execution_count": 23,
   "metadata": {},
   "outputs": [
    {
     "data": {
      "text/plain": [
       "{'id': 'test', 'data': 'x_out.pkl'}"
      ]
     },
     "execution_count": 23,
     "metadata": {},
     "output_type": "execute_result"
    }
   ],
   "source": [
    "out"
   ]
  },
  {
   "cell_type": "code",
   "execution_count": null,
   "metadata": {},
   "outputs": [],
   "source": []
  }
 ],
 "metadata": {
  "kernelspec": {
   "display_name": "env",
   "language": "python",
   "name": "env"
  },
  "language_info": {
   "codemirror_mode": {
    "name": "ipython",
    "version": 3
   },
   "file_extension": ".py",
   "mimetype": "text/x-python",
   "name": "python",
   "nbconvert_exporter": "python",
   "pygments_lexer": "ipython3",
   "version": "3.8.2"
  }
 },
 "nbformat": 4,
 "nbformat_minor": 4
}
