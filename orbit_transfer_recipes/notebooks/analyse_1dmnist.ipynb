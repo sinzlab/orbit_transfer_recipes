{
 "cells": [
  {
   "cell_type": "code",
   "execution_count": 1,
   "metadata": {},
   "outputs": [],
   "source": [
    "%matplotlib inline\n",
    "%load_ext autoreload\n",
    "%autoreload 2\n",
    "import sys\n",
    "import matplotlib.pyplot as plt\n",
    "import numpy as np\n",
    "import os\n",
    "from pathlib import Path"
   ]
  },
  {
   "cell_type": "markdown",
   "metadata": {},
   "source": [
    "### Load the experiment and corresponding libraries"
   ]
  },
  {
   "cell_type": "code",
   "execution_count": 2,
   "metadata": {},
   "outputs": [],
   "source": [
    "project_path = os.path.join(Path.home(), \"projects\")\n",
    "sys.path.append(project_path)  # enable import of \"bias_transfer_recipes\"\n",
    "os.chdir(os.path.join(project_path,\"bias_transfer_recipes/work/\"))"
   ]
  },
  {
   "cell_type": "code",
   "execution_count": 3,
   "metadata": {},
   "outputs": [
    {
     "name": "stdout",
     "output_type": "stream",
     "text": [
      "Connecting anix@datajoint-db.mlcloud.uni-tuebingen.de:3306\n"
     ]
    }
   ],
   "source": [
    "from bias_transfer_recipes.bias_transfer_recipes.main import load_experiment\n",
    "experiment = load_experiment(recipe=\"_2021_09_24_aistats\", \n",
    "                             experiment=\"baselines_fully_conv_shift\", \n",
    "                             schema=\"\",  # schema name will automatically be generated from recipe and experiment names \n",
    "                             base_dir=os.path.join(project_path,\"bias_transfer_recipes/bias_transfer_recipes/\"),\n",
    "                             import_prefix=\"bias_transfer_recipes.bias_transfer_recipes.\", \n",
    "                             dev_mode=True  \n",
    "                            )"
   ]
  },
  {
   "cell_type": "code",
   "execution_count": 4,
   "metadata": {},
   "outputs": [
    {
     "name": "stdout",
     "output_type": "stream",
     "text": [
      "Connecting anix@datajoint-db.mlcloud.uni-tuebingen.de:3306\n"
     ]
    },
    {
     "data": {
      "text/plain": [
       "Schema `bias_transfer__2021_09_24_aistats`"
      ]
     },
     "execution_count": 4,
     "metadata": {},
     "output_type": "execute_result"
    }
   ],
   "source": [
    "from nntransfer.tables.transfer import *\n",
    "from nntransfer.tables.nnfabrik import *\n",
    "from nntransfer.analysis.plot import plot, save_plot\n",
    "from nntransfer.configs.base import Description\n",
    "import nnfabrik as nnf\n",
    "schema"
   ]
  },
  {
   "cell_type": "code",
   "execution_count": 5,
   "metadata": {},
   "outputs": [
    {
     "ename": "DuplicateError",
     "evalue": "(\"Duplicate entry 'mnist1d_raw' for key 'PRIMARY'\", 'To ignore duplicate entries in insert, set skip_duplicates=True')",
     "output_type": "error",
     "traceback": [
      "\u001b[0;31m---------------------------------------------------------------------------\u001b[0m",
      "\u001b[0;31mDuplicateError\u001b[0m                            Traceback (most recent call last)",
      "\u001b[0;32m<ipython-input-5-23779d6512df>\u001b[0m in \u001b[0;36m<module>\u001b[0;34m\u001b[0m\n\u001b[1;32m      1\u001b[0m \u001b[0;32mfrom\u001b[0m \u001b[0mbias_transfer\u001b[0m\u001b[0;34m.\u001b[0m\u001b[0mdataset\u001b[0m\u001b[0;34m.\u001b[0m\u001b[0mmnist_1d\u001b[0m \u001b[0;32mimport\u001b[0m \u001b[0mDataStorage\u001b[0m\u001b[0;34m\u001b[0m\u001b[0;34m\u001b[0m\u001b[0m\n\u001b[1;32m      2\u001b[0m \u001b[0mDataStorage\u001b[0m\u001b[0;34m(\u001b[0m\u001b[0;34m)\u001b[0m\u001b[0;34m\u001b[0m\u001b[0;34m\u001b[0m\u001b[0m\n\u001b[0;32m----> 3\u001b[0;31m \u001b[0mDataStorage\u001b[0m\u001b[0;34m(\u001b[0m\u001b[0;34m)\u001b[0m\u001b[0;34m.\u001b[0m\u001b[0minsert1\u001b[0m\u001b[0;34m(\u001b[0m\u001b[0;34m{\u001b[0m\u001b[0;34m\"id\"\u001b[0m\u001b[0;34m:\u001b[0m\u001b[0;34m\"mnist1d_raw\"\u001b[0m\u001b[0;34m,\u001b[0m\u001b[0;34m\"data\"\u001b[0m\u001b[0;34m:\u001b[0m\u001b[0;34m\"./mnist1d_no_translation_data.pkl\"\u001b[0m\u001b[0;34m}\u001b[0m\u001b[0;34m)\u001b[0m\u001b[0;34m\u001b[0m\u001b[0;34m\u001b[0m\u001b[0m\n\u001b[0m\u001b[1;32m      4\u001b[0m \u001b[0;31m# DataStorage().insert1({\"id\":\"mnist1d_raw_50k\",\"data\":\"./mnist1d_data_no_shift_50k.pkl\"})\u001b[0m\u001b[0;34m\u001b[0m\u001b[0;34m\u001b[0m\u001b[0;34m\u001b[0m\u001b[0m\n",
      "\u001b[0;32m/usr/local/lib/python3.8/dist-packages/datajoint/table.py\u001b[0m in \u001b[0;36minsert1\u001b[0;34m(self, row, **kwargs)\u001b[0m\n\u001b[1;32m    173\u001b[0m         \u001b[0mFor\u001b[0m \u001b[0mkwargs\u001b[0m\u001b[0;34m,\u001b[0m \u001b[0msee\u001b[0m \u001b[0minsert\u001b[0m\u001b[0;34m(\u001b[0m\u001b[0;34m)\u001b[0m\u001b[0;34m\u001b[0m\u001b[0;34m\u001b[0m\u001b[0m\n\u001b[1;32m    174\u001b[0m         \"\"\"\n\u001b[0;32m--> 175\u001b[0;31m         \u001b[0mself\u001b[0m\u001b[0;34m.\u001b[0m\u001b[0minsert\u001b[0m\u001b[0;34m(\u001b[0m\u001b[0;34m(\u001b[0m\u001b[0mrow\u001b[0m\u001b[0;34m,\u001b[0m\u001b[0;34m)\u001b[0m\u001b[0;34m,\u001b[0m \u001b[0;34m**\u001b[0m\u001b[0mkwargs\u001b[0m\u001b[0;34m)\u001b[0m\u001b[0;34m\u001b[0m\u001b[0;34m\u001b[0m\u001b[0m\n\u001b[0m\u001b[1;32m    176\u001b[0m \u001b[0;34m\u001b[0m\u001b[0m\n\u001b[1;32m    177\u001b[0m     \u001b[0;32mdef\u001b[0m \u001b[0minsert\u001b[0m\u001b[0;34m(\u001b[0m\u001b[0mself\u001b[0m\u001b[0;34m,\u001b[0m \u001b[0mrows\u001b[0m\u001b[0;34m,\u001b[0m \u001b[0mreplace\u001b[0m\u001b[0;34m=\u001b[0m\u001b[0;32mFalse\u001b[0m\u001b[0;34m,\u001b[0m \u001b[0mskip_duplicates\u001b[0m\u001b[0;34m=\u001b[0m\u001b[0;32mFalse\u001b[0m\u001b[0;34m,\u001b[0m \u001b[0mignore_extra_fields\u001b[0m\u001b[0;34m=\u001b[0m\u001b[0;32mFalse\u001b[0m\u001b[0;34m,\u001b[0m \u001b[0mallow_direct_insert\u001b[0m\u001b[0;34m=\u001b[0m\u001b[0;32mNone\u001b[0m\u001b[0;34m)\u001b[0m\u001b[0;34m:\u001b[0m\u001b[0;34m\u001b[0m\u001b[0;34m\u001b[0m\u001b[0m\n",
      "\u001b[0;32m/usr/local/lib/python3.8/dist-packages/datajoint/table.py\u001b[0m in \u001b[0;36minsert\u001b[0;34m(self, rows, replace, skip_duplicates, ignore_extra_fields, allow_direct_insert)\u001b[0m\n\u001b[1;32m    344\u001b[0m                 \u001b[0;32mraise\u001b[0m \u001b[0merr\u001b[0m\u001b[0;34m.\u001b[0m\u001b[0msuggest\u001b[0m\u001b[0;34m(\u001b[0m\u001b[0;34m'To ignore extra fields in insert, set ignore_extra_fields=True'\u001b[0m\u001b[0;34m)\u001b[0m \u001b[0;32mfrom\u001b[0m \u001b[0;32mNone\u001b[0m\u001b[0;34m\u001b[0m\u001b[0;34m\u001b[0m\u001b[0m\n\u001b[1;32m    345\u001b[0m             \u001b[0;32mexcept\u001b[0m \u001b[0mDuplicateError\u001b[0m \u001b[0;32mas\u001b[0m \u001b[0merr\u001b[0m\u001b[0;34m:\u001b[0m\u001b[0;34m\u001b[0m\u001b[0;34m\u001b[0m\u001b[0m\n\u001b[0;32m--> 346\u001b[0;31m                 \u001b[0;32mraise\u001b[0m \u001b[0merr\u001b[0m\u001b[0;34m.\u001b[0m\u001b[0msuggest\u001b[0m\u001b[0;34m(\u001b[0m\u001b[0;34m'To ignore duplicate entries in insert, set skip_duplicates=True'\u001b[0m\u001b[0;34m)\u001b[0m \u001b[0;32mfrom\u001b[0m \u001b[0;32mNone\u001b[0m\u001b[0;34m\u001b[0m\u001b[0;34m\u001b[0m\u001b[0m\n\u001b[0m\u001b[1;32m    347\u001b[0m \u001b[0;34m\u001b[0m\u001b[0m\n\u001b[1;32m    348\u001b[0m     \u001b[0;32mdef\u001b[0m \u001b[0mdelete_quick\u001b[0m\u001b[0;34m(\u001b[0m\u001b[0mself\u001b[0m\u001b[0;34m,\u001b[0m \u001b[0mget_count\u001b[0m\u001b[0;34m=\u001b[0m\u001b[0;32mFalse\u001b[0m\u001b[0;34m)\u001b[0m\u001b[0;34m:\u001b[0m\u001b[0;34m\u001b[0m\u001b[0;34m\u001b[0m\u001b[0m\n",
      "\u001b[0;31mDuplicateError\u001b[0m: (\"Duplicate entry 'mnist1d_raw' for key 'PRIMARY'\", 'To ignore duplicate entries in insert, set skip_duplicates=True')"
     ]
    }
   ],
   "source": [
    "from bias_transfer.dataset.mnist_1d import DataStorage\n",
    "DataStorage()\n",
    "DataStorage().insert1({\"id\":\"mnist1d_raw\",\"data\":\"./mnist1d_no_translation_data.pkl\"})\n",
    "# DataStorage().insert1({\"id\":\"mnist1d_raw_50k\",\"data\":\"./mnist1d_data_no_shift_50k.pkl\"})"
   ]
  },
  {
   "cell_type": "code",
   "execution_count": 5,
   "metadata": {},
   "outputs": [
    {
     "data": {
      "text/html": [
       "\n",
       "        \n",
       "        <style type=\"text/css\">\n",
       "            .Relation{\n",
       "                border-collapse:collapse;\n",
       "            }\n",
       "            .Relation th{\n",
       "                background: #A0A0A0; color: #ffffff; padding:4px; border:#f0e0e0 1px solid;\n",
       "                font-weight: normal; font-family: monospace; font-size: 100%;\n",
       "            }\n",
       "            .Relation td{\n",
       "                padding:4px; border:#f0e0e0 1px solid; font-size:100%;\n",
       "            }\n",
       "            .Relation tr:nth-child(odd){\n",
       "                background: #ffffff;\n",
       "            }\n",
       "            .Relation tr:nth-child(even){\n",
       "                background: #f3f1ff;\n",
       "            }\n",
       "            /* Tooltip container */\n",
       "            .djtooltip {\n",
       "            }\n",
       "            /* Tooltip text */\n",
       "            .djtooltip .djtooltiptext {\n",
       "                visibility: hidden;\n",
       "                width: 120px;\n",
       "                background-color: black;\n",
       "                color: #fff;\n",
       "                text-align: center;\n",
       "                padding: 5px 0;\n",
       "                border-radius: 6px;\n",
       "                /* Position the tooltip text - see examples below! */\n",
       "                position: absolute;\n",
       "                z-index: 1;\n",
       "            }\n",
       "            #primary {\n",
       "                font-weight: bold;\n",
       "                color: black;\n",
       "            }\n",
       "\n",
       "            #nonprimary {\n",
       "                font-weight: normal;\n",
       "                color: white;\n",
       "            }\n",
       "\n",
       "            /* Show the tooltip text when you mouse over the tooltip container */\n",
       "            .djtooltip:hover .djtooltiptext {\n",
       "                visibility: visible;\n",
       "            }\n",
       "        </style>\n",
       "        \n",
       "        <b>Transferred trained models</b>\n",
       "            <div style=\"max-height:1000px;max-width:1500px;overflow:auto;\">\n",
       "            <table border=\"1\" class=\"Relation\">\n",
       "                <thead> <tr style=\"text-align: right;\"> <th> <div class=\"djtooltip\">\n",
       "                                <p id=\"primary\">transfer_step</p>\n",
       "                                <span class=\"djtooltiptext\">transfer step</span>\n",
       "                            </div></th><th><div class=\"djtooltip\">\n",
       "                                <p id=\"primary\">model_fn</p>\n",
       "                                <span class=\"djtooltiptext\">name of the model function</span>\n",
       "                            </div></th><th><div class=\"djtooltip\">\n",
       "                                <p id=\"primary\">model_hash</p>\n",
       "                                <span class=\"djtooltiptext\">hash of the model configuration</span>\n",
       "                            </div></th><th><div class=\"djtooltip\">\n",
       "                                <p id=\"primary\">dataset_fn</p>\n",
       "                                <span class=\"djtooltiptext\">name of the dataset loader function</span>\n",
       "                            </div></th><th><div class=\"djtooltip\">\n",
       "                                <p id=\"primary\">dataset_hash</p>\n",
       "                                <span class=\"djtooltiptext\">hash of the configuration object</span>\n",
       "                            </div></th><th><div class=\"djtooltip\">\n",
       "                                <p id=\"primary\">trainer_fn</p>\n",
       "                                <span class=\"djtooltiptext\">name of the Trainer loader function</span>\n",
       "                            </div></th><th><div class=\"djtooltip\">\n",
       "                                <p id=\"primary\">trainer_hash</p>\n",
       "                                <span class=\"djtooltiptext\">hash of the configuration object</span>\n",
       "                            </div></th><th><div class=\"djtooltip\">\n",
       "                                <p id=\"primary\">seed</p>\n",
       "                                <span class=\"djtooltiptext\">Random seed that is passed to the model- and dataset-builder</span>\n",
       "                            </div></th><th><div class=\"djtooltip\">\n",
       "                                <p id=\"primary\">collapsed_history</p>\n",
       "                                <span class=\"djtooltiptext\">hash of keys from all previous training steps</span>\n",
       "                            </div></th><th><div class=\"djtooltip\">\n",
       "                                <p id=\"primary\">data_transfer</p>\n",
       "                                <span class=\"djtooltiptext\">flag if we do data transfer</span>\n",
       "                            </div></th><th><div class=\"djtooltip\">\n",
       "                                <p id=\"nonprimary\">comment</p>\n",
       "                                <span class=\"djtooltiptext\">short description</span>\n",
       "                            </div></th><th><div class=\"djtooltip\">\n",
       "                                <p id=\"nonprimary\">score</p>\n",
       "                                <span class=\"djtooltiptext\">loss</span>\n",
       "                            </div></th><th><div class=\"djtooltip\">\n",
       "                                <p id=\"nonprimary\">output</p>\n",
       "                                <span class=\"djtooltiptext\">trainer object's output</span>\n",
       "                            </div></th><th><div class=\"djtooltip\">\n",
       "                                <p id=\"nonprimary\">fabrikant_name</p>\n",
       "                                <span class=\"djtooltiptext\">Name of the contributor that added this entry</span>\n",
       "                            </div></th><th><div class=\"djtooltip\">\n",
       "                                <p id=\"nonprimary\">trainedmodel_ts</p>\n",
       "                                <span class=\"djtooltiptext\">UTZ timestamp at time of insertion</span>\n",
       "                            </div> </th> </tr> </thead>\n",
       "                <tbody> <tr> <td>0</td>\n",
       "<td>bias_transfer.models.classification_model_builder</td>\n",
       "<td>302a5fa0d5d19412ad2848b82355b58e</td>\n",
       "<td>bias_transfer.dataset.torchvision_dataset_loader</td>\n",
       "<td>2140f0d175739a655060a344e2e9e023</td>\n",
       "<td>bias_transfer.trainer.img_classification</td>\n",
       "<td>1402cb4ebc958ad5c3ba14208b93c079</td>\n",
       "<td>42</td>\n",
       "<td></td>\n",
       "<td>0</td>\n",
       "<td>Training on MNIST-C.MNIST mlp.</td>\n",
       "<td>54.2883</td>\n",
       "<td>=BLOB=</td>\n",
       "<td>Arne Nix</td>\n",
       "<td>2021-10-14 14:59:07</td></tr><tr><td>0</td>\n",
       "<td>bias_transfer.models.classification_model_builder</td>\n",
       "<td>302a5fa0d5d19412ad2848b82355b58e</td>\n",
       "<td>bias_transfer.dataset.torchvision_dataset_loader</td>\n",
       "<td>34cf5fe50a3e4763063dce5971dc7ccb</td>\n",
       "<td>bias_transfer.trainer.img_classification</td>\n",
       "<td>160eee09a9145f9631fd2c76950ccdad</td>\n",
       "<td>42</td>\n",
       "<td></td>\n",
       "<td>0</td>\n",
       "<td>.MNIST mlp.</td>\n",
       "<td>98.53</td>\n",
       "<td>=BLOB=</td>\n",
       "<td>Arne Nix</td>\n",
       "<td>2021-10-12 21:45:59</td></tr><tr><td>0</td>\n",
       "<td>bias_transfer.models.classification_model_builder</td>\n",
       "<td>725b46c0eca76db0b83c6cf4be43c913</td>\n",
       "<td>bias_transfer.dataset.torchvision_dataset_loader</td>\n",
       "<td>34cf5fe50a3e4763063dce5971dc7ccb</td>\n",
       "<td>bias_transfer.trainer.img_classification</td>\n",
       "<td>e0b2dab4354940870b54319fe5398949</td>\n",
       "<td>42</td>\n",
       "<td></td>\n",
       "<td>0</td>\n",
       "<td>Translation Invariant.MNIST cnn.</td>\n",
       "<td>99.01</td>\n",
       "<td>=BLOB=</td>\n",
       "<td>Arne Nix</td>\n",
       "<td>2021-10-12 21:47:09</td></tr><tr><td>0</td>\n",
       "<td>bias_transfer.models.classification_model_builder</td>\n",
       "<td>a3082d06536931955ace2533aba4f1ed</td>\n",
       "<td>bias_transfer.dataset.torchvision_dataset_loader</td>\n",
       "<td>34cf5fe50a3e4763063dce5971dc7ccb</td>\n",
       "<td>bias_transfer.trainer.img_classification</td>\n",
       "<td>e8b3048d78506858f7b6fd57380a0113</td>\n",
       "<td>42</td>\n",
       "<td></td>\n",
       "<td>0</td>\n",
       "<td>Rotation Invariant.MNIST gcnn.</td>\n",
       "<td>99.11</td>\n",
       "<td>=BLOB=</td>\n",
       "<td>Arne Nix</td>\n",
       "<td>2021-10-12 23:26:53</td></tr><tr><td>0</td>\n",
       "<td>bias_transfer.models.classification_model_builder</td>\n",
       "<td>dfcca836d21f61115b9694c474bc9e51</td>\n",
       "<td>bias_transfer.dataset.torchvision_dataset_loader</td>\n",
       "<td>34cf5fe50a3e4763063dce5971dc7ccb</td>\n",
       "<td>bias_transfer.trainer.img_classification</td>\n",
       "<td>9d505e0710c0cca30dfcdf36b22baee9</td>\n",
       "<td>42</td>\n",
       "<td></td>\n",
       "<td>0</td>\n",
       "<td>Noise Augmented.MNIST mlp.</td>\n",
       "<td>98.74</td>\n",
       "<td>=BLOB=</td>\n",
       "<td>Arne Nix</td>\n",
       "<td>2021-10-12 21:42:40</td></tr><tr><td>0</td>\n",
       "<td>bias_transfer.models.mnist_1d.model_fn</td>\n",
       "<td>6bed1b925c51bb0f19c1ad78f603e6d4</td>\n",
       "<td>bias_transfer.dataset.mnist_1d.dataset_fn</td>\n",
       "<td>1f3d3615b4f5a4cb2a856ff0ad17e82c</td>\n",
       "<td>bias_transfer.trainer.simple_trainer.trainer_fn</td>\n",
       "<td>572fe143f3740b69ed105313f62ef997</td>\n",
       "<td>42</td>\n",
       "<td></td>\n",
       "<td>0</td>\n",
       "<td>Teacher..</td>\n",
       "<td>98.4</td>\n",
       "<td>=BLOB=</td>\n",
       "<td>Arne Nix</td>\n",
       "<td>2021-10-14 18:58:15</td></tr><tr><td>0</td>\n",
       "<td>bias_transfer.models.mnist_1d.model_fn</td>\n",
       "<td>6bed1b925c51bb0f19c1ad78f603e6d4</td>\n",
       "<td>bias_transfer.dataset.mnist_1d.dataset_fn</td>\n",
       "<td>298c402373eff965dd579acbe81c5215</td>\n",
       "<td>bias_transfer.trainer.simple_trainer.trainer_fn</td>\n",
       "<td>572fe143f3740b69ed105313f62ef997</td>\n",
       "<td>42</td>\n",
       "<td></td>\n",
       "<td>0</td>\n",
       "<td>Teacher..</td>\n",
       "<td>98.2</td>\n",
       "<td>=BLOB=</td>\n",
       "<td>Arne Nix</td>\n",
       "<td>2021-10-14 18:57:45</td></tr><tr><td>0</td>\n",
       "<td>bias_transfer.models.mnist_1d.model_fn</td>\n",
       "<td>6bed1b925c51bb0f19c1ad78f603e6d4</td>\n",
       "<td>bias_transfer.dataset.mnist_1d.dataset_fn</td>\n",
       "<td>3c3b212a6cfc0b3a3647729e64f00025</td>\n",
       "<td>bias_transfer.trainer.simple_trainer.trainer_fn</td>\n",
       "<td>572fe143f3740b69ed105313f62ef997</td>\n",
       "<td>42</td>\n",
       "<td></td>\n",
       "<td>0</td>\n",
       "<td>Teacher..</td>\n",
       "<td>98.4</td>\n",
       "<td>=BLOB=</td>\n",
       "<td>Arne Nix</td>\n",
       "<td>2021-10-14 18:58:08</td></tr><tr><td>0</td>\n",
       "<td>bias_transfer.models.mnist_1d.model_fn</td>\n",
       "<td>6bed1b925c51bb0f19c1ad78f603e6d4</td>\n",
       "<td>bias_transfer.dataset.mnist_1d.dataset_fn</td>\n",
       "<td>41f8bc91639a7122634ecacddf73c327</td>\n",
       "<td>bias_transfer.trainer.simple_trainer.trainer_fn</td>\n",
       "<td>572fe143f3740b69ed105313f62ef997</td>\n",
       "<td>42</td>\n",
       "<td></td>\n",
       "<td>0</td>\n",
       "<td>Teacher..</td>\n",
       "<td>98.6</td>\n",
       "<td>=BLOB=</td>\n",
       "<td>Arne Nix</td>\n",
       "<td>2021-10-14 18:57:41</td></tr><tr><td>0</td>\n",
       "<td>bias_transfer.models.mnist_1d.model_fn</td>\n",
       "<td>6bed1b925c51bb0f19c1ad78f603e6d4</td>\n",
       "<td>bias_transfer.dataset.mnist_1d.dataset_fn</td>\n",
       "<td>5d3265576c2ca3d98582a0da4748f681</td>\n",
       "<td>bias_transfer.trainer.simple_trainer.trainer_fn</td>\n",
       "<td>572fe143f3740b69ed105313f62ef997</td>\n",
       "<td>42</td>\n",
       "<td></td>\n",
       "<td>0</td>\n",
       "<td>Teacher..</td>\n",
       "<td>98.6</td>\n",
       "<td>=BLOB=</td>\n",
       "<td>Arne Nix</td>\n",
       "<td>2021-10-14 18:56:45</td></tr><tr><td>0</td>\n",
       "<td>bias_transfer.models.mnist_1d.model_fn</td>\n",
       "<td>6bed1b925c51bb0f19c1ad78f603e6d4</td>\n",
       "<td>bias_transfer.dataset.mnist_1d.dataset_fn</td>\n",
       "<td>667bcf58fbb9d89c414cda6ffd87554c</td>\n",
       "<td>bias_transfer.trainer.simple_trainer.trainer_fn</td>\n",
       "<td>572fe143f3740b69ed105313f62ef997</td>\n",
       "<td>42</td>\n",
       "<td></td>\n",
       "<td>0</td>\n",
       "<td>Teacher..</td>\n",
       "<td>98.4</td>\n",
       "<td>=BLOB=</td>\n",
       "<td>Arne Nix</td>\n",
       "<td>2021-10-14 18:58:44</td></tr><tr><td>0</td>\n",
       "<td>bias_transfer.models.mnist_1d.model_fn</td>\n",
       "<td>6bed1b925c51bb0f19c1ad78f603e6d4</td>\n",
       "<td>bias_transfer.dataset.mnist_1d.dataset_fn</td>\n",
       "<td>6a8505725321e01549d2f656175afdd7</td>\n",
       "<td>bias_transfer.trainer.simple_trainer.trainer_fn</td>\n",
       "<td>572fe143f3740b69ed105313f62ef997</td>\n",
       "<td>42</td>\n",
       "<td></td>\n",
       "<td>0</td>\n",
       "<td>Teacher..</td>\n",
       "<td>98.6</td>\n",
       "<td>=BLOB=</td>\n",
       "<td>Arne Nix</td>\n",
       "<td>2021-10-14 18:58:37</td> </tr> </tbody>\n",
       "            </table>\n",
       "            <p>...</p>\n",
       "            <p>Total: 5619</p></div>\n",
       "            "
      ],
      "text/plain": [
       "*transfer_step *model_fn      *model_hash    *dataset_fn    *dataset_hash  *trainer_fn    *trainer_hash  *seed    *collapsed_his *data_transfer comment        score       output     fabrikant_name trainedmodel_t\n",
       "+------------+ +------------+ +------------+ +------------+ +------------+ +------------+ +------------+ +------+ +------------+ +------------+ +------------+ +---------+ +--------+ +------------+ +------------+\n",
       "0              bias_transfer. 302a5fa0d5d194 bias_transfer. 2140f0d175739a bias_transfer. 1402cb4ebc958a 42                      0              Training on MN 54.2883     =BLOB=     Arne Nix       2021-10-14 14:\n",
       "0              bias_transfer. 302a5fa0d5d194 bias_transfer. 34cf5fe50a3e47 bias_transfer. 160eee09a9145f 42                      0              .MNIST mlp.    98.53       =BLOB=     Arne Nix       2021-10-12 21:\n",
       "0              bias_transfer. 725b46c0eca76d bias_transfer. 34cf5fe50a3e47 bias_transfer. e0b2dab4354940 42                      0              Translation In 99.01       =BLOB=     Arne Nix       2021-10-12 21:\n",
       "0              bias_transfer. a3082d06536931 bias_transfer. 34cf5fe50a3e47 bias_transfer. e8b3048d785068 42                      0              Rotation Invar 99.11       =BLOB=     Arne Nix       2021-10-12 23:\n",
       "0              bias_transfer. dfcca836d21f61 bias_transfer. 34cf5fe50a3e47 bias_transfer. 9d505e0710c0cc 42                      0              Noise Augmente 98.74       =BLOB=     Arne Nix       2021-10-12 21:\n",
       "0              bias_transfer. 6bed1b925c51bb bias_transfer. 1f3d3615b4f5a4 bias_transfer. 572fe143f3740b 42                      0              Teacher..      98.4        =BLOB=     Arne Nix       2021-10-14 18:\n",
       "0              bias_transfer. 6bed1b925c51bb bias_transfer. 298c402373eff9 bias_transfer. 572fe143f3740b 42                      0              Teacher..      98.2        =BLOB=     Arne Nix       2021-10-14 18:\n",
       "0              bias_transfer. 6bed1b925c51bb bias_transfer. 3c3b212a6cfc0b bias_transfer. 572fe143f3740b 42                      0              Teacher..      98.4        =BLOB=     Arne Nix       2021-10-14 18:\n",
       "0              bias_transfer. 6bed1b925c51bb bias_transfer. 41f8bc91639a71 bias_transfer. 572fe143f3740b 42                      0              Teacher..      98.6        =BLOB=     Arne Nix       2021-10-14 18:\n",
       "0              bias_transfer. 6bed1b925c51bb bias_transfer. 5d3265576c2ca3 bias_transfer. 572fe143f3740b 42                      0              Teacher..      98.6        =BLOB=     Arne Nix       2021-10-14 18:\n",
       "0              bias_transfer. 6bed1b925c51bb bias_transfer. 667bcf58fbb9d8 bias_transfer. 572fe143f3740b 42                      0              Teacher..      98.4        =BLOB=     Arne Nix       2021-10-14 18:\n",
       "0              bias_transfer. 6bed1b925c51bb bias_transfer. 6a8505725321e0 bias_transfer. 572fe143f3740b 42                      0              Teacher..      98.6        =BLOB=     Arne Nix       2021-10-14 18:\n",
       "   ...\n",
       " (Total: 5619)"
      ]
     },
     "execution_count": 5,
     "metadata": {},
     "output_type": "execute_result"
    }
   ],
   "source": [
    "TransferredTrainedModel()"
   ]
  },
  {
   "cell_type": "code",
   "execution_count": null,
   "metadata": {},
   "outputs": [],
   "source": [
    "DataStorage()"
   ]
  },
  {
   "cell_type": "code",
   "execution_count": null,
   "metadata": {},
   "outputs": [],
   "source": [
    "schema.jobs"
   ]
  },
  {
   "cell_type": "code",
   "execution_count": 11,
   "metadata": {},
   "outputs": [
    {
     "data": {
      "text/plain": [
       "2916"
      ]
     },
     "execution_count": 11,
     "metadata": {},
     "output_type": "execute_result"
    }
   ],
   "source": []
  },
  {
   "cell_type": "code",
   "execution_count": 6,
   "metadata": {},
   "outputs": [],
   "source": [
    "from bias_transfer.analysis.simple_analyzer import *\n",
    "analyzer = SimpleAnalyzer()"
   ]
  },
  {
   "cell_type": "code",
   "execution_count": 7,
   "metadata": {},
   "outputs": [],
   "source": [
    "analyzer.load_data(experiment.transfer_experiments)"
   ]
  },
  {
   "cell_type": "code",
   "execution_count": 8,
   "metadata": {},
   "outputs": [
    {
     "data": {
      "text/plain": [
       "Index(['kd', 'kd_match', 'attention', 'rdl', 'ce', 'Equiv transfer'], dtype='object', name='name')"
      ]
     },
     "execution_count": 8,
     "metadata": {},
     "output_type": "execute_result"
    }
   ],
   "source": [
    "df = analyzer.generate_table()\n",
    "# df.loc[df.index == \"ce\"]\n",
    "df.index.unique()"
   ]
  },
  {
   "cell_type": "code",
   "execution_count": 11,
   "metadata": {},
   "outputs": [
    {
     "name": "stdout",
     "output_type": "stream",
     "text": [
      "         shift     lr  weight_decay  softmax_temp  gamma    0 train  \\\n",
      "name                                                                  \n",
      "Student    0.0  0.001        0.0001           NaN    NaN  83.333333   \n",
      "\n",
      "         Seen Shifts  0 validation  Unseen Shifts  All Shifts  equiv  inv  id  \n",
      "name                                                                           \n",
      "Student         99.9         100.0           14.4        14.4    NaN  NaN NaN  \n",
      "      shift     lr  weight_decay  softmax_temp  gamma    0 train  Seen Shifts  \\\n",
      "name                                                                            \n",
      "KD      0.0  0.001        0.0001           1.0    0.6  83.333333         99.9   \n",
      "\n",
      "      0 validation  Unseen Shifts  All Shifts  equiv  inv  id  \n",
      "name                                                           \n",
      "KD           100.0           14.3        14.3    NaN  NaN NaN  \n",
      "                 shift     lr  weight_decay  softmax_temp  gamma    0 train  \\\n",
      "name                                                                          \n",
      "Direct Matching   10.0  0.001  1.000000e-08           5.0    0.4  83.333333   \n",
      "\n",
      "                 Seen Shifts  0 validation  Unseen Shifts  All Shifts  equiv  \\\n",
      "name                                                                           \n",
      "Direct Matching         98.5          98.0           97.6        98.0    NaN   \n",
      "\n",
      "                 inv  id  \n",
      "name                      \n",
      "Direct Matching  NaN NaN  \n",
      "           shift     lr  weight_decay  softmax_temp  gamma    0 train  \\\n",
      "name                                                                    \n",
      "Attention    0.0  0.001           NaN           NaN    0.9  83.333333   \n",
      "\n",
      "           Seen Shifts  0 validation  Unseen Shifts  All Shifts  equiv  inv  \\\n",
      "name                                                                          \n",
      "Attention         99.9         99.75           13.2        13.2    NaN  NaN   \n",
      "\n",
      "           id  \n",
      "name           \n",
      "Attention NaN  \n",
      "      shift      lr  weight_decay  softmax_temp  gamma    0 train  \\\n",
      "name                                                                \n",
      "RDL     0.0  0.0001           NaN           NaN    0.9  83.277778   \n",
      "\n",
      "      Seen Shifts  0 validation  Unseen Shifts  All Shifts  equiv  inv  id  \n",
      "name                                                                        \n",
      "RDL          99.8          99.0           18.6        18.6    NaN  NaN NaN  \n",
      "       shift    lr  weight_decay  softmax_temp  gamma    0 train  Seen Shifts  \\\n",
      "name                                                                            \n",
      "Orbit   10.0  0.01           NaN           NaN    1.0  79.944444         95.9   \n",
      "\n",
      "       0 validation  Unseen Shifts  All Shifts  equiv   inv    id  \n",
      "name                                                               \n",
      "Orbit          96.5           96.0        96.7    0.1  10.0  10.0  \n"
     ]
    },
    {
     "name": "stderr",
     "output_type": "stream",
     "text": [
      "No handles with labels found to put in legend.\n"
     ]
    },
    {
     "data": {
      "text/plain": [
       "(<Figure size 554.4x85.6595 with 6 Axes>,\n",
       " [array([<AxesSubplot:title={'center':'Student'}, xlabel='Shift in Training', ylabel='Accuracy [%]'>,\n",
       "         <AxesSubplot:title={'center':'KD'}>,\n",
       "         <AxesSubplot:title={'center':'Direct Matching'}>,\n",
       "         <AxesSubplot:title={'center':'Attention'}>,\n",
       "         <AxesSubplot:title={'center':'RDL'}>,\n",
       "         <AxesSubplot:title={'center':'Orbit'}>], dtype=object)])"
      ]
     },
     "execution_count": 11,
     "metadata": {},
     "output_type": "execute_result"
    }
   ],
   "source": [
    "analyzer.plot_gamma_line(None, style=\"light_nips_tex\", save=\"baselines_fully_conv_shift\", fraction=1.4, x_var=\"shift\", x_var_rename=\"Shift in Training\", ncols=6, nrows=1, tight=False, drop=[], figure_height_scale=0.25, sharex=True, sharey=True,\n",
    "                        names={\"ce\":\"Student\",\"kd\":\"KD\", \"kd_match\":\"Direct Matching\",\"attention\":\"Attention\", \"rdl\":\"RDL\", \"Equiv transfer\":\"Orbit\"},\n",
    "                        xticks=(0,20,40))\n",
    "# analyzer.plot_gamma_line(None, style=\"light_nips_tex\", save=\"Pool_Equiv_Shift_5\", fraction=0.5, title=\"Equivariance Transfer\", x_var=\"shift\", x_var_rename=\"Shift in Training\")\n",
    "# analyzer.plot_gamma_line(None, style=\"light_nips_tex\", save=\"Pool_Equiv_Shift_3\", fraction=0.3, title=\"Equivariance Transfer\", x_var=\"shift\", x_var_rename=\"Shift in Training\")"
   ]
  },
  {
   "cell_type": "code",
   "execution_count": 18,
   "metadata": {},
   "outputs": [
    {
     "name": "stdout",
     "output_type": "stream",
     "text": [
      "         shift     lr  softmax_temp  gamma    0 train  Seen Shifts  \\\n",
      "name                                                                 \n",
      "Student    0.0  0.001           NaN    NaN  83.333333         99.8   \n",
      "\n",
      "         0 validation  Unseen Shifts  All Shifts  equiv  inv  id  \n",
      "name                                                              \n",
      "Student         99.75           13.1        13.1    NaN  NaN NaN  \n",
      "                 shift    lr  softmax_temp  gamma    0 train  Seen Shifts  \\\n",
      "name                                                                        \n",
      "Direct Matching    0.0  0.01          10.0    0.1  83.333333         99.8   \n",
      "\n",
      "                 0 validation  Unseen Shifts  All Shifts  equiv  inv  id  \n",
      "name                                                                      \n",
      "Direct Matching         99.75           17.8        17.8    NaN  NaN NaN  \n"
     ]
    },
    {
     "name": "stderr",
     "output_type": "stream",
     "text": [
      "No handles with labels found to put in legend.\n"
     ]
    },
    {
     "name": "stdout",
     "output_type": "stream",
     "text": [
      "       shift    lr  softmax_temp  gamma    0 train  Seen Shifts  0 validation  \\\n",
      "name                                                                            \n",
      "Orbit   25.0  0.01           NaN    1.0  64.333333         77.8         75.75   \n",
      "\n",
      "       Unseen Shifts  All Shifts  equiv   inv   id  \n",
      "name                                                \n",
      "Orbit           77.4        77.5    0.1  10.0  1.0  \n"
     ]
    },
    {
     "data": {
      "text/plain": [
       "(<Figure size 277.2x94.2255 with 3 Axes>,\n",
       " [array([<AxesSubplot:title={'center':'Student'}, xlabel='Shift in Training', ylabel='Accuracy [%]'>,\n",
       "         <AxesSubplot:title={'center':'Direct Matching'}>,\n",
       "         <AxesSubplot:title={'center':'Orbit'}>], dtype=object)])"
      ]
     },
     "execution_count": 18,
     "metadata": {},
     "output_type": "execute_result"
    }
   ],
   "source": [
    "analyzer.plot_gamma_line(None, style=\"light_nips_tex\", save=\"baselines_shift\", fraction=0.7, x_var=\"shift\", x_var_rename=\"Shift in Training\", ncols=3, nrows=1, tight=False, drop=[\"kd\",  \"attention\", \"rdl\" ], figure_height_scale=0.55, sharex=True, sharey=True,\n",
    "                        names={\"ce\":\"Student\", \"kd_match\":\"Direct Matching\", \"Equiv transfer\":\"Orbit\"},\n",
    "                        xticks=(0,20,40))\n",
    "# analyzer.plot_gamma_line(None, style=\"light_nips_tex\", save=\"Pool_Equiv_Shift_5\", fraction=0.5, title=\"Equivariance Transfer\", x_var=\"shift\", x_var_rename=\"Shift in Training\")\n",
    "# analyzer.plot_gamma_line(None, style=\"light_nips_tex\", save=\"Pool_Equiv_Shift_3\", fraction=0.3, title=\"Equivariance Transfer\", x_var=\"shift\", x_var_rename=\"Shift in Training\")"
   ]
  },
  {
   "cell_type": "code",
   "execution_count": 9,
   "metadata": {},
   "outputs": [
    {
     "name": "stdout",
     "output_type": "stream",
     "text": [
      "> \u001b[0;32m/usr/local/lib/python3.8/dist-packages/pandas/core/nanops.py\u001b[0m(924)\u001b[0;36mnanargmax\u001b[0;34m()\u001b[0m\n",
      "\u001b[0;32m    922 \u001b[0;31m    \"\"\"\n",
      "\u001b[0m\u001b[0;32m    923 \u001b[0;31m    \u001b[0mvalues\u001b[0m\u001b[0;34m,\u001b[0m \u001b[0mmask\u001b[0m\u001b[0;34m,\u001b[0m \u001b[0m_\u001b[0m\u001b[0;34m,\u001b[0m \u001b[0m_\u001b[0m\u001b[0;34m,\u001b[0m \u001b[0m_\u001b[0m \u001b[0;34m=\u001b[0m \u001b[0m_get_values\u001b[0m\u001b[0;34m(\u001b[0m\u001b[0mvalues\u001b[0m\u001b[0;34m,\u001b[0m \u001b[0;32mTrue\u001b[0m\u001b[0;34m,\u001b[0m \u001b[0mfill_value_typ\u001b[0m\u001b[0;34m=\u001b[0m\u001b[0;34m\"-inf\"\u001b[0m\u001b[0;34m,\u001b[0m \u001b[0mmask\u001b[0m\u001b[0;34m=\u001b[0m\u001b[0mmask\u001b[0m\u001b[0;34m)\u001b[0m\u001b[0;34m\u001b[0m\u001b[0;34m\u001b[0m\u001b[0m\n",
      "\u001b[0m\u001b[0;32m--> 924 \u001b[0;31m    \u001b[0mresult\u001b[0m \u001b[0;34m=\u001b[0m \u001b[0mvalues\u001b[0m\u001b[0;34m.\u001b[0m\u001b[0margmax\u001b[0m\u001b[0;34m(\u001b[0m\u001b[0maxis\u001b[0m\u001b[0;34m)\u001b[0m\u001b[0;34m\u001b[0m\u001b[0;34m\u001b[0m\u001b[0m\n",
      "\u001b[0m\u001b[0;32m    925 \u001b[0;31m    \u001b[0mresult\u001b[0m \u001b[0;34m=\u001b[0m \u001b[0m_maybe_arg_null_out\u001b[0m\u001b[0;34m(\u001b[0m\u001b[0mresult\u001b[0m\u001b[0;34m,\u001b[0m \u001b[0maxis\u001b[0m\u001b[0;34m,\u001b[0m \u001b[0mmask\u001b[0m\u001b[0;34m,\u001b[0m \u001b[0mskipna\u001b[0m\u001b[0;34m)\u001b[0m\u001b[0;34m\u001b[0m\u001b[0;34m\u001b[0m\u001b[0m\n",
      "\u001b[0m\u001b[0;32m    926 \u001b[0;31m    \u001b[0;32mreturn\u001b[0m \u001b[0mresult\u001b[0m\u001b[0;34m\u001b[0m\u001b[0;34m\u001b[0m\u001b[0m\n",
      "\u001b[0m\n"
     ]
    },
    {
     "name": "stdin",
     "output_type": "stream",
     "text": [
      "ipdb>  u\n"
     ]
    },
    {
     "name": "stdout",
     "output_type": "stream",
     "text": [
      "> \u001b[0;32m/usr/local/lib/python3.8/dist-packages/pandas/core/nanops.py\u001b[0m(71)\u001b[0;36m_f\u001b[0;34m()\u001b[0m\n",
      "\u001b[0;32m     69 \u001b[0;31m            \u001b[0;32mtry\u001b[0m\u001b[0;34m:\u001b[0m\u001b[0;34m\u001b[0m\u001b[0;34m\u001b[0m\u001b[0m\n",
      "\u001b[0m\u001b[0;32m     70 \u001b[0;31m                \u001b[0;32mwith\u001b[0m \u001b[0mnp\u001b[0m\u001b[0;34m.\u001b[0m\u001b[0merrstate\u001b[0m\u001b[0;34m(\u001b[0m\u001b[0minvalid\u001b[0m\u001b[0;34m=\u001b[0m\u001b[0;34m\"ignore\"\u001b[0m\u001b[0;34m)\u001b[0m\u001b[0;34m:\u001b[0m\u001b[0;34m\u001b[0m\u001b[0;34m\u001b[0m\u001b[0m\n",
      "\u001b[0m\u001b[0;32m---> 71 \u001b[0;31m                    \u001b[0;32mreturn\u001b[0m \u001b[0mf\u001b[0m\u001b[0;34m(\u001b[0m\u001b[0;34m*\u001b[0m\u001b[0margs\u001b[0m\u001b[0;34m,\u001b[0m \u001b[0;34m**\u001b[0m\u001b[0mkwargs\u001b[0m\u001b[0;34m)\u001b[0m\u001b[0;34m\u001b[0m\u001b[0;34m\u001b[0m\u001b[0m\n",
      "\u001b[0m\u001b[0;32m     72 \u001b[0;31m            \u001b[0;32mexcept\u001b[0m \u001b[0mValueError\u001b[0m \u001b[0;32mas\u001b[0m \u001b[0me\u001b[0m\u001b[0;34m:\u001b[0m\u001b[0;34m\u001b[0m\u001b[0;34m\u001b[0m\u001b[0m\n",
      "\u001b[0m\u001b[0;32m     73 \u001b[0;31m                \u001b[0;31m# we want to transform an object array\u001b[0m\u001b[0;34m\u001b[0m\u001b[0;34m\u001b[0m\u001b[0;34m\u001b[0m\u001b[0m\n",
      "\u001b[0m\n"
     ]
    },
    {
     "name": "stdin",
     "output_type": "stream",
     "text": [
      "ipdb>  u\n"
     ]
    },
    {
     "name": "stdout",
     "output_type": "stream",
     "text": [
      "> \u001b[0;32m/usr/local/lib/python3.8/dist-packages/pandas/core/base.py\u001b[0m(956)\u001b[0;36margmax\u001b[0;34m()\u001b[0m\n",
      "\u001b[0;32m    954 \u001b[0;31m        \u001b[0mnv\u001b[0m\u001b[0;34m.\u001b[0m\u001b[0mvalidate_minmax_axis\u001b[0m\u001b[0;34m(\u001b[0m\u001b[0maxis\u001b[0m\u001b[0;34m)\u001b[0m\u001b[0;34m\u001b[0m\u001b[0;34m\u001b[0m\u001b[0m\n",
      "\u001b[0m\u001b[0;32m    955 \u001b[0;31m        \u001b[0mnv\u001b[0m\u001b[0;34m.\u001b[0m\u001b[0mvalidate_argmax_with_skipna\u001b[0m\u001b[0;34m(\u001b[0m\u001b[0mskipna\u001b[0m\u001b[0;34m,\u001b[0m \u001b[0margs\u001b[0m\u001b[0;34m,\u001b[0m \u001b[0mkwargs\u001b[0m\u001b[0;34m)\u001b[0m\u001b[0;34m\u001b[0m\u001b[0;34m\u001b[0m\u001b[0m\n",
      "\u001b[0m\u001b[0;32m--> 956 \u001b[0;31m        \u001b[0;32mreturn\u001b[0m \u001b[0mnanops\u001b[0m\u001b[0;34m.\u001b[0m\u001b[0mnanargmax\u001b[0m\u001b[0;34m(\u001b[0m\u001b[0mself\u001b[0m\u001b[0;34m.\u001b[0m\u001b[0m_values\u001b[0m\u001b[0;34m,\u001b[0m \u001b[0mskipna\u001b[0m\u001b[0;34m=\u001b[0m\u001b[0mskipna\u001b[0m\u001b[0;34m)\u001b[0m\u001b[0;34m\u001b[0m\u001b[0;34m\u001b[0m\u001b[0m\n",
      "\u001b[0m\u001b[0;32m    957 \u001b[0;31m\u001b[0;34m\u001b[0m\u001b[0m\n",
      "\u001b[0m\u001b[0;32m    958 \u001b[0;31m    \u001b[0;32mdef\u001b[0m \u001b[0mmin\u001b[0m\u001b[0;34m(\u001b[0m\u001b[0mself\u001b[0m\u001b[0;34m,\u001b[0m \u001b[0maxis\u001b[0m\u001b[0;34m=\u001b[0m\u001b[0;32mNone\u001b[0m\u001b[0;34m,\u001b[0m \u001b[0mskipna\u001b[0m\u001b[0;34m=\u001b[0m\u001b[0;32mTrue\u001b[0m\u001b[0;34m,\u001b[0m \u001b[0;34m*\u001b[0m\u001b[0margs\u001b[0m\u001b[0;34m,\u001b[0m \u001b[0;34m**\u001b[0m\u001b[0mkwargs\u001b[0m\u001b[0;34m)\u001b[0m\u001b[0;34m:\u001b[0m\u001b[0;34m\u001b[0m\u001b[0;34m\u001b[0m\u001b[0m\n",
      "\u001b[0m\n"
     ]
    },
    {
     "name": "stdin",
     "output_type": "stream",
     "text": [
      "ipdb>  u\n"
     ]
    },
    {
     "name": "stdout",
     "output_type": "stream",
     "text": [
      "> \u001b[0;32m/home/anix/projects/bias_transfer/bias_transfer/analysis/simple_analyzer.py\u001b[0m(176)\u001b[0;36msingle_plot\u001b[0;34m()\u001b[0m\n",
      "\u001b[0;32m    174 \u001b[0;31m    ):\n",
      "\u001b[0m\u001b[0;32m    175 \u001b[0;31m        \u001b[0mmax_df\u001b[0m \u001b[0;34m=\u001b[0m \u001b[0mdf\u001b[0m\u001b[0;34m\u001b[0m\u001b[0;34m\u001b[0m\u001b[0m\n",
      "\u001b[0m\u001b[0;32m--> 176 \u001b[0;31m        \u001b[0mmax_row\u001b[0m \u001b[0;34m=\u001b[0m \u001b[0mdf\u001b[0m\u001b[0;34m.\u001b[0m\u001b[0miloc\u001b[0m\u001b[0;34m[\u001b[0m\u001b[0;34m[\u001b[0m\u001b[0mdf\u001b[0m\u001b[0;34m[\u001b[0m\u001b[0;34m\"Seen Shifts\"\u001b[0m\u001b[0;34m]\u001b[0m\u001b[0;34m.\u001b[0m\u001b[0margmax\u001b[0m\u001b[0;34m(\u001b[0m\u001b[0;34m)\u001b[0m\u001b[0;34m]\u001b[0m\u001b[0;34m]\u001b[0m\u001b[0;34m\u001b[0m\u001b[0;34m\u001b[0m\u001b[0m\n",
      "\u001b[0m\u001b[0;32m    177 \u001b[0;31m        \u001b[0mprint\u001b[0m\u001b[0;34m(\u001b[0m\u001b[0mmax_row\u001b[0m\u001b[0;34m)\u001b[0m\u001b[0;34m\u001b[0m\u001b[0;34m\u001b[0m\u001b[0m\n",
      "\u001b[0m\u001b[0;32m    178 \u001b[0;31m        \u001b[0;32mfor\u001b[0m \u001b[0mvar\u001b[0m \u001b[0;32min\u001b[0m \u001b[0mid_vars\u001b[0m\u001b[0;34m:\u001b[0m\u001b[0;34m\u001b[0m\u001b[0;34m\u001b[0m\u001b[0m\n",
      "\u001b[0m\n"
     ]
    },
    {
     "name": "stdin",
     "output_type": "stream",
     "text": [
      "ipdb>  u\n"
     ]
    },
    {
     "name": "stdout",
     "output_type": "stream",
     "text": [
      "> \u001b[0;32m/home/anix/projects/bias_transfer/bias_transfer/analysis/simple_analyzer.py\u001b[0m(150)\u001b[0;36mplot_gamma_line\u001b[0;34m()\u001b[0m\n",
      "\u001b[0;32m    148 \u001b[0;31m            \u001b[0mc\u001b[0m \u001b[0;34m=\u001b[0m \u001b[0mi\u001b[0m \u001b[0;34m%\u001b[0m \u001b[0mcols\u001b[0m\u001b[0;34m\u001b[0m\u001b[0;34m\u001b[0m\u001b[0m\n",
      "\u001b[0m\u001b[0;32m    149 \u001b[0;31m            \u001b[0msub_df\u001b[0m \u001b[0;34m=\u001b[0m \u001b[0mdf\u001b[0m\u001b[0;34m.\u001b[0m\u001b[0mloc\u001b[0m\u001b[0;34m[\u001b[0m\u001b[0mdf\u001b[0m\u001b[0;34m.\u001b[0m\u001b[0mindex\u001b[0m \u001b[0;34m==\u001b[0m \u001b[0mname\u001b[0m\u001b[0;34m]\u001b[0m\u001b[0;34m\u001b[0m\u001b[0;34m\u001b[0m\u001b[0m\n",
      "\u001b[0m\u001b[0;32m--> 150 \u001b[0;31m            self.single_plot(\n",
      "\u001b[0m\u001b[0;32m    151 \u001b[0;31m                \u001b[0msub_df\u001b[0m\u001b[0;34m,\u001b[0m\u001b[0;34m\u001b[0m\u001b[0;34m\u001b[0m\u001b[0m\n",
      "\u001b[0m\u001b[0;32m    152 \u001b[0;31m                \u001b[0max\u001b[0m\u001b[0;34m[\u001b[0m\u001b[0mr\u001b[0m\u001b[0;34m]\u001b[0m\u001b[0;34m[\u001b[0m\u001b[0mc\u001b[0m\u001b[0;34m]\u001b[0m\u001b[0;34m,\u001b[0m\u001b[0;34m\u001b[0m\u001b[0;34m\u001b[0m\u001b[0m\n",
      "\u001b[0m\n"
     ]
    },
    {
     "name": "stdin",
     "output_type": "stream",
     "text": [
      "ipdb>  name\n"
     ]
    },
    {
     "name": "stdout",
     "output_type": "stream",
     "text": [
      "'KD'\n"
     ]
    },
    {
     "name": "stdin",
     "output_type": "stream",
     "text": [
      "ipdb>  q\n"
     ]
    }
   ],
   "source": [
    "%debug"
   ]
  },
  {
   "cell_type": "code",
   "execution_count": 17,
   "metadata": {},
   "outputs": [
    {
     "name": "stdout",
     "output_type": "stream",
     "text": [
      "         lr  weight_decay  hidden_dim    0 train  Seen Shifts  0 validation  \\\n",
      "name                                                                          \n",
      "ce    0.001        0.0001       600.0  83.333333         50.4         54.25   \n",
      "\n",
      "      Unseen Shifts  All Shifts  gamma   T  equiv  inv  id  \n",
      "name                                                        \n",
      "ce             11.1        40.0    NaN NaN    NaN  NaN NaN  \n",
      "         lr  weight_decay  hidden_dim    0 train  Seen Shifts  0 validation  \\\n",
      "name                                                                          \n",
      "KD    0.001        0.0001       600.0  83.333333         52.3         52.25   \n",
      "\n",
      "      Unseen Shifts  All Shifts  gamma    T  equiv  inv  id  \n",
      "name                                                         \n",
      "KD             13.5        39.0    0.6  1.0    NaN  NaN NaN  \n",
      "                    lr  weight_decay  hidden_dim    0 train  Seen Shifts  \\\n",
      "name                                                                       \n",
      "Direct Matching  0.001  1.000000e-08         NaN  83.333333         97.2   \n",
      "\n",
      "                 0 validation  Unseen Shifts  All Shifts  gamma    T  equiv  \\\n",
      "name                                                                          \n",
      "Direct Matching          96.0           90.6        94.5    0.4  5.0    NaN   \n",
      "\n",
      "                 inv  id  \n",
      "name                      \n",
      "Direct Matching  NaN NaN  \n",
      "          lr  weight_decay  hidden_dim    0 train  Seen Shifts  0 validation  \\\n",
      "name                                                                           \n",
      "RDL   0.0001           NaN         NaN  82.666667         55.6         51.25   \n",
      "\n",
      "      Unseen Shifts  All Shifts  gamma   T  equiv  inv  id  \n",
      "name                                                        \n",
      "RDL            14.4        42.6    0.9 NaN    NaN  NaN NaN  \n",
      "         lr  weight_decay  hidden_dim    0 train  Seen Shifts  0 validation  \\\n",
      "name                                                                          \n",
      "cka   0.001           NaN         NaN  83.333333         56.9          57.0   \n",
      "\n",
      "      Unseen Shifts  All Shifts  gamma   T  equiv  inv  id  \n",
      "name                                                        \n",
      "cka            17.6        45.7    0.9 NaN    NaN  NaN NaN  \n",
      "              lr  weight_decay  hidden_dim    0 train  Seen Shifts  \\\n",
      "name                                                                 \n",
      "Attention  0.001           NaN         NaN  83.333333         55.8   \n",
      "\n",
      "           0 validation  Unseen Shifts  All Shifts  gamma   T  equiv  inv  id  \n",
      "name                                                                           \n",
      "Attention          60.0           12.0        43.0    0.9 NaN    NaN  NaN NaN  \n",
      "         lr  weight_decay  hidden_dim  0 train  Seen Shifts  0 validation  \\\n",
      "name                                                                        \n",
      "Orbit  0.01           NaN         NaN     79.5         95.4         95.75   \n",
      "\n",
      "       Unseen Shifts  All Shifts  gamma   T  equiv   inv    id  \n",
      "name                                                            \n",
      "Orbit           95.7        95.7    1.0 NaN    0.1  10.0  10.0  \n"
     ]
    },
    {
     "name": "stderr",
     "output_type": "stream",
     "text": [
      "No handles with labels found to put in legend.\n"
     ]
    },
    {
     "data": {
      "text/plain": [
       "(<Figure size 475.2x102.791 with 7 Axes>,\n",
       " [array([<AxesSubplot:title={'center':'ce'}, ylabel='Accuracy [%]'>,\n",
       "         <AxesSubplot:title={'center':'KD'}, xlabel='$\\\\gamma$'>,\n",
       "         <AxesSubplot:title={'center':'Direct Matching'}, xlabel='$\\\\gamma$'>,\n",
       "         <AxesSubplot:title={'center':'RDL'}, xlabel='$\\\\gamma$'>,\n",
       "         <AxesSubplot:title={'center':'cka'}, xlabel='$\\\\gamma$'>,\n",
       "         <AxesSubplot:title={'center':'Attention'}, xlabel='$\\\\gamma$'>,\n",
       "         <AxesSubplot:title={'center':'Orbit'}, xlabel='$\\\\gamma$'>],\n",
       "        dtype=object)])"
      ]
     },
     "execution_count": 17,
     "metadata": {},
     "output_type": "execute_result"
    }
   ],
   "source": [
    "analyzer.plot_gamma_line(None, style=\"light_nips_tex\", save=\"baselines_fully_conv_gamma3\", fraction=1.2, x_var=\"gamma\", x_var_rename=\"$\\gamma$\", ncols=7, nrows=1, tight=False, drop=[], figure_height_scale=0.35, sharex=True, sharey=True,\n",
    "                        names={\"kd\":\"KD\", \"rdl\":\"RDL\", \"kd_match\":\"Direct Matching\", \"attention\":\"Attention\", \"Equiv transfer\":\"Orbit\"})\n",
    "# analyzer.plot_gamma_line(None, style=\"light_nips_tex\", save=\"Pool_Equiv_Shift_5\", fraction=0.5, title=\"Equivariance Transfer\", x_var=\"shift\", x_var_rename=\"Shift in Training\")\n",
    "# analyzer.plot_gamma_line(None, style=\"light_nips_tex\", save=\"Pool_Equiv_Shift_3\", fraction=0.3, title=\"Equivariance Transfer\", x_var=\"shift\", x_var_rename=\"Shift in Training\")"
   ]
  },
  {
   "cell_type": "code",
   "execution_count": 11,
   "metadata": {},
   "outputs": [
    {
     "name": "stdout",
     "output_type": "stream",
     "text": [
      "         shift     lr  softmax_temp  gamma    0 train  Seen Shifts  \\\n",
      "name                                                                 \n",
      "Student    0.0  0.001           NaN    NaN  83.333333         99.8   \n",
      "\n",
      "         0 validation  Unseen Shifts  All Shifts  equiv  inv  id  \n",
      "name                                                              \n",
      "Student         99.75           13.1        13.1    NaN  NaN NaN  \n",
      "                 shift    lr  softmax_temp  gamma    0 train  Seen Shifts  \\\n",
      "name                                                                        \n",
      "Direct Matching    0.0  0.01          10.0    0.1  83.333333         99.8   \n",
      "\n",
      "                 0 validation  Unseen Shifts  All Shifts  equiv  inv  id  \n",
      "name                                                                      \n",
      "Direct Matching         99.75           17.8        17.8    NaN  NaN NaN  \n",
      "       shift    lr  softmax_temp  gamma    0 train  Seen Shifts  0 validation  \\\n",
      "name                                                                            \n",
      "Orbit   25.0  0.01           NaN    1.0  64.333333         77.8         75.75   \n",
      "\n",
      "       Unseen Shifts  All Shifts  equiv   inv   id  \n",
      "name                                                \n",
      "Orbit           77.4        77.5    0.1  10.0  1.0  \n"
     ]
    },
    {
     "name": "stderr",
     "output_type": "stream",
     "text": [
      "No handles with labels found to put in legend.\n"
     ]
    },
    {
     "data": {
      "text/plain": [
       "(<Figure size 475.2x102.791 with 7 Axes>,\n",
       " [array([<AxesSubplot:title={'center':'Student'}, ylabel='Accuracy [%]'>,\n",
       "         <AxesSubplot:title={'center':'Direct Matching'}>,\n",
       "         <AxesSubplot:title={'center':'Orbit'}>, <AxesSubplot:>,\n",
       "         <AxesSubplot:>, <AxesSubplot:>, <AxesSubplot:>], dtype=object)])"
      ]
     },
     "execution_count": 11,
     "metadata": {},
     "output_type": "execute_result"
    }
   ],
   "source": [
    "analyzer.plot_gamma_line(None, style=\"light_nips_tex\", save=\"baselines_fully_conv_gamma3\", fraction=1.2, x_var=\"gamma\", x_var_rename=\"$\\gamma$\", ncols=7, nrows=1, tight=False, drop=[], figure_height_scale=0.35, sharex=True, sharey=True,\n",
    "                        names={\"ce\":\"Student\",\"kd_match\":\"Direct Matching\", \"Equiv transfer\":\"Orbit\"})\n",
    "# analyzer.plot_gamma_line(None, style=\"light_nips_tex\", save=\"Pool_Equiv_Shift_5\", fraction=0.5, title=\"Equivariance Transfer\", x_var=\"shift\", x_var_rename=\"Shift in Training\")\n",
    "# analyzer.plot_gamma_line(None, style=\"light_nips_tex\", save=\"Pool_Equiv_Shift_3\", fraction=0.3, title=\"Equivariance Transfer\", x_var=\"shift\", x_var_rename=\"Shift in Training\")"
   ]
  },
  {
   "cell_type": "code",
   "execution_count": 15,
   "metadata": {},
   "outputs": [
    {
     "name": "stdout",
     "output_type": "stream",
     "text": [
      "                    Train  Validation  Validation + Shift  Test + Shift  \\\n",
      "name                                                                      \n",
      "Equiv transfer  98.805556        98.5                98.5          98.2   \n",
      "\n",
      "                shift  gamma    lr  equiv  inv   id  \n",
      "name                                                 \n",
      "Equiv transfer   15.0    1.0  0.01    1.0  1.0  1.0  \n"
     ]
    },
    {
     "data": {
      "text/plain": [
       "(<Figure size 396x244.741 with 1 Axes>,\n",
       " [[<AxesSubplot:xlabel='Shift in Training', ylabel='Accuracy [%]'>]])"
      ]
     },
     "execution_count": 15,
     "metadata": {},
     "output_type": "execute_result"
    }
   ],
   "source": [
    "# analyzer.plot_gamma_line(None, style=\"light_nips_tex\", save=\"Pool_Equiv_Shift_1\", fraction=1.0, title=\"Equivariance\")\n",
    "# analyzer.plot_gamma_line(None, style=\"light_nips_tex\", save=\"Pool_Equiv_Shift_5\", fraction=0.5, title=\"Equivariance\")\n",
    "# analyzer.plot_gamma_line(None, style=\"light_nips_tex\", save=\"Pool_Equiv_Shift_3\", fraction=0.3, title=\"Equivariance\", legend_outside=True)"
   ]
  },
  {
   "cell_type": "code",
   "execution_count": 20,
   "metadata": {},
   "outputs": [
    {
     "data": {
      "text/html": [
       "\n",
       "        \n",
       "        <style type=\"text/css\">\n",
       "            .Relation{\n",
       "                border-collapse:collapse;\n",
       "            }\n",
       "            .Relation th{\n",
       "                background: #A0A0A0; color: #ffffff; padding:4px; border:#f0e0e0 1px solid;\n",
       "                font-weight: normal; font-family: monospace; font-size: 100%;\n",
       "            }\n",
       "            .Relation td{\n",
       "                padding:4px; border:#f0e0e0 1px solid; font-size:100%;\n",
       "            }\n",
       "            .Relation tr:nth-child(odd){\n",
       "                background: #ffffff;\n",
       "            }\n",
       "            .Relation tr:nth-child(even){\n",
       "                background: #f3f1ff;\n",
       "            }\n",
       "            /* Tooltip container */\n",
       "            .djtooltip {\n",
       "            }\n",
       "            /* Tooltip text */\n",
       "            .djtooltip .djtooltiptext {\n",
       "                visibility: hidden;\n",
       "                width: 120px;\n",
       "                background-color: black;\n",
       "                color: #fff;\n",
       "                text-align: center;\n",
       "                padding: 5px 0;\n",
       "                border-radius: 6px;\n",
       "                /* Position the tooltip text - see examples below! */\n",
       "                position: absolute;\n",
       "                z-index: 1;\n",
       "            }\n",
       "            #primary {\n",
       "                font-weight: bold;\n",
       "                color: black;\n",
       "            }\n",
       "\n",
       "            #nonprimary {\n",
       "                font-weight: normal;\n",
       "                color: white;\n",
       "            }\n",
       "\n",
       "            /* Show the tooltip text when you mouse over the tooltip container */\n",
       "            .djtooltip:hover .djtooltiptext {\n",
       "                visibility: visible;\n",
       "            }\n",
       "        </style>\n",
       "        \n",
       "        <b>job reservation table for `bias_transfer__2021_09_24_aistats`</b>\n",
       "            <div style=\"max-height:1000px;max-width:1500px;overflow:auto;\">\n",
       "            <table border=\"1\" class=\"Relation\">\n",
       "                <thead> <tr style=\"text-align: right;\"> <th> <div class=\"djtooltip\">\n",
       "                                <p id=\"primary\">table_name</p>\n",
       "                                <span class=\"djtooltiptext\">className of the table</span>\n",
       "                            </div></th><th><div class=\"djtooltip\">\n",
       "                                <p id=\"primary\">key_hash</p>\n",
       "                                <span class=\"djtooltiptext\">key hash</span>\n",
       "                            </div></th><th><div class=\"djtooltip\">\n",
       "                                <p id=\"nonprimary\">status</p>\n",
       "                                <span class=\"djtooltiptext\">if tuple is missing, the job is available</span>\n",
       "                            </div></th><th><div class=\"djtooltip\">\n",
       "                                <p id=\"nonprimary\">key</p>\n",
       "                                <span class=\"djtooltiptext\">structure containing the key</span>\n",
       "                            </div></th><th><div class=\"djtooltip\">\n",
       "                                <p id=\"nonprimary\">error_message</p>\n",
       "                                <span class=\"djtooltiptext\">error message returned if failed</span>\n",
       "                            </div></th><th><div class=\"djtooltip\">\n",
       "                                <p id=\"nonprimary\">error_stack</p>\n",
       "                                <span class=\"djtooltiptext\">error stack if failed</span>\n",
       "                            </div></th><th><div class=\"djtooltip\">\n",
       "                                <p id=\"nonprimary\">user</p>\n",
       "                                <span class=\"djtooltiptext\">database user</span>\n",
       "                            </div></th><th><div class=\"djtooltip\">\n",
       "                                <p id=\"nonprimary\">host</p>\n",
       "                                <span class=\"djtooltiptext\">system hostname</span>\n",
       "                            </div></th><th><div class=\"djtooltip\">\n",
       "                                <p id=\"nonprimary\">pid</p>\n",
       "                                <span class=\"djtooltiptext\">system process id</span>\n",
       "                            </div></th><th><div class=\"djtooltip\">\n",
       "                                <p id=\"nonprimary\">connection_id</p>\n",
       "                                <span class=\"djtooltiptext\">connection_id()</span>\n",
       "                            </div></th><th><div class=\"djtooltip\">\n",
       "                                <p id=\"nonprimary\">timestamp</p>\n",
       "                                <span class=\"djtooltiptext\">automatic timestamp</span>\n",
       "                            </div> </th> </tr> </thead>\n",
       "                <tbody> <tr>  </tr> </tbody>\n",
       "            </table>\n",
       "            \n",
       "            <p>Total: 0</p></div>\n",
       "            "
      ],
      "text/plain": [
       "*table_name    *key_hash    status     key        error_message  error_stac user     host     pid     connection_id  timestamp    \n",
       "+------------+ +----------+ +--------+ +--------+ +------------+ +--------+ +------+ +------+ +-----+ +------------+ +-----------+\n",
       "\n",
       " (Total: 0)"
      ]
     },
     "execution_count": 20,
     "metadata": {},
     "output_type": "execute_result"
    }
   ],
   "source": [
    "schema.jobs"
   ]
  },
  {
   "cell_type": "code",
   "execution_count": 30,
   "metadata": {},
   "outputs": [],
   "source": [
    "# dElete all jobs in error state:\n",
    "if schema.database != \"nnfabrik_core\": \n",
    "    (schema.jobs & \"status='error'\").delete()"
   ]
  },
  {
   "cell_type": "code",
   "execution_count": null,
   "metadata": {},
   "outputs": [],
   "source": []
  }
 ],
 "metadata": {
  "kernelspec": {
   "display_name": "env",
   "language": "python",
   "name": "env"
  },
  "language_info": {
   "codemirror_mode": {
    "name": "ipython",
    "version": 3
   },
   "file_extension": ".py",
   "mimetype": "text/x-python",
   "name": "python",
   "nbconvert_exporter": "python",
   "pygments_lexer": "ipython3",
   "version": "3.8.2"
  }
 },
 "nbformat": 4,
 "nbformat_minor": 4
}
